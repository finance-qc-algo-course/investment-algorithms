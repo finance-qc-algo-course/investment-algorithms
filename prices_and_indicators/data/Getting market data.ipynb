{
 "cells": [
  {
   "cell_type": "code",
   "execution_count": 3,
   "id": "36ca41d0",
   "metadata": {},
   "outputs": [],
   "source": [
    "import pandas as pd\n",
    "import numpy as np\n",
    "import requests\n",
    "import re\n",
    "import os\n",
    "from time import sleep\n",
    "from tqdm import tqdm\n",
    "from functools import reduce\n",
    "\n",
    "import datetime"
   ]
  },
  {
   "cell_type": "code",
   "execution_count": 4,
   "id": "10d879c6",
   "metadata": {},
   "outputs": [],
   "source": [
    "BASE_GOOGLE_FINANCE_URL = \"https://api.polygon.io/v2/aggs/ticker/{TICKER}/range/{INTERVAL}/\" +\\\n",
    "                          \"{RANGE}/{FROM_DATE}/{TO_DATE}?limit=50000&apiKey=MNxlbyNXPpKmAki1jcScqmXxzPvdXWYT\"\n",
    "\n",
    "# TOKENS = [\n",
    "#     \"AAPL\", \"GOOG\", \"MSFT\", \"TSLA\", \"NVDA\", \"AMZN\",\n",
    "#     \"FB\", \"BABA\", \"CRM\", \"INTC\", \"AMD\", \"PYPL\", \"ATVI\",\n",
    "#     \"EA\", \"TTD\", \"MTCH\", \"ZG\", \"YELP\"\n",
    "# ]\n",
    "TOKENS = [\"X:BTCUSD\"]\n",
    "\n",
    "TIME_INTERVAL = 15\n",
    "TIME_UNITS = \"minute\"\n",
    "FROM_DATE = pd.Timestamp(\"2018-02-18\").date()\n",
    "TO_DATE = pd.Timestamp(\"2022-04-11\").date()\n",
    "\n",
    "DATASET_NAME = \"BTC\"\n",
    "\n",
    "FULL_RESULT_PATH = f\"prices/{DATASET_NAME}_{TIME_INTERVAL}{TIME_UNITS}.csv\"\n",
    "TRAIN_RESULT_PATH = f\"prices/{DATASET_NAME}_{TIME_INTERVAL}{TIME_UNITS}_train.csv\"\n",
    "TEST_RESULT_PATH = f\"prices/{DATASET_NAME}_{TIME_INTERVAL}{TIME_UNITS}_test.csv\""
   ]
  },
  {
   "cell_type": "code",
   "execution_count": 5,
   "id": "24c22182",
   "metadata": {},
   "outputs": [],
   "source": [
    "def get_url(token: str, interval_len: int, interval: str, from_date: datetime.date, to_date: datetime.date):\n",
    "    \"\"\"\n",
    "    Build url for Google Finance API\n",
    "    \"\"\"\n",
    "    url = re.sub(\"{TICKER}\", token, BASE_GOOGLE_FINANCE_URL)\n",
    "    url = re.sub(\"{INTERVAL}\", str(interval_len), url)\n",
    "    url = re.sub(\"{RANGE}\", interval, url)\n",
    "    url = re.sub(\"{FROM_DATE}\", str(from_date), url)\n",
    "    url = re.sub(\"{TO_DATE}\", str(to_date), url)\n",
    "    return url"
   ]
  },
  {
   "cell_type": "code",
   "execution_count": 6,
   "id": "a6484cec",
   "metadata": {},
   "outputs": [],
   "source": [
    "def get_data(token: str, interval_len: int, interval: str, from_date: datetime.date, to_date: datetime.date):\n",
    "    TIMEOUT = 20\n",
    "    current_date = from_date\n",
    "    previous_date = current_date\n",
    "    dfs = []\n",
    "    while current_date <= to_date:\n",
    "        request_url = get_url(token, interval_len, interval, current_date, to_date)\n",
    "        data = requests.get(url=request_url)\n",
    "        if data.json()[\"status\"] == \"ERROR\":\n",
    "            print(\"Waiting for\", TIMEOUT, \"seconds\")\n",
    "            for _ in tqdm(range(TIMEOUT)):\n",
    "                sleep(1)\n",
    "        else:\n",
    "            try:\n",
    "                current_df = pd.DataFrame(data.json()[\"results\"])\n",
    "            except:\n",
    "                pass\n",
    "            current_date = (pd.Timestamp(current_df[\"t\"].max(), unit=\"ms\") + pd.DateOffset(days=1)).date()\n",
    "            print(\"Current date:\", current_date)\n",
    "            print(\"Get DataFrame of shape\", current_df.shape)\n",
    "            dfs.append(current_df)\n",
    "    result_df = pd.concat(dfs)\n",
    "    result_df.drop_duplicates(inplace=True)\n",
    "    return result_df"
   ]
  },
  {
   "cell_type": "code",
   "execution_count": 7,
   "id": "2b02db58",
   "metadata": {
    "scrolled": true
   },
   "outputs": [
    {
     "name": "stdout",
     "output_type": "stream",
     "text": [
      "Current date: 2020-05-25\n",
      "Get DataFrame of shape (3333, 8)\n",
      "Current date: 2020-06-29\n",
      "Get DataFrame of shape (3333, 8)\n",
      "Current date: 2020-08-03\n",
      "Get DataFrame of shape (3333, 8)\n",
      "Current date: 2020-09-07\n",
      "Get DataFrame of shape (3333, 8)\n",
      "Current date: 2020-10-12\n",
      "Get DataFrame of shape (3333, 8)\n",
      "Waiting for 20 seconds\n"
     ]
    },
    {
     "name": "stderr",
     "output_type": "stream",
     "text": [
      "100%|██████████████████████████████████████████████████████████████████████████████████| 20/20 [00:20<00:00,  1.01s/it]\n"
     ]
    },
    {
     "name": "stdout",
     "output_type": "stream",
     "text": [
      "Current date: 2020-11-16\n",
      "Get DataFrame of shape (3333, 8)\n",
      "Current date: 2020-12-21\n",
      "Get DataFrame of shape (3333, 8)\n",
      "Current date: 2021-01-25\n",
      "Get DataFrame of shape (3333, 8)\n",
      "Current date: 2021-03-01\n",
      "Get DataFrame of shape (3333, 8)\n",
      "Current date: 2021-04-05\n",
      "Get DataFrame of shape (3333, 8)\n",
      "Waiting for 20 seconds\n"
     ]
    },
    {
     "name": "stderr",
     "output_type": "stream",
     "text": [
      "100%|██████████████████████████████████████████████████████████████████████████████████| 20/20 [00:20<00:00,  1.01s/it]\n"
     ]
    },
    {
     "name": "stdout",
     "output_type": "stream",
     "text": [
      "Waiting for 20 seconds\n"
     ]
    },
    {
     "name": "stderr",
     "output_type": "stream",
     "text": [
      "100%|██████████████████████████████████████████████████████████████████████████████████| 20/20 [00:20<00:00,  1.01s/it]\n"
     ]
    },
    {
     "name": "stdout",
     "output_type": "stream",
     "text": [
      "Current date: 2021-05-10\n",
      "Get DataFrame of shape (3333, 8)\n",
      "Current date: 2021-06-14\n",
      "Get DataFrame of shape (3333, 8)\n",
      "Current date: 2021-07-19\n",
      "Get DataFrame of shape (3333, 8)\n",
      "Current date: 2021-08-23\n",
      "Get DataFrame of shape (3333, 8)\n",
      "Current date: 2021-09-27\n",
      "Get DataFrame of shape (3333, 8)\n",
      "Waiting for 20 seconds\n"
     ]
    },
    {
     "name": "stderr",
     "output_type": "stream",
     "text": [
      "100%|██████████████████████████████████████████████████████████████████████████████████| 20/20 [00:20<00:00,  1.01s/it]\n"
     ]
    },
    {
     "name": "stdout",
     "output_type": "stream",
     "text": [
      "Waiting for 20 seconds\n"
     ]
    },
    {
     "name": "stderr",
     "output_type": "stream",
     "text": [
      "100%|██████████████████████████████████████████████████████████████████████████████████| 20/20 [00:20<00:00,  1.01s/it]\n"
     ]
    },
    {
     "name": "stdout",
     "output_type": "stream",
     "text": [
      "Waiting for 20 seconds\n"
     ]
    },
    {
     "name": "stderr",
     "output_type": "stream",
     "text": [
      "100%|██████████████████████████████████████████████████████████████████████████████████| 20/20 [00:20<00:00,  1.01s/it]\n"
     ]
    },
    {
     "name": "stdout",
     "output_type": "stream",
     "text": [
      "Current date: 2021-11-01\n",
      "Get DataFrame of shape (3333, 8)\n",
      "Current date: 2021-12-06\n",
      "Get DataFrame of shape (3333, 8)\n",
      "Current date: 2022-01-11\n",
      "Get DataFrame of shape (3333, 8)\n",
      "Current date: 2022-02-15\n",
      "Get DataFrame of shape (3333, 8)\n",
      "Current date: 2022-03-22\n",
      "Get DataFrame of shape (3333, 8)\n",
      "Waiting for 20 seconds\n"
     ]
    },
    {
     "name": "stderr",
     "output_type": "stream",
     "text": [
      "100%|██████████████████████████████████████████████████████████████████████████████████| 20/20 [00:20<00:00,  1.01s/it]\n"
     ]
    },
    {
     "name": "stdout",
     "output_type": "stream",
     "text": [
      "Waiting for 20 seconds\n"
     ]
    },
    {
     "name": "stderr",
     "output_type": "stream",
     "text": [
      "100%|██████████████████████████████████████████████████████████████████████████████████| 20/20 [00:20<00:00,  1.01s/it]\n"
     ]
    },
    {
     "name": "stdout",
     "output_type": "stream",
     "text": [
      "Waiting for 20 seconds\n"
     ]
    },
    {
     "name": "stderr",
     "output_type": "stream",
     "text": [
      "100%|██████████████████████████████████████████████████████████████████████████████████| 20/20 [00:20<00:00,  1.01s/it]\n"
     ]
    },
    {
     "name": "stdout",
     "output_type": "stream",
     "text": [
      "Current date: 2022-04-12\n",
      "Get DataFrame of shape (2016, 8)\n"
     ]
    }
   ],
   "source": [
    "dfs = []\n",
    "for token in TOKENS:\n",
    "    data = get_data(\n",
    "        token=token,\n",
    "        interval_len=TIME_INTERVAL,\n",
    "        interval=TIME_UNITS,\n",
    "        from_date=FROM_DATE, \n",
    "        to_date=TO_DATE\n",
    "    )\n",
    "\n",
    "    data[\"t\"] = data[\"t\"].apply(lambda row: pd.Timestamp(row, unit=\"ms\"))\n",
    "    data[\"ticker\"] = token\n",
    "    dfs.append(data)"
   ]
  },
  {
   "cell_type": "code",
   "execution_count": 8,
   "id": "536b8037",
   "metadata": {},
   "outputs": [
    {
     "name": "stdout",
     "output_type": "stream",
     "text": [
      "(68676, 7)\n"
     ]
    },
    {
     "data": {
      "text/html": [
       "<div>\n",
       "<style scoped>\n",
       "    .dataframe tbody tr th:only-of-type {\n",
       "        vertical-align: middle;\n",
       "    }\n",
       "\n",
       "    .dataframe tbody tr th {\n",
       "        vertical-align: top;\n",
       "    }\n",
       "\n",
       "    .dataframe thead th {\n",
       "        text-align: right;\n",
       "    }\n",
       "</style>\n",
       "<table border=\"1\" class=\"dataframe\">\n",
       "  <thead>\n",
       "    <tr style=\"text-align: right;\">\n",
       "      <th></th>\n",
       "      <th>volume</th>\n",
       "      <th>open</th>\n",
       "      <th>close</th>\n",
       "      <th>high</th>\n",
       "      <th>low</th>\n",
       "      <th>date</th>\n",
       "      <th>ticker</th>\n",
       "    </tr>\n",
       "  </thead>\n",
       "  <tbody>\n",
       "    <tr>\n",
       "      <th>0</th>\n",
       "      <td>88.874451</td>\n",
       "      <td>7140.74</td>\n",
       "      <td>7145.34</td>\n",
       "      <td>7162.059278</td>\n",
       "      <td>7132.54</td>\n",
       "      <td>2020-04-19 08:58:00</td>\n",
       "      <td>X:BTCUSD</td>\n",
       "    </tr>\n",
       "    <tr>\n",
       "      <th>1</th>\n",
       "      <td>364.228687</td>\n",
       "      <td>7145.34</td>\n",
       "      <td>7160.58</td>\n",
       "      <td>7162.700000</td>\n",
       "      <td>7133.37</td>\n",
       "      <td>2020-04-19 09:13:00</td>\n",
       "      <td>X:BTCUSD</td>\n",
       "    </tr>\n",
       "    <tr>\n",
       "      <th>2</th>\n",
       "      <td>473.196157</td>\n",
       "      <td>7160.58</td>\n",
       "      <td>7168.80</td>\n",
       "      <td>7170.000000</td>\n",
       "      <td>7140.68</td>\n",
       "      <td>2020-04-19 09:28:00</td>\n",
       "      <td>X:BTCUSD</td>\n",
       "    </tr>\n",
       "    <tr>\n",
       "      <th>3</th>\n",
       "      <td>321.947133</td>\n",
       "      <td>7164.59</td>\n",
       "      <td>7182.02</td>\n",
       "      <td>7205.000000</td>\n",
       "      <td>7144.21</td>\n",
       "      <td>2020-04-19 09:43:00</td>\n",
       "      <td>X:BTCUSD</td>\n",
       "    </tr>\n",
       "    <tr>\n",
       "      <th>4</th>\n",
       "      <td>305.291586</td>\n",
       "      <td>7181.91</td>\n",
       "      <td>7175.50</td>\n",
       "      <td>7196.100000</td>\n",
       "      <td>7161.62</td>\n",
       "      <td>2020-04-19 09:58:00</td>\n",
       "      <td>X:BTCUSD</td>\n",
       "    </tr>\n",
       "    <tr>\n",
       "      <th>...</th>\n",
       "      <td>...</td>\n",
       "      <td>...</td>\n",
       "      <td>...</td>\n",
       "      <td>...</td>\n",
       "      <td>...</td>\n",
       "      <td>...</td>\n",
       "      <td>...</td>\n",
       "    </tr>\n",
       "    <tr>\n",
       "      <th>68671</th>\n",
       "      <td>229.112447</td>\n",
       "      <td>39935.54</td>\n",
       "      <td>39769.78</td>\n",
       "      <td>39968.000000</td>\n",
       "      <td>39680.50</td>\n",
       "      <td>2022-04-11 22:45:00</td>\n",
       "      <td>X:BTCUSD</td>\n",
       "    </tr>\n",
       "    <tr>\n",
       "      <th>68672</th>\n",
       "      <td>176.391432</td>\n",
       "      <td>39769.78</td>\n",
       "      <td>39712.40</td>\n",
       "      <td>39863.000000</td>\n",
       "      <td>39579.57</td>\n",
       "      <td>2022-04-11 23:00:00</td>\n",
       "      <td>X:BTCUSD</td>\n",
       "    </tr>\n",
       "    <tr>\n",
       "      <th>68673</th>\n",
       "      <td>191.662661</td>\n",
       "      <td>39712.38</td>\n",
       "      <td>39641.48</td>\n",
       "      <td>39756.000000</td>\n",
       "      <td>39565.07</td>\n",
       "      <td>2022-04-11 23:15:00</td>\n",
       "      <td>X:BTCUSD</td>\n",
       "    </tr>\n",
       "    <tr>\n",
       "      <th>68674</th>\n",
       "      <td>192.552584</td>\n",
       "      <td>39629.80</td>\n",
       "      <td>39477.91</td>\n",
       "      <td>39710.000000</td>\n",
       "      <td>39445.29</td>\n",
       "      <td>2022-04-11 23:30:00</td>\n",
       "      <td>X:BTCUSD</td>\n",
       "    </tr>\n",
       "    <tr>\n",
       "      <th>68675</th>\n",
       "      <td>221.841105</td>\n",
       "      <td>39479.98</td>\n",
       "      <td>39535.87</td>\n",
       "      <td>39566.000000</td>\n",
       "      <td>39375.26</td>\n",
       "      <td>2022-04-11 23:45:00</td>\n",
       "      <td>X:BTCUSD</td>\n",
       "    </tr>\n",
       "  </tbody>\n",
       "</table>\n",
       "<p>68676 rows × 7 columns</p>\n",
       "</div>"
      ],
      "text/plain": [
       "           volume      open     close          high       low  \\\n",
       "0       88.874451   7140.74   7145.34   7162.059278   7132.54   \n",
       "1      364.228687   7145.34   7160.58   7162.700000   7133.37   \n",
       "2      473.196157   7160.58   7168.80   7170.000000   7140.68   \n",
       "3      321.947133   7164.59   7182.02   7205.000000   7144.21   \n",
       "4      305.291586   7181.91   7175.50   7196.100000   7161.62   \n",
       "...           ...       ...       ...           ...       ...   \n",
       "68671  229.112447  39935.54  39769.78  39968.000000  39680.50   \n",
       "68672  176.391432  39769.78  39712.40  39863.000000  39579.57   \n",
       "68673  191.662661  39712.38  39641.48  39756.000000  39565.07   \n",
       "68674  192.552584  39629.80  39477.91  39710.000000  39445.29   \n",
       "68675  221.841105  39479.98  39535.87  39566.000000  39375.26   \n",
       "\n",
       "                     date    ticker  \n",
       "0     2020-04-19 08:58:00  X:BTCUSD  \n",
       "1     2020-04-19 09:13:00  X:BTCUSD  \n",
       "2     2020-04-19 09:28:00  X:BTCUSD  \n",
       "3     2020-04-19 09:43:00  X:BTCUSD  \n",
       "4     2020-04-19 09:58:00  X:BTCUSD  \n",
       "...                   ...       ...  \n",
       "68671 2022-04-11 22:45:00  X:BTCUSD  \n",
       "68672 2022-04-11 23:00:00  X:BTCUSD  \n",
       "68673 2022-04-11 23:15:00  X:BTCUSD  \n",
       "68674 2022-04-11 23:30:00  X:BTCUSD  \n",
       "68675 2022-04-11 23:45:00  X:BTCUSD  \n",
       "\n",
       "[68676 rows x 7 columns]"
      ]
     },
     "execution_count": 8,
     "metadata": {},
     "output_type": "execute_result"
    }
   ],
   "source": [
    "RENAME_COLUMNS = {\n",
    "    \"v\": \"volume\",\n",
    "    \"o\": \"open\",\n",
    "    \"c\": \"close\",\n",
    "    \"h\": \"high\",\n",
    "    \"l\": \"low\",\n",
    "    \"t\": \"date\"\n",
    "}\n",
    "KEEP_COLUMNS = [\"volume\", \"open\", \"close\", \"high\", \"low\", \"date\", \"ticker\"]\n",
    "\n",
    "result_df = pd.concat(dfs).rename(RENAME_COLUMNS, axis=1)[KEEP_COLUMNS].reset_index(drop=True)\n",
    "print(result_df.shape)\n",
    "result_df"
   ]
  },
  {
   "cell_type": "code",
   "execution_count": 10,
   "id": "7239456c",
   "metadata": {},
   "outputs": [
    {
     "data": {
      "text/html": [
       "<div>\n",
       "<style scoped>\n",
       "    .dataframe tbody tr th:only-of-type {\n",
       "        vertical-align: middle;\n",
       "    }\n",
       "\n",
       "    .dataframe tbody tr th {\n",
       "        vertical-align: top;\n",
       "    }\n",
       "\n",
       "    .dataframe thead th {\n",
       "        text-align: right;\n",
       "    }\n",
       "</style>\n",
       "<table border=\"1\" class=\"dataframe\">\n",
       "  <thead>\n",
       "    <tr style=\"text-align: right;\">\n",
       "      <th></th>\n",
       "      <th>volume</th>\n",
       "      <th>open</th>\n",
       "      <th>close</th>\n",
       "      <th>high</th>\n",
       "      <th>low</th>\n",
       "      <th>date</th>\n",
       "      <th>ticker</th>\n",
       "    </tr>\n",
       "  </thead>\n",
       "  <tbody>\n",
       "    <tr>\n",
       "      <th>0</th>\n",
       "      <td>88.874451</td>\n",
       "      <td>7140.74</td>\n",
       "      <td>7145.34</td>\n",
       "      <td>7162.059278</td>\n",
       "      <td>7132.54</td>\n",
       "      <td>2020-04-19 08:58:00</td>\n",
       "      <td>X:BTCUSD</td>\n",
       "    </tr>\n",
       "    <tr>\n",
       "      <th>1</th>\n",
       "      <td>364.228687</td>\n",
       "      <td>7145.34</td>\n",
       "      <td>7160.58</td>\n",
       "      <td>7162.700000</td>\n",
       "      <td>7133.37</td>\n",
       "      <td>2020-04-19 09:13:00</td>\n",
       "      <td>X:BTCUSD</td>\n",
       "    </tr>\n",
       "    <tr>\n",
       "      <th>2</th>\n",
       "      <td>473.196157</td>\n",
       "      <td>7160.58</td>\n",
       "      <td>7168.80</td>\n",
       "      <td>7170.000000</td>\n",
       "      <td>7140.68</td>\n",
       "      <td>2020-04-19 09:28:00</td>\n",
       "      <td>X:BTCUSD</td>\n",
       "    </tr>\n",
       "    <tr>\n",
       "      <th>3</th>\n",
       "      <td>321.947133</td>\n",
       "      <td>7164.59</td>\n",
       "      <td>7182.02</td>\n",
       "      <td>7205.000000</td>\n",
       "      <td>7144.21</td>\n",
       "      <td>2020-04-19 09:43:00</td>\n",
       "      <td>X:BTCUSD</td>\n",
       "    </tr>\n",
       "    <tr>\n",
       "      <th>4</th>\n",
       "      <td>305.291586</td>\n",
       "      <td>7181.91</td>\n",
       "      <td>7175.50</td>\n",
       "      <td>7196.100000</td>\n",
       "      <td>7161.62</td>\n",
       "      <td>2020-04-19 09:58:00</td>\n",
       "      <td>X:BTCUSD</td>\n",
       "    </tr>\n",
       "    <tr>\n",
       "      <th>...</th>\n",
       "      <td>...</td>\n",
       "      <td>...</td>\n",
       "      <td>...</td>\n",
       "      <td>...</td>\n",
       "      <td>...</td>\n",
       "      <td>...</td>\n",
       "      <td>...</td>\n",
       "    </tr>\n",
       "    <tr>\n",
       "      <th>68671</th>\n",
       "      <td>229.112447</td>\n",
       "      <td>39935.54</td>\n",
       "      <td>39769.78</td>\n",
       "      <td>39968.000000</td>\n",
       "      <td>39680.50</td>\n",
       "      <td>2022-04-11 22:45:00</td>\n",
       "      <td>X:BTCUSD</td>\n",
       "    </tr>\n",
       "    <tr>\n",
       "      <th>68672</th>\n",
       "      <td>176.391432</td>\n",
       "      <td>39769.78</td>\n",
       "      <td>39712.40</td>\n",
       "      <td>39863.000000</td>\n",
       "      <td>39579.57</td>\n",
       "      <td>2022-04-11 23:00:00</td>\n",
       "      <td>X:BTCUSD</td>\n",
       "    </tr>\n",
       "    <tr>\n",
       "      <th>68673</th>\n",
       "      <td>191.662661</td>\n",
       "      <td>39712.38</td>\n",
       "      <td>39641.48</td>\n",
       "      <td>39756.000000</td>\n",
       "      <td>39565.07</td>\n",
       "      <td>2022-04-11 23:15:00</td>\n",
       "      <td>X:BTCUSD</td>\n",
       "    </tr>\n",
       "    <tr>\n",
       "      <th>68674</th>\n",
       "      <td>192.552584</td>\n",
       "      <td>39629.80</td>\n",
       "      <td>39477.91</td>\n",
       "      <td>39710.000000</td>\n",
       "      <td>39445.29</td>\n",
       "      <td>2022-04-11 23:30:00</td>\n",
       "      <td>X:BTCUSD</td>\n",
       "    </tr>\n",
       "    <tr>\n",
       "      <th>68675</th>\n",
       "      <td>221.841105</td>\n",
       "      <td>39479.98</td>\n",
       "      <td>39535.87</td>\n",
       "      <td>39566.000000</td>\n",
       "      <td>39375.26</td>\n",
       "      <td>2022-04-11 23:45:00</td>\n",
       "      <td>X:BTCUSD</td>\n",
       "    </tr>\n",
       "  </tbody>\n",
       "</table>\n",
       "<p>68676 rows × 7 columns</p>\n",
       "</div>"
      ],
      "text/plain": [
       "           volume      open     close          high       low  \\\n",
       "0       88.874451   7140.74   7145.34   7162.059278   7132.54   \n",
       "1      364.228687   7145.34   7160.58   7162.700000   7133.37   \n",
       "2      473.196157   7160.58   7168.80   7170.000000   7140.68   \n",
       "3      321.947133   7164.59   7182.02   7205.000000   7144.21   \n",
       "4      305.291586   7181.91   7175.50   7196.100000   7161.62   \n",
       "...           ...       ...       ...           ...       ...   \n",
       "68671  229.112447  39935.54  39769.78  39968.000000  39680.50   \n",
       "68672  176.391432  39769.78  39712.40  39863.000000  39579.57   \n",
       "68673  191.662661  39712.38  39641.48  39756.000000  39565.07   \n",
       "68674  192.552584  39629.80  39477.91  39710.000000  39445.29   \n",
       "68675  221.841105  39479.98  39535.87  39566.000000  39375.26   \n",
       "\n",
       "                     date    ticker  \n",
       "0     2020-04-19 08:58:00  X:BTCUSD  \n",
       "1     2020-04-19 09:13:00  X:BTCUSD  \n",
       "2     2020-04-19 09:28:00  X:BTCUSD  \n",
       "3     2020-04-19 09:43:00  X:BTCUSD  \n",
       "4     2020-04-19 09:58:00  X:BTCUSD  \n",
       "...                   ...       ...  \n",
       "68671 2022-04-11 22:45:00  X:BTCUSD  \n",
       "68672 2022-04-11 23:00:00  X:BTCUSD  \n",
       "68673 2022-04-11 23:15:00  X:BTCUSD  \n",
       "68674 2022-04-11 23:30:00  X:BTCUSD  \n",
       "68675 2022-04-11 23:45:00  X:BTCUSD  \n",
       "\n",
       "[68676 rows x 7 columns]"
      ]
     },
     "execution_count": 10,
     "metadata": {},
     "output_type": "execute_result"
    }
   ],
   "source": [
    "result_df"
   ]
  },
  {
   "cell_type": "code",
   "execution_count": 11,
   "id": "ff625d77",
   "metadata": {},
   "outputs": [],
   "source": [
    "TEST_RATIO = 0.2\n",
    "test_size = int(result_df.shape[0] * TEST_RATIO)\n",
    "data_train = result_df.iloc[:-test_size]\n",
    "data_test = result_df.iloc[-test_size:]\n",
    "\n",
    "result_df.to_csv(FULL_RESULT_PATH)\n",
    "data_train.to_csv(TRAIN_RESULT_PATH)\n",
    "data_test.to_csv(TEST_RESULT_PATH)"
   ]
  },
  {
   "cell_type": "code",
   "execution_count": 12,
   "id": "7c000790",
   "metadata": {},
   "outputs": [
    {
     "data": {
      "text/plain": [
       "13735"
      ]
     },
     "execution_count": 12,
     "metadata": {},
     "output_type": "execute_result"
    }
   ],
   "source": [
    "test_size"
   ]
  }
 ],
 "metadata": {
  "kernelspec": {
   "display_name": "Python 3 (ipykernel)",
   "language": "python",
   "name": "python3"
  },
  "language_info": {
   "codemirror_mode": {
    "name": "ipython",
    "version": 3
   },
   "file_extension": ".py",
   "mimetype": "text/x-python",
   "name": "python",
   "nbconvert_exporter": "python",
   "pygments_lexer": "ipython3",
   "version": "3.9.7"
  }
 },
 "nbformat": 4,
 "nbformat_minor": 5
}
