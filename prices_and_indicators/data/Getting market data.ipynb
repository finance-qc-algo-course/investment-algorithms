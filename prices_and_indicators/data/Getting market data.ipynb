{
 "cells": [
  {
   "cell_type": "code",
   "execution_count": 3,
   "id": "36ca41d0",
   "metadata": {},
   "outputs": [],
   "source": [
    "import pandas as pd\n",
    "import numpy as np\n",
    "import requests\n",
    "import re\n",
    "import os\n",
    "from time import sleep\n",
    "from tqdm import tqdm\n",
    "from functools import reduce\n",
    "\n",
    "import datetime"
   ]
  },
  {
   "cell_type": "code",
   "execution_count": 22,
   "id": "10d879c6",
   "metadata": {},
   "outputs": [],
   "source": [
    "BASE_GOOGLE_FINANCE_URL = \"https://api.polygon.io/v2/aggs/ticker/{TICKER}/range/{INTERVAL}/\" +\\\n",
    "                          \"{RANGE}/{FROM_DATE}/{TO_DATE}?limit=50000&apiKey=MNxlbyNXPpKmAki1jcScqmXxzPvdXWYT\"\n",
    "\n",
    "# TOKENS = [\n",
    "#     \"AAPL\", \"GOOG\", \"MSFT\", \"TSLA\", \"NVDA\", \"AMZN\",\n",
    "#     \"FB\", \"BABA\", \"CRM\", \"INTC\", \"AMD\", \"PYPL\", \"ATVI\",\n",
    "#     \"EA\", \"TTD\", \"MTCH\", \"ZG\", \"YELP\"\n",
    "# ]\n",
    "TOKENS = [\"AAPL\"]\n",
    "\n",
    "TIME_INTERVAL = 15\n",
    "TIME_UNITS = \"minute\"\n",
    "FROM_DATE = pd.Timestamp(\"2018-02-18\").date()\n",
    "TO_DATE = pd.Timestamp(\"2022-04-29\").date()\n",
    "\n",
    "DATASET_NAME = \"AAPL\"\n",
    "\n",
    "FULL_RESULT_PATH = f\"prices/{DATASET_NAME}_{TIME_INTERVAL}{TIME_UNITS}.csv\"\n",
    "TRAIN_RESULT_PATH = f\"prices/{DATASET_NAME}_{TIME_INTERVAL}{TIME_UNITS}_train.csv\"\n",
    "TEST_RESULT_PATH = f\"prices/{DATASET_NAME}_{TIME_INTERVAL}{TIME_UNITS}_test.csv\""
   ]
  },
  {
   "cell_type": "code",
   "execution_count": 23,
   "id": "24c22182",
   "metadata": {},
   "outputs": [],
   "source": [
    "def get_url(token: str, interval_len: int, interval: str, from_date: datetime.date, to_date: datetime.date):\n",
    "    \"\"\"\n",
    "    Build url for Google Finance API\n",
    "    \"\"\"\n",
    "    url = re.sub(\"{TICKER}\", token, BASE_GOOGLE_FINANCE_URL)\n",
    "    url = re.sub(\"{INTERVAL}\", str(interval_len), url)\n",
    "    url = re.sub(\"{RANGE}\", interval, url)\n",
    "    url = re.sub(\"{FROM_DATE}\", str(from_date), url)\n",
    "    url = re.sub(\"{TO_DATE}\", str(to_date), url)\n",
    "    return url"
   ]
  },
  {
   "cell_type": "code",
   "execution_count": 24,
   "id": "a6484cec",
   "metadata": {},
   "outputs": [],
   "source": [
    "def get_data(token: str, interval_len: int, interval: str, from_date: datetime.date, to_date: datetime.date):\n",
    "    TIMEOUT = 20\n",
    "    current_date = from_date\n",
    "    previous_date = current_date\n",
    "    dfs = []\n",
    "    while current_date <= to_date:\n",
    "        request_url = get_url(token, interval_len, interval, current_date, to_date)\n",
    "        data = requests.get(url=request_url)\n",
    "        if data.json()[\"status\"] == \"ERROR\":\n",
    "            print(\"Waiting for\", TIMEOUT, \"seconds\")\n",
    "            for _ in tqdm(range(TIMEOUT)):\n",
    "                sleep(1)\n",
    "        else:\n",
    "            try:\n",
    "                current_df = pd.DataFrame(data.json()[\"results\"])\n",
    "            except:\n",
    "                pass\n",
    "            current_date = (pd.Timestamp(current_df[\"t\"].max(), unit=\"ms\") + pd.DateOffset(days=1)).date()\n",
    "            print(\"Current date:\", current_date)\n",
    "            print(\"Get DataFrame of shape\", current_df.shape)\n",
    "            dfs.append(current_df)\n",
    "    result_df = pd.concat(dfs)\n",
    "    result_df.drop_duplicates(inplace=True)\n",
    "    return result_df"
   ]
  },
  {
   "cell_type": "code",
   "execution_count": 25,
   "id": "2b02db58",
   "metadata": {
    "scrolled": true
   },
   "outputs": [
    {
     "name": "stdout",
     "output_type": "stream",
     "text": [
      "Waiting for 20 seconds\n"
     ]
    },
    {
     "name": "stderr",
     "output_type": "stream",
     "text": [
      "100%|██████████████████████████████████████████████████████████████████████████████████| 20/20 [00:20<00:00,  1.01s/it]\n"
     ]
    },
    {
     "name": "stdout",
     "output_type": "stream",
     "text": [
      "Current date: 2020-08-11\n",
      "Get DataFrame of shape (4411, 8)\n",
      "Current date: 2020-10-30\n",
      "Get DataFrame of shape (3617, 8)\n",
      "Current date: 2021-01-27\n",
      "Get DataFrame of shape (3696, 8)\n",
      "Current date: 2021-04-21\n",
      "Get DataFrame of shape (3684, 8)\n",
      "Current date: 2021-07-21\n",
      "Get DataFrame of shape (3972, 8)\n",
      "Waiting for 20 seconds\n"
     ]
    },
    {
     "name": "stderr",
     "output_type": "stream",
     "text": [
      "100%|██████████████████████████████████████████████████████████████████████████████████| 20/20 [00:20<00:00,  1.01s/it]\n"
     ]
    },
    {
     "name": "stdout",
     "output_type": "stream",
     "text": [
      "Waiting for 20 seconds\n"
     ]
    },
    {
     "name": "stderr",
     "output_type": "stream",
     "text": [
      "100%|██████████████████████████████████████████████████████████████████████████████████| 20/20 [00:20<00:00,  1.01s/it]\n"
     ]
    },
    {
     "name": "stdout",
     "output_type": "stream",
     "text": [
      "Current date: 2021-10-20\n",
      "Get DataFrame of shape (4048, 8)\n",
      "Current date: 2022-01-19\n",
      "Get DataFrame of shape (3902, 8)\n",
      "Current date: 2022-04-15\n",
      "Get DataFrame of shape (3870, 8)\n",
      "Current date: 2022-04-30\n",
      "Get DataFrame of shape (639, 8)\n"
     ]
    }
   ],
   "source": [
    "dfs = []\n",
    "for token in TOKENS:\n",
    "    data = get_data(\n",
    "        token=token,\n",
    "        interval_len=TIME_INTERVAL,\n",
    "        interval=TIME_UNITS,\n",
    "        from_date=FROM_DATE, \n",
    "        to_date=TO_DATE\n",
    "    )\n",
    "\n",
    "    data[\"t\"] = data[\"t\"].apply(lambda row: pd.Timestamp(row, unit=\"ms\"))\n",
    "    data[\"ticker\"] = token\n",
    "    dfs.append(data)"
   ]
  },
  {
   "cell_type": "code",
   "execution_count": 26,
   "id": "536b8037",
   "metadata": {},
   "outputs": [
    {
     "name": "stdout",
     "output_type": "stream",
     "text": [
      "(31839, 7)\n"
     ]
    },
    {
     "data": {
      "text/html": [
       "<div>\n",
       "<style scoped>\n",
       "    .dataframe tbody tr th:only-of-type {\n",
       "        vertical-align: middle;\n",
       "    }\n",
       "\n",
       "    .dataframe tbody tr th {\n",
       "        vertical-align: top;\n",
       "    }\n",
       "\n",
       "    .dataframe thead th {\n",
       "        text-align: right;\n",
       "    }\n",
       "</style>\n",
       "<table border=\"1\" class=\"dataframe\">\n",
       "  <thead>\n",
       "    <tr style=\"text-align: right;\">\n",
       "      <th></th>\n",
       "      <th>volume</th>\n",
       "      <th>open</th>\n",
       "      <th>close</th>\n",
       "      <th>high</th>\n",
       "      <th>low</th>\n",
       "      <th>date</th>\n",
       "      <th>ticker</th>\n",
       "    </tr>\n",
       "  </thead>\n",
       "  <tbody>\n",
       "    <tr>\n",
       "      <th>0</th>\n",
       "      <td>13828.0</td>\n",
       "      <td>72.0625</td>\n",
       "      <td>72.000</td>\n",
       "      <td>72.0625</td>\n",
       "      <td>71.7875</td>\n",
       "      <td>2020-05-04 07:51:00</td>\n",
       "      <td>AAPL</td>\n",
       "    </tr>\n",
       "    <tr>\n",
       "      <th>1</th>\n",
       "      <td>6856.0</td>\n",
       "      <td>72.0000</td>\n",
       "      <td>71.975</td>\n",
       "      <td>72.0000</td>\n",
       "      <td>71.9050</td>\n",
       "      <td>2020-05-04 08:06:00</td>\n",
       "      <td>AAPL</td>\n",
       "    </tr>\n",
       "    <tr>\n",
       "      <th>2</th>\n",
       "      <td>7012.0</td>\n",
       "      <td>72.0100</td>\n",
       "      <td>71.920</td>\n",
       "      <td>72.0150</td>\n",
       "      <td>71.9200</td>\n",
       "      <td>2020-05-04 08:21:00</td>\n",
       "      <td>AAPL</td>\n",
       "    </tr>\n",
       "    <tr>\n",
       "      <th>3</th>\n",
       "      <td>1064.0</td>\n",
       "      <td>71.9725</td>\n",
       "      <td>72.000</td>\n",
       "      <td>72.0000</td>\n",
       "      <td>71.9725</td>\n",
       "      <td>2020-05-04 08:36:00</td>\n",
       "      <td>AAPL</td>\n",
       "    </tr>\n",
       "    <tr>\n",
       "      <th>4</th>\n",
       "      <td>20052.0</td>\n",
       "      <td>72.0625</td>\n",
       "      <td>71.875</td>\n",
       "      <td>72.0625</td>\n",
       "      <td>71.8750</td>\n",
       "      <td>2020-05-04 08:51:00</td>\n",
       "      <td>AAPL</td>\n",
       "    </tr>\n",
       "    <tr>\n",
       "      <th>...</th>\n",
       "      <td>...</td>\n",
       "      <td>...</td>\n",
       "      <td>...</td>\n",
       "      <td>...</td>\n",
       "      <td>...</td>\n",
       "      <td>...</td>\n",
       "      <td>...</td>\n",
       "    </tr>\n",
       "    <tr>\n",
       "      <th>31834</th>\n",
       "      <td>13719.0</td>\n",
       "      <td>157.8500</td>\n",
       "      <td>157.900</td>\n",
       "      <td>157.9300</td>\n",
       "      <td>157.8500</td>\n",
       "      <td>2022-04-29 22:45:00</td>\n",
       "      <td>AAPL</td>\n",
       "    </tr>\n",
       "    <tr>\n",
       "      <th>31835</th>\n",
       "      <td>10466.0</td>\n",
       "      <td>157.8701</td>\n",
       "      <td>157.900</td>\n",
       "      <td>157.9300</td>\n",
       "      <td>157.8600</td>\n",
       "      <td>2022-04-29 23:00:00</td>\n",
       "      <td>AAPL</td>\n",
       "    </tr>\n",
       "    <tr>\n",
       "      <th>31836</th>\n",
       "      <td>17632.0</td>\n",
       "      <td>157.9000</td>\n",
       "      <td>157.990</td>\n",
       "      <td>157.9900</td>\n",
       "      <td>157.9000</td>\n",
       "      <td>2022-04-29 23:15:00</td>\n",
       "      <td>AAPL</td>\n",
       "    </tr>\n",
       "    <tr>\n",
       "      <th>31837</th>\n",
       "      <td>20486.0</td>\n",
       "      <td>157.9600</td>\n",
       "      <td>158.050</td>\n",
       "      <td>158.1500</td>\n",
       "      <td>157.9600</td>\n",
       "      <td>2022-04-29 23:30:00</td>\n",
       "      <td>AAPL</td>\n",
       "    </tr>\n",
       "    <tr>\n",
       "      <th>31838</th>\n",
       "      <td>45934.0</td>\n",
       "      <td>158.0000</td>\n",
       "      <td>157.930</td>\n",
       "      <td>158.0000</td>\n",
       "      <td>157.9000</td>\n",
       "      <td>2022-04-29 23:45:00</td>\n",
       "      <td>AAPL</td>\n",
       "    </tr>\n",
       "  </tbody>\n",
       "</table>\n",
       "<p>31839 rows × 7 columns</p>\n",
       "</div>"
      ],
      "text/plain": [
       "        volume      open    close      high       low                date  \\\n",
       "0      13828.0   72.0625   72.000   72.0625   71.7875 2020-05-04 07:51:00   \n",
       "1       6856.0   72.0000   71.975   72.0000   71.9050 2020-05-04 08:06:00   \n",
       "2       7012.0   72.0100   71.920   72.0150   71.9200 2020-05-04 08:21:00   \n",
       "3       1064.0   71.9725   72.000   72.0000   71.9725 2020-05-04 08:36:00   \n",
       "4      20052.0   72.0625   71.875   72.0625   71.8750 2020-05-04 08:51:00   \n",
       "...        ...       ...      ...       ...       ...                 ...   \n",
       "31834  13719.0  157.8500  157.900  157.9300  157.8500 2022-04-29 22:45:00   \n",
       "31835  10466.0  157.8701  157.900  157.9300  157.8600 2022-04-29 23:00:00   \n",
       "31836  17632.0  157.9000  157.990  157.9900  157.9000 2022-04-29 23:15:00   \n",
       "31837  20486.0  157.9600  158.050  158.1500  157.9600 2022-04-29 23:30:00   \n",
       "31838  45934.0  158.0000  157.930  158.0000  157.9000 2022-04-29 23:45:00   \n",
       "\n",
       "      ticker  \n",
       "0       AAPL  \n",
       "1       AAPL  \n",
       "2       AAPL  \n",
       "3       AAPL  \n",
       "4       AAPL  \n",
       "...      ...  \n",
       "31834   AAPL  \n",
       "31835   AAPL  \n",
       "31836   AAPL  \n",
       "31837   AAPL  \n",
       "31838   AAPL  \n",
       "\n",
       "[31839 rows x 7 columns]"
      ]
     },
     "execution_count": 26,
     "metadata": {},
     "output_type": "execute_result"
    }
   ],
   "source": [
    "RENAME_COLUMNS = {\n",
    "    \"v\": \"volume\",\n",
    "    \"o\": \"open\",\n",
    "    \"c\": \"close\",\n",
    "    \"h\": \"high\",\n",
    "    \"l\": \"low\",\n",
    "    \"t\": \"date\"\n",
    "}\n",
    "KEEP_COLUMNS = [\"volume\", \"open\", \"close\", \"high\", \"low\", \"date\", \"ticker\"]\n",
    "\n",
    "result_df = pd.concat(dfs).rename(RENAME_COLUMNS, axis=1)[KEEP_COLUMNS].reset_index(drop=True)\n",
    "print(result_df.shape)\n",
    "result_df"
   ]
  },
  {
   "cell_type": "code",
   "execution_count": 27,
   "id": "ff625d77",
   "metadata": {},
   "outputs": [
    {
     "name": "stdout",
     "output_type": "stream",
     "text": [
      "(25472, 7) (6367, 7)\n"
     ]
    }
   ],
   "source": [
    "TEST_RATIO = 0.2\n",
    "test_size = int(result_df.shape[0] * TEST_RATIO)\n",
    "data_train = result_df.iloc[:-test_size]\n",
    "data_test = result_df.iloc[-test_size:]\n",
    "\n",
    "result_df.to_csv(FULL_RESULT_PATH)\n",
    "data_train.to_csv(TRAIN_RESULT_PATH)\n",
    "data_test.to_csv(TEST_RESULT_PATH)\n",
    "\n",
    "print(data_train.shape, data_test.shape)"
   ]
  },
  {
   "cell_type": "code",
   "execution_count": 28,
   "id": "4ef0cc7a",
   "metadata": {},
   "outputs": [
    {
     "name": "stdout",
     "output_type": "stream",
     "text": [
      "Train is from 2020-05-04 07:51:00 to 2021-12-06 13:45:00\n",
      "Test is from 2021-12-06 14:00:00 to 2022-04-29 23:45:00\n"
     ]
    }
   ],
   "source": [
    "train_dates = data_train.date.apply(lambda date: pd.Timestamp(date))\n",
    "test_dates = data_test.date.apply(lambda date: pd.Timestamp(date))\n",
    "\n",
    "print(f\"Train is from {train_dates.min()} to {train_dates.max()}\")\n",
    "print(f\"Test is from {test_dates.min()} to {test_dates.max()}\")"
   ]
  }
 ],
 "metadata": {
  "kernelspec": {
   "display_name": "Python 3 (ipykernel)",
   "language": "python",
   "name": "python3"
  },
  "language_info": {
   "codemirror_mode": {
    "name": "ipython",
    "version": 3
   },
   "file_extension": ".py",
   "mimetype": "text/x-python",
   "name": "python",
   "nbconvert_exporter": "python",
   "pygments_lexer": "ipython3",
   "version": "3.9.7"
  }
 },
 "nbformat": 4,
 "nbformat_minor": 5
}
