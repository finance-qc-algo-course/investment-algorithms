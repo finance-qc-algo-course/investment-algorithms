{
 "cells": [
  {
   "cell_type": "code",
   "execution_count": 3,
   "id": "36ca41d0",
   "metadata": {},
   "outputs": [],
   "source": [
    "import pandas as pd\n",
    "import numpy as np\n",
    "import requests\n",
    "import re\n",
    "import os\n",
    "from time import sleep\n",
    "from tqdm import tqdm\n",
    "from functools import reduce\n",
    "\n",
    "import datetime"
   ]
  },
  {
   "cell_type": "code",
   "execution_count": 8,
   "id": "10d879c6",
   "metadata": {},
   "outputs": [],
   "source": [
    "BASE_GOOGLE_FINANCE_URL = \"https://api.polygon.io/v2/aggs/ticker/{TICKER}/range/{INTERVAL}/\" +\\\n",
    "                          \"{RANGE}/{FROM_DATE}/{TO_DATE}?limit=50000&apiKey=MNxlbyNXPpKmAki1jcScqmXxzPvdXWYT\"\n",
    "\n",
    "TRAIN_RESULT_PATH = \"data/prices/google_30m_prices_train.csv\"\n",
    "TEST_RESULT_PATH = \"data/prices/google_30m_prices_test.csv\"\n",
    "\n",
    "TOKENS = [\"AAPL\", \"GOOG\", \"MSFT\", \"TSLA\", \"NVDA\"]\n",
    "\n",
    "TIME_INTERVAL = 15\n",
    "TIME_UNITS = \"minute\"\n",
    "FROM_DATE = pd.Timestamp(\"2019-02-18\").date()\n",
    "TO_DATE = pd.Timestamp(\"2022-03-28\").date()"
   ]
  },
  {
   "cell_type": "code",
   "execution_count": 9,
   "id": "24c22182",
   "metadata": {},
   "outputs": [],
   "source": [
    "def get_url(token: str, interval_len: int, interval: str, from_date: datetime.date, to_date: datetime.date):\n",
    "    \"\"\"\n",
    "    Build url for Google Finance API\n",
    "    \"\"\"\n",
    "    url = re.sub(\"{TICKER}\", token, BASE_GOOGLE_FINANCE_URL)\n",
    "    url = re.sub(\"{INTERVAL}\", str(interval_len), url)\n",
    "    url = re.sub(\"{RANGE}\", interval, url)\n",
    "    url = re.sub(\"{FROM_DATE}\", str(from_date), url)\n",
    "    url = re.sub(\"{TO_DATE}\", str(to_date), url)\n",
    "    return url"
   ]
  },
  {
   "cell_type": "code",
   "execution_count": 10,
   "id": "a6484cec",
   "metadata": {},
   "outputs": [],
   "source": [
    "def get_data(token: str, interval_len: int, interval: str, from_date: datetime.date, to_date: datetime.date):\n",
    "    TIMEOUT = 20\n",
    "    current_date = from_date\n",
    "    previous_date = current_date\n",
    "    dfs = []\n",
    "    while current_date <= to_date:\n",
    "        request_url = get_url(token, interval_len, interval, current_date, to_date)\n",
    "        data = requests.get(url=request_url)\n",
    "        if data.json()[\"status\"] == \"ERROR\":\n",
    "            print(\"Waiting for\", TIMEOUT, \"seconds\")\n",
    "            for _ in tqdm(range(TIMEOUT)):\n",
    "                sleep(1)\n",
    "        else:\n",
    "            try:\n",
    "                current_df = pd.DataFrame(data.json()[\"results\"])\n",
    "            except:\n",
    "                pass\n",
    "            current_date = (pd.Timestamp(current_df[\"t\"].max(), unit=\"ms\") + pd.DateOffset(days=1)).date()\n",
    "            print(\"Current date:\", current_date)\n",
    "            print(\"Get DataFrame of shape\", current_df.shape)\n",
    "            dfs.append(current_df)\n",
    "    result_df = pd.concat(dfs)\n",
    "    result_df.drop_duplicates(inplace=True)\n",
    "    return result_df"
   ]
  },
  {
   "cell_type": "code",
   "execution_count": null,
   "id": "2b02db58",
   "metadata": {
    "scrolled": true
   },
   "outputs": [
    {
     "name": "stdout",
     "output_type": "stream",
     "text": [
      "Current date: 2020-07-08\n",
      "Get DataFrame of shape (4378, 8)\n",
      "Current date: 2020-10-02\n",
      "Get DataFrame of shape (3864, 8)\n",
      "Current date: 2020-12-24\n",
      "Get DataFrame of shape (3644, 8)\n",
      "Current date: 2021-03-19\n",
      "Get DataFrame of shape (3620, 8)\n",
      "Current date: 2021-06-17\n",
      "Get DataFrame of shape (3920, 8)\n",
      "Waiting for 20 seconds\n"
     ]
    },
    {
     "name": "stderr",
     "output_type": "stream",
     "text": [
      "100%|██████████████████████████████████████████████████████████████████████████████████| 20/20 [00:20<00:00,  1.01s/it]\n"
     ]
    },
    {
     "name": "stdout",
     "output_type": "stream",
     "text": [
      "Current date: 2021-09-17\n",
      "Get DataFrame of shape (4052, 8)\n",
      "Current date: 2021-12-15\n",
      "Get DataFrame of shape (3925, 8)\n",
      "Current date: 2022-03-15\n",
      "Get DataFrame of shape (3843, 8)\n",
      "Current date: 2022-03-26\n",
      "Get DataFrame of shape (575, 8)\n",
      "Current date: 2022-03-26\n",
      "Get DataFrame of shape (575, 8)\n",
      "Waiting for 20 seconds\n"
     ]
    },
    {
     "name": "stderr",
     "output_type": "stream",
     "text": [
      "100%|██████████████████████████████████████████████████████████████████████████████████| 20/20 [00:20<00:00,  1.01s/it]\n"
     ]
    },
    {
     "name": "stdout",
     "output_type": "stream",
     "text": [
      "Waiting for 20 seconds\n"
     ]
    },
    {
     "name": "stderr",
     "output_type": "stream",
     "text": [
      "100%|██████████████████████████████████████████████████████████████████████████████████| 20/20 [00:20<00:00,  1.01s/it]\n"
     ]
    },
    {
     "name": "stdout",
     "output_type": "stream",
     "text": [
      "Waiting for 20 seconds\n"
     ]
    },
    {
     "name": "stderr",
     "output_type": "stream",
     "text": [
      "100%|██████████████████████████████████████████████████████████████████████████████████| 20/20 [00:20<00:00,  1.01s/it]\n"
     ]
    },
    {
     "name": "stdout",
     "output_type": "stream",
     "text": [
      "Current date: 2022-03-26\n",
      "Get DataFrame of shape (575, 8)\n",
      "Current date: 2022-03-26\n",
      "Get DataFrame of shape (575, 8)\n",
      "Current date: 2022-03-26\n",
      "Get DataFrame of shape (575, 8)\n",
      "Current date: 2022-03-26\n",
      "Get DataFrame of shape (575, 8)\n",
      "Current date: 2022-03-26\n",
      "Get DataFrame of shape (575, 8)\n",
      "Waiting for 20 seconds\n"
     ]
    },
    {
     "name": "stderr",
     "output_type": "stream",
     "text": [
      "100%|██████████████████████████████████████████████████████████████████████████████████| 20/20 [00:20<00:00,  1.01s/it]\n"
     ]
    },
    {
     "name": "stdout",
     "output_type": "stream",
     "text": [
      "Waiting for 20 seconds\n"
     ]
    },
    {
     "name": "stderr",
     "output_type": "stream",
     "text": [
      "100%|██████████████████████████████████████████████████████████████████████████████████| 20/20 [00:20<00:00,  1.01s/it]\n"
     ]
    },
    {
     "name": "stdout",
     "output_type": "stream",
     "text": [
      "Waiting for 20 seconds\n"
     ]
    },
    {
     "name": "stderr",
     "output_type": "stream",
     "text": [
      "100%|██████████████████████████████████████████████████████████████████████████████████| 20/20 [00:20<00:00,  1.01s/it]\n"
     ]
    },
    {
     "name": "stdout",
     "output_type": "stream",
     "text": [
      "Current date: 2022-03-26\n",
      "Get DataFrame of shape (575, 8)\n",
      "Current date: 2022-03-26\n",
      "Get DataFrame of shape (575, 8)\n",
      "Current date: 2022-03-26\n",
      "Get DataFrame of shape (575, 8)\n",
      "Current date: 2022-03-26\n",
      "Get DataFrame of shape (575, 8)\n",
      "Current date: 2022-03-26\n",
      "Get DataFrame of shape (575, 8)\n",
      "Waiting for 20 seconds\n"
     ]
    },
    {
     "name": "stderr",
     "output_type": "stream",
     "text": [
      "100%|██████████████████████████████████████████████████████████████████████████████████| 20/20 [00:20<00:00,  1.01s/it]\n"
     ]
    },
    {
     "name": "stdout",
     "output_type": "stream",
     "text": [
      "Waiting for 20 seconds\n"
     ]
    },
    {
     "name": "stderr",
     "output_type": "stream",
     "text": [
      "100%|██████████████████████████████████████████████████████████████████████████████████| 20/20 [00:20<00:00,  1.01s/it]\n"
     ]
    },
    {
     "name": "stdout",
     "output_type": "stream",
     "text": [
      "Waiting for 20 seconds\n"
     ]
    },
    {
     "name": "stderr",
     "output_type": "stream",
     "text": [
      "100%|██████████████████████████████████████████████████████████████████████████████████| 20/20 [00:20<00:00,  1.01s/it]\n"
     ]
    },
    {
     "name": "stdout",
     "output_type": "stream",
     "text": [
      "Current date: 2022-03-26\n",
      "Get DataFrame of shape (575, 8)\n",
      "Current date: 2022-03-26\n",
      "Get DataFrame of shape (575, 8)\n",
      "Current date: 2022-03-26\n",
      "Get DataFrame of shape (575, 8)\n",
      "Current date: 2022-03-26\n",
      "Get DataFrame of shape (575, 8)\n",
      "Current date: 2022-03-26\n",
      "Get DataFrame of shape (575, 8)\n",
      "Waiting for 20 seconds\n"
     ]
    },
    {
     "name": "stderr",
     "output_type": "stream",
     "text": [
      "100%|██████████████████████████████████████████████████████████████████████████████████| 20/20 [00:20<00:00,  1.01s/it]\n"
     ]
    },
    {
     "name": "stdout",
     "output_type": "stream",
     "text": [
      "Waiting for 20 seconds\n"
     ]
    },
    {
     "name": "stderr",
     "output_type": "stream",
     "text": [
      "100%|██████████████████████████████████████████████████████████████████████████████████| 20/20 [00:20<00:00,  1.01s/it]\n"
     ]
    },
    {
     "name": "stdout",
     "output_type": "stream",
     "text": [
      "Current date: 2022-03-26\n",
      "Get DataFrame of shape (575, 8)\n",
      "Current date: 2022-03-26\n",
      "Get DataFrame of shape (575, 8)\n",
      "Current date: 2022-03-26\n",
      "Get DataFrame of shape (575, 8)\n",
      "Current date: 2022-03-26\n",
      "Get DataFrame of shape (575, 8)\n",
      "Current date: 2022-03-26\n",
      "Get DataFrame of shape (575, 8)\n",
      "Waiting for 20 seconds\n"
     ]
    },
    {
     "name": "stderr",
     "output_type": "stream",
     "text": [
      "100%|██████████████████████████████████████████████████████████████████████████████████| 20/20 [00:20<00:00,  1.01s/it]\n"
     ]
    },
    {
     "name": "stdout",
     "output_type": "stream",
     "text": [
      "Waiting for 20 seconds\n"
     ]
    },
    {
     "name": "stderr",
     "output_type": "stream",
     "text": [
      "100%|██████████████████████████████████████████████████████████████████████████████████| 20/20 [00:20<00:00,  1.01s/it]\n"
     ]
    },
    {
     "name": "stdout",
     "output_type": "stream",
     "text": [
      "Waiting for 20 seconds\n"
     ]
    },
    {
     "name": "stderr",
     "output_type": "stream",
     "text": [
      "100%|██████████████████████████████████████████████████████████████████████████████████| 20/20 [00:20<00:00,  1.01s/it]\n"
     ]
    },
    {
     "name": "stdout",
     "output_type": "stream",
     "text": [
      "Current date: 2022-03-26\n",
      "Get DataFrame of shape (575, 8)\n",
      "Current date: 2022-03-26\n",
      "Get DataFrame of shape (575, 8)\n",
      "Current date: 2022-03-26\n",
      "Get DataFrame of shape (575, 8)\n",
      "Current date: 2022-03-26\n",
      "Get DataFrame of shape (575, 8)\n",
      "Current date: 2022-03-26\n",
      "Get DataFrame of shape (575, 8)\n",
      "Waiting for 20 seconds\n"
     ]
    },
    {
     "name": "stderr",
     "output_type": "stream",
     "text": [
      " 10%|████████▎                                                                          | 2/20 [00:02<00:18,  1.01s/it]"
     ]
    }
   ],
   "source": [
    "dfs = []\n",
    "for token in TOKENS:\n",
    "    data = get_data(\n",
    "        token=token,\n",
    "        interval_len=TIME_INTERVAL,\n",
    "        interval=TIME_UNITS,\n",
    "        from_date=FROM_DATE, \n",
    "        to_date=TO_DATE\n",
    "    )\n",
    "\n",
    "    data[\"t\"] = data[\"t\"].apply(lambda row: pd.Timestamp(row, unit=\"ms\"))\n",
    "    data[\"ticker\"] = token\n",
    "    dfs.append(data)"
   ]
  },
  {
   "cell_type": "code",
   "execution_count": 41,
   "id": "ff625d77",
   "metadata": {},
   "outputs": [],
   "source": [
    "TEST_RATIO = 0.2\n",
    "test_size = int(data.shape[0] * TEST_RATIO)\n",
    "data_train = data.iloc[:-test_size]\n",
    "data_test = data.iloc[-test_size:]\n",
    "\n",
    "data_train.to_csv(TRAIN_RESULT_PATH)\n",
    "data_test.to_csv(TEST_RESULT_PATH)"
   ]
  }
 ],
 "metadata": {
  "kernelspec": {
   "display_name": "Python 3 (ipykernel)",
   "language": "python",
   "name": "python3"
  },
  "language_info": {
   "codemirror_mode": {
    "name": "ipython",
    "version": 3
   },
   "file_extension": ".py",
   "mimetype": "text/x-python",
   "name": "python",
   "nbconvert_exporter": "python",
   "pygments_lexer": "ipython3",
   "version": "3.9.7"
  }
 },
 "nbformat": 4,
 "nbformat_minor": 5
}