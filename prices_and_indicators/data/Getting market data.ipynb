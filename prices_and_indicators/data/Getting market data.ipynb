{
 "cells": [
  {
   "cell_type": "code",
   "execution_count": 1,
   "id": "36ca41d0",
   "metadata": {},
   "outputs": [],
   "source": [
    "import pandas as pd\n",
    "import numpy as np\n",
    "import requests\n",
    "import re\n",
    "import os\n",
    "from time import sleep\n",
    "from tqdm import tqdm\n",
    "from functools import reduce\n",
    "\n",
    "import datetime"
   ]
  },
  {
   "cell_type": "code",
   "execution_count": 11,
   "id": "10d879c6",
   "metadata": {},
   "outputs": [],
   "source": [
    "BASE_GOOGLE_FINANCE_URL = \"https://api.polygon.io/v2/aggs/ticker/{TICKER}/range/{INTERVAL}/\" +\\\n",
    "                          \"{RANGE}/{FROM_DATE}/{TO_DATE}?limit=50000&apiKey=MNxlbyNXPpKmAki1jcScqmXxzPvdXWYT\"\n",
    "\n",
    "# TOKENS = [\n",
    "#     \"AAPL\", \"GOOG\", \"MSFT\", \"TSLA\", \"NVDA\", \"AMZN\",\n",
    "#     \"FB\", \"BABA\", \"CRM\", \"INTC\", \"AMD\", \"PYPL\", \"ATVI\",\n",
    "#     \"EA\", \"TTD\", \"MTCH\", \"ZG\", \"YELP\"\n",
    "# ]\n",
    "TOKENS = [\"X:BTCUSD\"]\n",
    "\n",
    "TIME_INTERVAL = 15\n",
    "TIME_UNITS = \"minute\"\n",
    "FROM_DATE = pd.Timestamp(\"2018-02-18\").date()\n",
    "TO_DATE = pd.Timestamp(\"2022-04-11\").date()\n",
    "\n",
    "DATASET_NAME = \"BTC\"\n",
    "\n",
    "FULL_RESULT_PATH = f\"prices/{DATASET_NAME}_{TIME_INTERVAL}{TIME_UNITS}.csv\"\n",
    "TRAIN_RESULT_PATH = f\"prices/{DATASET_NAME}_{TIME_INTERVAL}{TIME_UNITS}_train.csv\"\n",
    "TEST_RESULT_PATH = f\"prices/{DATASET_NAME}_{TIME_INTERVAL}{TIME_UNITS}_test.csv\""
   ]
  },
  {
   "cell_type": "code",
   "execution_count": 12,
   "id": "24c22182",
   "metadata": {},
   "outputs": [],
   "source": [
    "def get_url(token: str, interval_len: int, interval: str, from_date: datetime.date, to_date: datetime.date):\n",
    "    \"\"\"\n",
    "    Build url for Google Finance API\n",
    "    \"\"\"\n",
    "    url = re.sub(\"{TICKER}\", token, BASE_GOOGLE_FINANCE_URL)\n",
    "    url = re.sub(\"{INTERVAL}\", str(interval_len), url)\n",
    "    url = re.sub(\"{RANGE}\", interval, url)\n",
    "    url = re.sub(\"{FROM_DATE}\", str(from_date), url)\n",
    "    url = re.sub(\"{TO_DATE}\", str(to_date), url)\n",
    "    return url"
   ]
  },
  {
   "cell_type": "code",
   "execution_count": 13,
   "id": "a6484cec",
   "metadata": {},
   "outputs": [],
   "source": [
    "def get_data(token: str, interval_len: int, interval: str, from_date: datetime.date, to_date: datetime.date):\n",
    "    TIMEOUT = 20\n",
    "    current_date = from_date\n",
    "    previous_date = current_date\n",
    "    dfs = []\n",
    "    while current_date <= to_date:\n",
    "        request_url = get_url(token, interval_len, interval, current_date, to_date)\n",
    "        data = requests.get(url=request_url)\n",
    "        if data.json()[\"status\"] == \"ERROR\":\n",
    "            print(\"Waiting for\", TIMEOUT, \"seconds\")\n",
    "            for _ in tqdm(range(TIMEOUT)):\n",
    "                sleep(1)\n",
    "        else:\n",
    "            try:\n",
    "                current_df = pd.DataFrame(data.json()[\"results\"])\n",
    "            except:\n",
    "                pass\n",
    "            current_date = (pd.Timestamp(current_df[\"t\"].max(), unit=\"ms\") + pd.DateOffset(days=1)).date()\n",
    "            print(\"Current date:\", current_date)\n",
    "            print(\"Get DataFrame of shape\", current_df.shape)\n",
    "            dfs.append(current_df)\n",
    "    result_df = pd.concat(dfs)\n",
    "    result_df.drop_duplicates(inplace=True)\n",
    "    return result_df"
   ]
  },
  {
   "cell_type": "code",
   "execution_count": 14,
   "id": "2b02db58",
   "metadata": {
    "scrolled": true
   },
   "outputs": [
    {
     "name": "stdout",
     "output_type": "stream",
     "text": [
      "Waiting for 20 seconds\n"
     ]
    },
    {
     "name": "stderr",
     "output_type": "stream",
     "text": [
      "100%|██████████████████████████████████████████████████████████████████████████████████| 20/20 [00:20<00:00,  1.00s/it]\n"
     ]
    },
    {
     "name": "stdout",
     "output_type": "stream",
     "text": [
      "Current date: 2020-05-19\n",
      "Get DataFrame of shape (3333, 8)\n",
      "Current date: 2020-06-23\n",
      "Get DataFrame of shape (3333, 8)\n",
      "Current date: 2020-07-28\n",
      "Get DataFrame of shape (3333, 8)\n",
      "Current date: 2020-09-01\n",
      "Get DataFrame of shape (3333, 8)\n",
      "Current date: 2020-10-06\n",
      "Get DataFrame of shape (3333, 8)\n",
      "Waiting for 20 seconds\n"
     ]
    },
    {
     "name": "stderr",
     "output_type": "stream",
     "text": [
      "100%|██████████████████████████████████████████████████████████████████████████████████| 20/20 [00:20<00:00,  1.01s/it]\n"
     ]
    },
    {
     "name": "stdout",
     "output_type": "stream",
     "text": [
      "Waiting for 20 seconds\n"
     ]
    },
    {
     "name": "stderr",
     "output_type": "stream",
     "text": [
      "100%|██████████████████████████████████████████████████████████████████████████████████| 20/20 [00:20<00:00,  1.01s/it]\n"
     ]
    },
    {
     "name": "stdout",
     "output_type": "stream",
     "text": [
      "Waiting for 20 seconds\n"
     ]
    },
    {
     "name": "stderr",
     "output_type": "stream",
     "text": [
      "100%|██████████████████████████████████████████████████████████████████████████████████| 20/20 [00:20<00:00,  1.01s/it]\n"
     ]
    },
    {
     "name": "stdout",
     "output_type": "stream",
     "text": [
      "Current date: 2020-11-10\n",
      "Get DataFrame of shape (3333, 8)\n",
      "Current date: 2020-12-15\n",
      "Get DataFrame of shape (3333, 8)\n",
      "Current date: 2021-01-19\n",
      "Get DataFrame of shape (3333, 8)\n",
      "Current date: 2021-02-23\n",
      "Get DataFrame of shape (3333, 8)\n",
      "Current date: 2021-03-30\n",
      "Get DataFrame of shape (3333, 8)\n",
      "Waiting for 20 seconds\n"
     ]
    },
    {
     "name": "stderr",
     "output_type": "stream",
     "text": [
      "100%|██████████████████████████████████████████████████████████████████████████████████| 20/20 [00:20<00:00,  1.01s/it]\n"
     ]
    },
    {
     "name": "stdout",
     "output_type": "stream",
     "text": [
      "Waiting for 20 seconds\n"
     ]
    },
    {
     "name": "stderr",
     "output_type": "stream",
     "text": [
      "100%|██████████████████████████████████████████████████████████████████████████████████| 20/20 [00:20<00:00,  1.01s/it]\n"
     ]
    },
    {
     "name": "stdout",
     "output_type": "stream",
     "text": [
      "Current date: 2021-05-04\n",
      "Get DataFrame of shape (3333, 8)\n",
      "Current date: 2021-06-08\n",
      "Get DataFrame of shape (3333, 8)\n",
      "Current date: 2021-07-13\n",
      "Get DataFrame of shape (3333, 8)\n",
      "Current date: 2021-08-17\n",
      "Get DataFrame of shape (3333, 8)\n",
      "Current date: 2021-09-21\n",
      "Get DataFrame of shape (3333, 8)\n",
      "Waiting for 20 seconds\n"
     ]
    },
    {
     "name": "stderr",
     "output_type": "stream",
     "text": [
      "100%|██████████████████████████████████████████████████████████████████████████████████| 20/20 [00:20<00:00,  1.01s/it]\n"
     ]
    },
    {
     "name": "stdout",
     "output_type": "stream",
     "text": [
      "Waiting for 20 seconds\n"
     ]
    },
    {
     "name": "stderr",
     "output_type": "stream",
     "text": [
      "100%|██████████████████████████████████████████████████████████████████████████████████| 20/20 [00:20<00:00,  1.01s/it]\n"
     ]
    },
    {
     "name": "stdout",
     "output_type": "stream",
     "text": [
      "Waiting for 20 seconds\n"
     ]
    },
    {
     "name": "stderr",
     "output_type": "stream",
     "text": [
      "100%|██████████████████████████████████████████████████████████████████████████████████| 20/20 [00:20<00:00,  1.01s/it]\n"
     ]
    },
    {
     "name": "stdout",
     "output_type": "stream",
     "text": [
      "Current date: 2021-10-26\n",
      "Get DataFrame of shape (3333, 8)\n",
      "Current date: 2021-11-30\n",
      "Get DataFrame of shape (3333, 8)\n",
      "Current date: 2022-01-05\n",
      "Get DataFrame of shape (3333, 8)\n",
      "Current date: 2022-02-09\n",
      "Get DataFrame of shape (3333, 8)\n",
      "Current date: 2022-03-16\n",
      "Get DataFrame of shape (3333, 8)\n",
      "Waiting for 20 seconds\n"
     ]
    },
    {
     "name": "stderr",
     "output_type": "stream",
     "text": [
      "100%|██████████████████████████████████████████████████████████████████████████████████| 20/20 [00:20<00:00,  1.01s/it]\n"
     ]
    },
    {
     "name": "stdout",
     "output_type": "stream",
     "text": [
      "Waiting for 20 seconds\n"
     ]
    },
    {
     "name": "stderr",
     "output_type": "stream",
     "text": [
      "100%|██████████████████████████████████████████████████████████████████████████████████| 20/20 [00:20<00:00,  1.01s/it]\n"
     ]
    },
    {
     "name": "stdout",
     "output_type": "stream",
     "text": [
      "Waiting for 20 seconds\n"
     ]
    },
    {
     "name": "stderr",
     "output_type": "stream",
     "text": [
      "100%|██████████████████████████████████████████████████████████████████████████████████| 20/20 [00:20<00:00,  1.01s/it]\n"
     ]
    },
    {
     "name": "stdout",
     "output_type": "stream",
     "text": [
      "Current date: 2022-04-12\n",
      "Get DataFrame of shape (2592, 8)\n"
     ]
    }
   ],
   "source": [
    "dfs = []\n",
    "for token in TOKENS:\n",
    "    data = get_data(\n",
    "        token=token,\n",
    "        interval_len=TIME_INTERVAL,\n",
    "        interval=TIME_UNITS,\n",
    "        from_date=FROM_DATE, \n",
    "        to_date=TO_DATE\n",
    "    )\n",
    "\n",
    "    data[\"t\"] = data[\"t\"].apply(lambda row: pd.Timestamp(row, unit=\"ms\"))\n",
    "    data[\"ticker\"] = token\n",
    "    dfs.append(data)"
   ]
  },
  {
   "cell_type": "code",
   "execution_count": 8,
   "id": "536b8037",
   "metadata": {},
   "outputs": [
    {
     "name": "stdout",
     "output_type": "stream",
     "text": [
      "(1036000, 7)\n"
     ]
    },
    {
     "data": {
      "text/html": [
       "<div>\n",
       "<style scoped>\n",
       "    .dataframe tbody tr th:only-of-type {\n",
       "        vertical-align: middle;\n",
       "    }\n",
       "\n",
       "    .dataframe tbody tr th {\n",
       "        vertical-align: top;\n",
       "    }\n",
       "\n",
       "    .dataframe thead th {\n",
       "        text-align: right;\n",
       "    }\n",
       "</style>\n",
       "<table border=\"1\" class=\"dataframe\">\n",
       "  <thead>\n",
       "    <tr style=\"text-align: right;\">\n",
       "      <th></th>\n",
       "      <th>volume</th>\n",
       "      <th>open</th>\n",
       "      <th>close</th>\n",
       "      <th>high</th>\n",
       "      <th>low</th>\n",
       "      <th>date</th>\n",
       "      <th>ticker</th>\n",
       "    </tr>\n",
       "  </thead>\n",
       "  <tbody>\n",
       "    <tr>\n",
       "      <th>0</th>\n",
       "      <td>19.242033</td>\n",
       "      <td>7387.23</td>\n",
       "      <td>7383.66</td>\n",
       "      <td>7393.17</td>\n",
       "      <td>7368.68</td>\n",
       "      <td>2020-04-08 23:43:00</td>\n",
       "      <td>X:BTCUSD</td>\n",
       "    </tr>\n",
       "    <tr>\n",
       "      <th>1</th>\n",
       "      <td>18.150259</td>\n",
       "      <td>7380.30</td>\n",
       "      <td>7379.70</td>\n",
       "      <td>7387.25</td>\n",
       "      <td>7367.68</td>\n",
       "      <td>2020-04-08 23:44:00</td>\n",
       "      <td>X:BTCUSD</td>\n",
       "    </tr>\n",
       "    <tr>\n",
       "      <th>2</th>\n",
       "      <td>18.564893</td>\n",
       "      <td>7380.00</td>\n",
       "      <td>7374.40</td>\n",
       "      <td>7386.49</td>\n",
       "      <td>7365.78</td>\n",
       "      <td>2020-04-08 23:45:00</td>\n",
       "      <td>X:BTCUSD</td>\n",
       "    </tr>\n",
       "    <tr>\n",
       "      <th>3</th>\n",
       "      <td>74.808246</td>\n",
       "      <td>7364.26</td>\n",
       "      <td>7373.59</td>\n",
       "      <td>7380.21</td>\n",
       "      <td>7362.68</td>\n",
       "      <td>2020-04-08 23:46:00</td>\n",
       "      <td>X:BTCUSD</td>\n",
       "    </tr>\n",
       "    <tr>\n",
       "      <th>4</th>\n",
       "      <td>43.765348</td>\n",
       "      <td>7375.00</td>\n",
       "      <td>7366.50</td>\n",
       "      <td>7377.00</td>\n",
       "      <td>7355.39</td>\n",
       "      <td>2020-04-08 23:47:00</td>\n",
       "      <td>X:BTCUSD</td>\n",
       "    </tr>\n",
       "    <tr>\n",
       "      <th>...</th>\n",
       "      <td>...</td>\n",
       "      <td>...</td>\n",
       "      <td>...</td>\n",
       "      <td>...</td>\n",
       "      <td>...</td>\n",
       "      <td>...</td>\n",
       "      <td>...</td>\n",
       "    </tr>\n",
       "    <tr>\n",
       "      <th>1035995</th>\n",
       "      <td>4.936814</td>\n",
       "      <td>46621.95</td>\n",
       "      <td>46597.42</td>\n",
       "      <td>46621.96</td>\n",
       "      <td>46584.52</td>\n",
       "      <td>2022-04-04 23:55:00</td>\n",
       "      <td>X:BTCUSD</td>\n",
       "    </tr>\n",
       "    <tr>\n",
       "      <th>1035996</th>\n",
       "      <td>2.237617</td>\n",
       "      <td>46600.00</td>\n",
       "      <td>46613.03</td>\n",
       "      <td>46615.95</td>\n",
       "      <td>46591.14</td>\n",
       "      <td>2022-04-04 23:56:00</td>\n",
       "      <td>X:BTCUSD</td>\n",
       "    </tr>\n",
       "    <tr>\n",
       "      <th>1035997</th>\n",
       "      <td>8.357742</td>\n",
       "      <td>46613.03</td>\n",
       "      <td>46617.90</td>\n",
       "      <td>46626.59</td>\n",
       "      <td>46609.00</td>\n",
       "      <td>2022-04-04 23:57:00</td>\n",
       "      <td>X:BTCUSD</td>\n",
       "    </tr>\n",
       "    <tr>\n",
       "      <th>1035998</th>\n",
       "      <td>14.586789</td>\n",
       "      <td>46617.89</td>\n",
       "      <td>46622.49</td>\n",
       "      <td>46638.80</td>\n",
       "      <td>46612.45</td>\n",
       "      <td>2022-04-04 23:58:00</td>\n",
       "      <td>X:BTCUSD</td>\n",
       "    </tr>\n",
       "    <tr>\n",
       "      <th>1035999</th>\n",
       "      <td>5.661623</td>\n",
       "      <td>46622.49</td>\n",
       "      <td>46596.83</td>\n",
       "      <td>46632.97</td>\n",
       "      <td>46590.91</td>\n",
       "      <td>2022-04-04 23:59:00</td>\n",
       "      <td>X:BTCUSD</td>\n",
       "    </tr>\n",
       "  </tbody>\n",
       "</table>\n",
       "<p>1036000 rows × 7 columns</p>\n",
       "</div>"
      ],
      "text/plain": [
       "            volume      open     close      high       low  \\\n",
       "0        19.242033   7387.23   7383.66   7393.17   7368.68   \n",
       "1        18.150259   7380.30   7379.70   7387.25   7367.68   \n",
       "2        18.564893   7380.00   7374.40   7386.49   7365.78   \n",
       "3        74.808246   7364.26   7373.59   7380.21   7362.68   \n",
       "4        43.765348   7375.00   7366.50   7377.00   7355.39   \n",
       "...            ...       ...       ...       ...       ...   \n",
       "1035995   4.936814  46621.95  46597.42  46621.96  46584.52   \n",
       "1035996   2.237617  46600.00  46613.03  46615.95  46591.14   \n",
       "1035997   8.357742  46613.03  46617.90  46626.59  46609.00   \n",
       "1035998  14.586789  46617.89  46622.49  46638.80  46612.45   \n",
       "1035999   5.661623  46622.49  46596.83  46632.97  46590.91   \n",
       "\n",
       "                       date    ticker  \n",
       "0       2020-04-08 23:43:00  X:BTCUSD  \n",
       "1       2020-04-08 23:44:00  X:BTCUSD  \n",
       "2       2020-04-08 23:45:00  X:BTCUSD  \n",
       "3       2020-04-08 23:46:00  X:BTCUSD  \n",
       "4       2020-04-08 23:47:00  X:BTCUSD  \n",
       "...                     ...       ...  \n",
       "1035995 2022-04-04 23:55:00  X:BTCUSD  \n",
       "1035996 2022-04-04 23:56:00  X:BTCUSD  \n",
       "1035997 2022-04-04 23:57:00  X:BTCUSD  \n",
       "1035998 2022-04-04 23:58:00  X:BTCUSD  \n",
       "1035999 2022-04-04 23:59:00  X:BTCUSD  \n",
       "\n",
       "[1036000 rows x 7 columns]"
      ]
     },
     "execution_count": 8,
     "metadata": {},
     "output_type": "execute_result"
    }
   ],
   "source": [
    "RENAME_COLUMNS = {\n",
    "    \"v\": \"volume\",\n",
    "    \"o\": \"open\",\n",
    "    \"c\": \"close\",\n",
    "    \"h\": \"high\",\n",
    "    \"l\": \"low\",\n",
    "    \"t\": \"date\"\n",
    "}\n",
    "KEEP_COLUMNS = [\"volume\", \"open\", \"close\", \"high\", \"low\", \"date\", \"ticker\"]\n",
    "\n",
    "result_df = pd.concat(dfs).rename(RENAME_COLUMNS, axis=1)[KEEP_COLUMNS].reset_index(drop=True)\n",
    "print(result_df.shape)\n",
    "result_df"
   ]
  },
  {
   "cell_type": "code",
   "execution_count": 10,
   "id": "7239456c",
   "metadata": {},
   "outputs": [
    {
     "data": {
      "text/plain": [
       "[]"
      ]
     },
     "execution_count": 10,
     "metadata": {},
     "output_type": "execute_result"
    }
   ],
   "source": [
    "dfs"
   ]
  },
  {
   "cell_type": "code",
   "execution_count": 9,
   "id": "ff625d77",
   "metadata": {},
   "outputs": [],
   "source": [
    "TEST_RATIO = 0.2\n",
    "test_size = int(result_df.shape[0] * TEST_RATIO)\n",
    "data_train = result_df.iloc[:-test_size]\n",
    "data_test = result_df.iloc[-test_size:]\n",
    "\n",
    "result_df.to_csv(FULL_RESULT_PATH)\n",
    "data_train.to_csv(TRAIN_RESULT_PATH)\n",
    "data_test.to_csv(TEST_RESULT_PATH)"
   ]
  },
  {
   "cell_type": "code",
   "execution_count": 15,
   "id": "7c000790",
   "metadata": {},
   "outputs": [
    {
     "data": {
      "text/plain": [
       "207200"
      ]
     },
     "execution_count": 15,
     "metadata": {},
     "output_type": "execute_result"
    }
   ],
   "source": [
    "test_size"
   ]
  }
 ],
 "metadata": {
  "kernelspec": {
   "display_name": "Python 3 (ipykernel)",
   "language": "python",
   "name": "python3"
  },
  "language_info": {
   "codemirror_mode": {
    "name": "ipython",
    "version": 3
   },
   "file_extension": ".py",
   "mimetype": "text/x-python",
   "name": "python",
   "nbconvert_exporter": "python",
   "pygments_lexer": "ipython3",
   "version": "3.9.7"
  }
 },
 "nbformat": 4,
 "nbformat_minor": 5
}
