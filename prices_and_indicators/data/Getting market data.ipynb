{
 "cells": [
  {
   "cell_type": "code",
   "execution_count": 3,
   "id": "36ca41d0",
   "metadata": {},
   "outputs": [],
   "source": [
    "import pandas as pd\n",
    "import numpy as np\n",
    "import requests\n",
    "import re\n",
    "import os\n",
    "from time import sleep\n",
    "from tqdm import tqdm\n",
    "from functools import reduce\n",
    "\n",
    "import datetime"
   ]
  },
  {
   "cell_type": "code",
   "execution_count": 13,
   "id": "10d879c6",
   "metadata": {},
   "outputs": [],
   "source": [
    "BASE_GOOGLE_FINANCE_URL = \"https://api.polygon.io/v2/aggs/ticker/{TICKER}/range/{INTERVAL}/\" +\\\n",
    "                          \"{RANGE}/{FROM_DATE}/{TO_DATE}?limit=50000&apiKey=MNxlbyNXPpKmAki1jcScqmXxzPvdXWYT\"\n",
    "\n",
    "TOKENS = [\n",
    "    \"AAPL\", \"GOOG\", \"MSFT\", \"TSLA\", \"NVDA\", \"AMZN\",\n",
    "    \"FB\", \"BABA\", \"CRM\", \"INTC\", \"AMD\", \"PYPL\", \"ATVI\",\n",
    "    \"EA\", \"TTD\", \"MTCH\", \"ZG\", \"YELP\"\n",
    "]\n",
    "# TOKENS = [\"AAPL\"]\n",
    "\n",
    "TIME_INTERVAL = 15\n",
    "TIME_UNITS = \"minute\"\n",
    "FROM_DATE = pd.Timestamp(\"2019-02-18\").date()\n",
    "TO_DATE = pd.Timestamp(\"2022-04-04\").date()\n",
    "\n",
    "DATASET_NAME = \"tech_companies\"\n",
    "\n",
    "FULL_RESULT_PATH = f\"prices/{DATASET_NAME}_{TIME_INTERVAL}{TIME_UNITS}.csv\"\n",
    "TRAIN_RESULT_PATH = f\"prices/{DATASET_NAME}_{TIME_INTERVAL}{TIME_UNITS}_train.csv\"\n",
    "TEST_RESULT_PATH = f\"prices/{DATASET_NAME}_{TIME_INTERVAL}{TIME_UNITS}_test.csv\""
   ]
  },
  {
   "cell_type": "code",
   "execution_count": 5,
   "id": "24c22182",
   "metadata": {},
   "outputs": [],
   "source": [
    "def get_url(token: str, interval_len: int, interval: str, from_date: datetime.date, to_date: datetime.date):\n",
    "    \"\"\"\n",
    "    Build url for Google Finance API\n",
    "    \"\"\"\n",
    "    url = re.sub(\"{TICKER}\", token, BASE_GOOGLE_FINANCE_URL)\n",
    "    url = re.sub(\"{INTERVAL}\", str(interval_len), url)\n",
    "    url = re.sub(\"{RANGE}\", interval, url)\n",
    "    url = re.sub(\"{FROM_DATE}\", str(from_date), url)\n",
    "    url = re.sub(\"{TO_DATE}\", str(to_date), url)\n",
    "    return url"
   ]
  },
  {
   "cell_type": "code",
   "execution_count": 6,
   "id": "a6484cec",
   "metadata": {},
   "outputs": [],
   "source": [
    "def get_data(token: str, interval_len: int, interval: str, from_date: datetime.date, to_date: datetime.date):\n",
    "    TIMEOUT = 20\n",
    "    current_date = from_date\n",
    "    previous_date = current_date\n",
    "    dfs = []\n",
    "    while current_date <= to_date:\n",
    "        request_url = get_url(token, interval_len, interval, current_date, to_date)\n",
    "        data = requests.get(url=request_url)\n",
    "        if data.json()[\"status\"] == \"ERROR\":\n",
    "            print(\"Waiting for\", TIMEOUT, \"seconds\")\n",
    "            for _ in tqdm(range(TIMEOUT)):\n",
    "                sleep(1)\n",
    "        else:\n",
    "            try:\n",
    "                current_df = pd.DataFrame(data.json()[\"results\"])\n",
    "            except:\n",
    "                pass\n",
    "            current_date = (pd.Timestamp(current_df[\"t\"].max(), unit=\"ms\") + pd.DateOffset(days=1)).date()\n",
    "            print(\"Current date:\", current_date)\n",
    "            print(\"Get DataFrame of shape\", current_df.shape)\n",
    "            dfs.append(current_df)\n",
    "    result_df = pd.concat(dfs)\n",
    "    result_df.drop_duplicates(inplace=True)\n",
    "    return result_df"
   ]
  },
  {
   "cell_type": "code",
   "execution_count": 7,
   "id": "2b02db58",
   "metadata": {
    "scrolled": true
   },
   "outputs": [
    {
     "name": "stdout",
     "output_type": "stream",
     "text": [
      "Current date: 2020-07-15\n",
      "Get DataFrame of shape (4395, 8)\n",
      "Current date: 2020-10-08\n",
      "Get DataFrame of shape (3809, 8)\n",
      "Current date: 2021-01-01\n",
      "Get DataFrame of shape (3662, 8)\n",
      "Current date: 2021-03-26\n",
      "Get DataFrame of shape (3616, 8)\n",
      "Current date: 2021-06-24\n",
      "Get DataFrame of shape (3939, 8)\n",
      "Waiting for 20 seconds\n"
     ]
    },
    {
     "name": "stderr",
     "output_type": "stream",
     "text": [
      "100%|██████████████████████████████████████████████████████████████████████████████████| 20/20 [00:20<00:00,  1.01s/it]\n"
     ]
    },
    {
     "name": "stdout",
     "output_type": "stream",
     "text": [
      "Waiting for 20 seconds\n"
     ]
    },
    {
     "name": "stderr",
     "output_type": "stream",
     "text": [
      "100%|██████████████████████████████████████████████████████████████████████████████████| 20/20 [00:20<00:00,  1.01s/it]\n"
     ]
    },
    {
     "name": "stdout",
     "output_type": "stream",
     "text": [
      "Current date: 2021-09-24\n",
      "Get DataFrame of shape (4041, 8)\n",
      "Current date: 2021-12-22\n",
      "Get DataFrame of shape (3909, 8)\n",
      "Current date: 2022-03-22\n",
      "Get DataFrame of shape (3853, 8)\n",
      "Current date: 2022-04-05\n",
      "Get DataFrame of shape (639, 8)\n",
      "Current date: 2020-09-30\n",
      "Get DataFrame of shape (4582, 8)\n",
      "Waiting for 20 seconds\n"
     ]
    },
    {
     "name": "stderr",
     "output_type": "stream",
     "text": [
      "100%|██████████████████████████████████████████████████████████████████████████████████| 20/20 [00:20<00:00,  1.01s/it]\n"
     ]
    },
    {
     "name": "stdout",
     "output_type": "stream",
     "text": [
      "Waiting for 20 seconds\n"
     ]
    },
    {
     "name": "stderr",
     "output_type": "stream",
     "text": [
      "100%|██████████████████████████████████████████████████████████████████████████████████| 20/20 [00:20<00:00,  1.01s/it]\n"
     ]
    },
    {
     "name": "stdout",
     "output_type": "stream",
     "text": [
      "Current date: 2021-04-02\n",
      "Get DataFrame of shape (4563, 8)\n",
      "Current date: 2021-10-14\n",
      "Get DataFrame of shape (4712, 8)\n",
      "Current date: 2022-04-05\n",
      "Get DataFrame of shape (4312, 8)\n",
      "Current date: 2020-07-21\n",
      "Get DataFrame of shape (4589, 8)\n",
      "Current date: 2020-10-31\n",
      "Get DataFrame of shape (4535, 8)\n",
      "Waiting for 20 seconds\n"
     ]
    },
    {
     "name": "stderr",
     "output_type": "stream",
     "text": [
      "100%|██████████████████████████████████████████████████████████████████████████████████| 20/20 [00:20<00:00,  1.01s/it]\n"
     ]
    },
    {
     "name": "stdout",
     "output_type": "stream",
     "text": [
      "Waiting for 20 seconds\n"
     ]
    },
    {
     "name": "stderr",
     "output_type": "stream",
     "text": [
      "100%|██████████████████████████████████████████████████████████████████████████████████| 20/20 [00:20<00:00,  1.01s/it]\n"
     ]
    },
    {
     "name": "stdout",
     "output_type": "stream",
     "text": [
      "Waiting for 20 seconds\n"
     ]
    },
    {
     "name": "stderr",
     "output_type": "stream",
     "text": [
      "100%|██████████████████████████████████████████████████████████████████████████████████| 20/20 [00:20<00:00,  1.01s/it]\n"
     ]
    },
    {
     "name": "stdout",
     "output_type": "stream",
     "text": [
      "Current date: 2021-03-02\n",
      "Get DataFrame of shape (4883, 8)\n",
      "Current date: 2021-07-01\n",
      "Get DataFrame of shape (5126, 8)\n",
      "Current date: 2021-11-02\n",
      "Get DataFrame of shape (5186, 8)\n",
      "Current date: 2022-02-24\n",
      "Get DataFrame of shape (4824, 8)\n",
      "Current date: 2022-04-05\n",
      "Get DataFrame of shape (1755, 8)\n",
      "Waiting for 20 seconds\n"
     ]
    },
    {
     "name": "stderr",
     "output_type": "stream",
     "text": [
      "100%|██████████████████████████████████████████████████████████████████████████████████| 20/20 [00:20<00:00,  1.01s/it]\n"
     ]
    },
    {
     "name": "stdout",
     "output_type": "stream",
     "text": [
      "Waiting for 20 seconds\n"
     ]
    },
    {
     "name": "stderr",
     "output_type": "stream",
     "text": [
      "100%|██████████████████████████████████████████████████████████████████████████████████| 20/20 [00:20<00:00,  1.01s/it]\n"
     ]
    },
    {
     "name": "stdout",
     "output_type": "stream",
     "text": [
      "Waiting for 20 seconds\n"
     ]
    },
    {
     "name": "stderr",
     "output_type": "stream",
     "text": [
      "100%|██████████████████████████████████████████████████████████████████████████████████| 20/20 [00:20<00:00,  1.01s/it]\n"
     ]
    },
    {
     "name": "stdout",
     "output_type": "stream",
     "text": [
      "Current date: 2020-07-23\n",
      "Get DataFrame of shape (4650, 8)\n",
      "Current date: 2020-10-23\n",
      "Get DataFrame of shape (3994, 8)\n",
      "Current date: 2021-01-26\n",
      "Get DataFrame of shape (3945, 8)\n",
      "Current date: 2021-04-29\n",
      "Get DataFrame of shape (4076, 8)\n",
      "Current date: 2021-08-10\n",
      "Get DataFrame of shape (4452, 8)\n",
      "Waiting for 20 seconds\n"
     ]
    },
    {
     "name": "stderr",
     "output_type": "stream",
     "text": [
      "100%|██████████████████████████████████████████████████████████████████████████████████| 20/20 [00:20<00:00,  1.01s/it]\n"
     ]
    },
    {
     "name": "stdout",
     "output_type": "stream",
     "text": [
      "Waiting for 20 seconds\n"
     ]
    },
    {
     "name": "stderr",
     "output_type": "stream",
     "text": [
      "100%|██████████████████████████████████████████████████████████████████████████████████| 20/20 [00:20<00:00,  1.01s/it]\n"
     ]
    },
    {
     "name": "stdout",
     "output_type": "stream",
     "text": [
      "Current date: 2021-11-19\n",
      "Get DataFrame of shape (4493, 8)\n",
      "Current date: 2022-02-26\n",
      "Get DataFrame of shape (4210, 8)\n",
      "Current date: 2022-04-05\n",
      "Get DataFrame of shape (1660, 8)\n",
      "Current date: 2020-08-07\n",
      "Get DataFrame of shape (4980, 8)\n",
      "Current date: 2020-12-09\n",
      "Get DataFrame of shape (4975, 8)\n",
      "Waiting for 20 seconds\n"
     ]
    },
    {
     "name": "stderr",
     "output_type": "stream",
     "text": [
      "100%|██████████████████████████████████████████████████████████████████████████████████| 20/20 [00:20<00:00,  1.01s/it]\n"
     ]
    },
    {
     "name": "stdout",
     "output_type": "stream",
     "text": [
      "Waiting for 20 seconds\n"
     ]
    },
    {
     "name": "stderr",
     "output_type": "stream",
     "text": [
      "100%|██████████████████████████████████████████████████████████████████████████████████| 20/20 [00:20<00:00,  1.01s/it]\n"
     ]
    },
    {
     "name": "stdout",
     "output_type": "stream",
     "text": [
      "Waiting for 20 seconds\n"
     ]
    },
    {
     "name": "stderr",
     "output_type": "stream",
     "text": [
      "100%|██████████████████████████████████████████████████████████████████████████████████| 20/20 [00:20<00:00,  1.01s/it]\n"
     ]
    },
    {
     "name": "stdout",
     "output_type": "stream",
     "text": [
      "Current date: 2021-04-29\n",
      "Get DataFrame of shape (5275, 8)\n",
      "Current date: 2021-08-27\n",
      "Get DataFrame of shape (4959, 8)\n",
      "Current date: 2021-12-10\n",
      "Get DataFrame of shape (4505, 8)\n",
      "Current date: 2022-03-12\n",
      "Get DataFrame of shape (4006, 8)\n",
      "Current date: 2022-04-05\n",
      "Get DataFrame of shape (1020, 8)\n",
      "Waiting for 20 seconds\n"
     ]
    },
    {
     "name": "stderr",
     "output_type": "stream",
     "text": [
      "100%|██████████████████████████████████████████████████████████████████████████████████| 20/20 [00:20<00:00,  1.01s/it]\n"
     ]
    },
    {
     "name": "stdout",
     "output_type": "stream",
     "text": [
      "Waiting for 20 seconds\n"
     ]
    },
    {
     "name": "stderr",
     "output_type": "stream",
     "text": [
      "100%|██████████████████████████████████████████████████████████████████████████████████| 20/20 [00:20<00:00,  1.01s/it]\n"
     ]
    },
    {
     "name": "stdout",
     "output_type": "stream",
     "text": [
      "Waiting for 20 seconds\n"
     ]
    },
    {
     "name": "stderr",
     "output_type": "stream",
     "text": [
      "100%|██████████████████████████████████████████████████████████████████████████████████| 20/20 [00:20<00:00,  1.01s/it]\n"
     ]
    },
    {
     "name": "stdout",
     "output_type": "stream",
     "text": [
      "Current date: 2020-08-27\n",
      "Get DataFrame of shape (5302, 8)\n",
      "Current date: 2021-01-23\n",
      "Get DataFrame of shape (5225, 8)\n",
      "Current date: 2021-06-25\n",
      "Get DataFrame of shape (5290, 8)\n",
      "Current date: 2021-12-01\n",
      "Get DataFrame of shape (5197, 8)\n",
      "Current date: 2022-04-05\n",
      "Get DataFrame of shape (4125, 8)\n",
      "Waiting for 20 seconds\n"
     ]
    },
    {
     "name": "stderr",
     "output_type": "stream",
     "text": [
      "100%|██████████████████████████████████████████████████████████████████████████████████| 20/20 [00:20<00:00,  1.01s/it]\n"
     ]
    },
    {
     "name": "stdout",
     "output_type": "stream",
     "text": [
      "Waiting for 20 seconds\n"
     ]
    },
    {
     "name": "stderr",
     "output_type": "stream",
     "text": [
      "100%|██████████████████████████████████████████████████████████████████████████████████| 20/20 [00:20<00:00,  1.01s/it]\n"
     ]
    },
    {
     "name": "stdout",
     "output_type": "stream",
     "text": [
      "Current date: 2020-07-31\n",
      "Get DataFrame of shape (4959, 8)\n",
      "Current date: 2020-11-25\n",
      "Get DataFrame of shape (4918, 8)\n",
      "Current date: 2021-04-01\n",
      "Get DataFrame of shape (5098, 8)\n",
      "Current date: 2021-08-12\n",
      "Get DataFrame of shape (5267, 8)\n",
      "Current date: 2021-12-16\n",
      "Get DataFrame of shape (5118, 8)\n",
      "Waiting for 20 seconds\n"
     ]
    },
    {
     "name": "stderr",
     "output_type": "stream",
     "text": [
      "100%|██████████████████████████████████████████████████████████████████████████████████| 20/20 [00:20<00:00,  1.01s/it]\n"
     ]
    },
    {
     "name": "stdout",
     "output_type": "stream",
     "text": [
      "Waiting for 20 seconds\n"
     ]
    },
    {
     "name": "stderr",
     "output_type": "stream",
     "text": [
      "100%|██████████████████████████████████████████████████████████████████████████████████| 20/20 [00:20<00:00,  1.01s/it]\n"
     ]
    },
    {
     "name": "stdout",
     "output_type": "stream",
     "text": [
      "Waiting for 20 seconds\n"
     ]
    },
    {
     "name": "stderr",
     "output_type": "stream",
     "text": [
      "100%|██████████████████████████████████████████████████████████████████████████████████| 20/20 [00:20<00:00,  1.01s/it]\n"
     ]
    },
    {
     "name": "stdout",
     "output_type": "stream",
     "text": [
      "Current date: 2022-04-05\n",
      "Get DataFrame of shape (4655, 8)\n",
      "Current date: 2020-07-30\n",
      "Get DataFrame of shape (5029, 8)\n",
      "Current date: 2020-11-20\n",
      "Get DataFrame of shape (4930, 8)\n",
      "Current date: 2021-03-10\n",
      "Get DataFrame of shape (4543, 8)\n",
      "Current date: 2021-07-08\n",
      "Get DataFrame of shape (5144, 8)\n",
      "Waiting for 20 seconds\n"
     ]
    },
    {
     "name": "stderr",
     "output_type": "stream",
     "text": [
      "100%|██████████████████████████████████████████████████████████████████████████████████| 20/20 [00:20<00:00,  1.01s/it]\n"
     ]
    },
    {
     "name": "stdout",
     "output_type": "stream",
     "text": [
      "Waiting for 20 seconds\n"
     ]
    },
    {
     "name": "stderr",
     "output_type": "stream",
     "text": [
      "100%|██████████████████████████████████████████████████████████████████████████████████| 20/20 [00:20<00:00,  1.01s/it]\n"
     ]
    },
    {
     "name": "stdout",
     "output_type": "stream",
     "text": [
      "Waiting for 20 seconds\n"
     ]
    },
    {
     "name": "stderr",
     "output_type": "stream",
     "text": [
      "100%|██████████████████████████████████████████████████████████████████████████████████| 20/20 [00:20<00:00,  1.01s/it]\n"
     ]
    },
    {
     "name": "stdout",
     "output_type": "stream",
     "text": [
      "Current date: 2021-10-19\n",
      "Get DataFrame of shape (4528, 8)\n",
      "Current date: 2022-02-02\n",
      "Get DataFrame of shape (4565, 8)\n",
      "Current date: 2022-04-05\n",
      "Get DataFrame of shape (2742, 8)\n",
      "Current date: 2020-09-15\n",
      "Get DataFrame of shape (4978, 8)\n",
      "Current date: 2021-02-13\n",
      "Get DataFrame of shape (5184, 8)\n",
      "Waiting for 20 seconds\n"
     ]
    },
    {
     "name": "stderr",
     "output_type": "stream",
     "text": [
      "100%|██████████████████████████████████████████████████████████████████████████████████| 20/20 [00:20<00:00,  1.01s/it]\n"
     ]
    },
    {
     "name": "stdout",
     "output_type": "stream",
     "text": [
      "Waiting for 20 seconds\n"
     ]
    },
    {
     "name": "stderr",
     "output_type": "stream",
     "text": [
      "100%|██████████████████████████████████████████████████████████████████████████████████| 20/20 [00:20<00:00,  1.01s/it]\n"
     ]
    },
    {
     "name": "stdout",
     "output_type": "stream",
     "text": [
      "Current date: 2021-07-24\n",
      "Get DataFrame of shape (5107, 8)\n",
      "Current date: 2022-01-05\n",
      "Get DataFrame of shape (5022, 8)\n",
      "Current date: 2022-04-05\n",
      "Get DataFrame of shape (2900, 8)\n",
      "Current date: 2020-08-12\n",
      "Get DataFrame of shape (5189, 8)\n",
      "Current date: 2020-12-05\n",
      "Get DataFrame of shape (4958, 8)\n",
      "Waiting for 20 seconds\n"
     ]
    },
    {
     "name": "stderr",
     "output_type": "stream",
     "text": [
      "100%|██████████████████████████████████████████████████████████████████████████████████| 20/20 [00:20<00:00,  1.01s/it]\n"
     ]
    },
    {
     "name": "stdout",
     "output_type": "stream",
     "text": [
      "Waiting for 20 seconds\n"
     ]
    },
    {
     "name": "stderr",
     "output_type": "stream",
     "text": [
      "100%|██████████████████████████████████████████████████████████████████████████████████| 20/20 [00:20<00:00,  1.01s/it]\n"
     ]
    },
    {
     "name": "stdout",
     "output_type": "stream",
     "text": [
      "Waiting for 20 seconds\n"
     ]
    },
    {
     "name": "stderr",
     "output_type": "stream",
     "text": [
      "100%|██████████████████████████████████████████████████████████████████████████████████| 20/20 [00:20<00:00,  1.01s/it]\n"
     ]
    },
    {
     "name": "stdout",
     "output_type": "stream",
     "text": [
      "Current date: 2021-04-14\n",
      "Get DataFrame of shape (5120, 8)\n",
      "Current date: 2021-08-20\n",
      "Get DataFrame of shape (5258, 8)\n",
      "Current date: 2021-12-22\n",
      "Get DataFrame of shape (5163, 8)\n",
      "Current date: 2022-04-05\n",
      "Get DataFrame of shape (4415, 8)\n",
      "Current date: 2020-07-11\n",
      "Get DataFrame of shape (4270, 8)\n",
      "Waiting for 20 seconds\n"
     ]
    },
    {
     "name": "stderr",
     "output_type": "stream",
     "text": [
      "100%|██████████████████████████████████████████████████████████████████████████████████| 20/20 [00:20<00:00,  1.01s/it]\n"
     ]
    },
    {
     "name": "stdout",
     "output_type": "stream",
     "text": [
      "Waiting for 20 seconds\n"
     ]
    },
    {
     "name": "stderr",
     "output_type": "stream",
     "text": [
      "100%|██████████████████████████████████████████████████████████████████████████████████| 20/20 [00:20<00:00,  1.01s/it]\n"
     ]
    },
    {
     "name": "stdout",
     "output_type": "stream",
     "text": [
      "Waiting for 20 seconds\n"
     ]
    },
    {
     "name": "stderr",
     "output_type": "stream",
     "text": [
      "100%|██████████████████████████████████████████████████████████████████████████████████| 20/20 [00:20<00:00,  1.01s/it]\n"
     ]
    },
    {
     "name": "stdout",
     "output_type": "stream",
     "text": [
      "Current date: 2020-10-20\n",
      "Get DataFrame of shape (4342, 8)\n",
      "Current date: 2021-02-02\n",
      "Get DataFrame of shape (4356, 8)\n",
      "Current date: 2021-05-15\n",
      "Get DataFrame of shape (4457, 8)\n",
      "Current date: 2021-08-28\n",
      "Get DataFrame of shape (4507, 8)\n",
      "Current date: 2021-12-11\n",
      "Get DataFrame of shape (4518, 8)\n",
      "Waiting for 20 seconds\n"
     ]
    },
    {
     "name": "stderr",
     "output_type": "stream",
     "text": [
      "100%|██████████████████████████████████████████████████████████████████████████████████| 20/20 [00:20<00:00,  1.01s/it]\n"
     ]
    },
    {
     "name": "stdout",
     "output_type": "stream",
     "text": [
      "Waiting for 20 seconds\n"
     ]
    },
    {
     "name": "stderr",
     "output_type": "stream",
     "text": [
      "100%|██████████████████████████████████████████████████████████████████████████████████| 20/20 [00:20<00:00,  1.01s/it]\n"
     ]
    },
    {
     "name": "stdout",
     "output_type": "stream",
     "text": [
      "Current date: 2022-03-16\n",
      "Get DataFrame of shape (4072, 8)\n",
      "Current date: 2022-04-05\n",
      "Get DataFrame of shape (894, 8)\n",
      "Current date: 2020-09-09\n",
      "Get DataFrame of shape (5384, 8)\n",
      "Current date: 2021-02-04\n",
      "Get DataFrame of shape (5422, 8)\n",
      "Current date: 2021-06-30\n",
      "Get DataFrame of shape (5360, 8)\n",
      "Waiting for 20 seconds\n"
     ]
    },
    {
     "name": "stderr",
     "output_type": "stream",
     "text": [
      "100%|███████████████████████████████████████████████████████████████████████████████| 20/20 [2:29:29<00:00, 448.49s/it]\n"
     ]
    },
    {
     "name": "stdout",
     "output_type": "stream",
     "text": [
      "Current date: 2021-11-20\n",
      "Get DataFrame of shape (5189, 8)\n",
      "Current date: 2022-03-26\n",
      "Get DataFrame of shape (5135, 8)\n",
      "Current date: 2022-04-05\n",
      "Get DataFrame of shape (357, 8)\n",
      "Current date: 2020-09-18\n",
      "Get DataFrame of shape (4977, 8)\n",
      "Current date: 2021-03-11\n",
      "Get DataFrame of shape (4821, 8)\n",
      "Waiting for 20 seconds\n"
     ]
    },
    {
     "name": "stderr",
     "output_type": "stream",
     "text": [
      "100%|██████████████████████████████████████████████████████████████████████████████████| 20/20 [00:20<00:00,  1.01s/it]\n"
     ]
    },
    {
     "name": "stdout",
     "output_type": "stream",
     "text": [
      "Current date: 2021-08-31\n",
      "Get DataFrame of shape (4587, 8)\n",
      "Current date: 2022-02-08\n",
      "Get DataFrame of shape (5164, 8)\n",
      "Current date: 2022-04-05\n",
      "Get DataFrame of shape (1631, 8)\n",
      "Current date: 2020-09-30\n",
      "Get DataFrame of shape (4244, 8)\n",
      "Current date: 2021-03-31\n",
      "Get DataFrame of shape (4125, 8)\n",
      "Waiting for 20 seconds\n"
     ]
    },
    {
     "name": "stderr",
     "output_type": "stream",
     "text": [
      "100%|██████████████████████████████████████████████████████████████████████████████████| 20/20 [00:20<00:00,  1.01s/it]\n"
     ]
    },
    {
     "name": "stdout",
     "output_type": "stream",
     "text": [
      "Waiting for 20 seconds\n"
     ]
    },
    {
     "name": "stderr",
     "output_type": "stream",
     "text": [
      "100%|██████████████████████████████████████████████████████████████████████████████████| 20/20 [00:20<00:00,  1.01s/it]\n"
     ]
    },
    {
     "name": "stdout",
     "output_type": "stream",
     "text": [
      "Waiting for 20 seconds\n"
     ]
    },
    {
     "name": "stderr",
     "output_type": "stream",
     "text": [
      "100%|██████████████████████████████████████████████████████████████████████████████████| 20/20 [00:20<00:00,  1.01s/it]\n"
     ]
    },
    {
     "name": "stdout",
     "output_type": "stream",
     "text": [
      "Current date: 2021-09-29\n",
      "Get DataFrame of shape (3947, 8)\n",
      "Current date: 2022-03-31\n",
      "Get DataFrame of shape (3967, 8)\n",
      "Current date: 2022-04-05\n",
      "Get DataFrame of shape (85, 8)\n",
      "Current date: 2020-09-26\n",
      "Get DataFrame of shape (4797, 8)\n",
      "Current date: 2021-04-17\n",
      "Get DataFrame of shape (4956, 8)\n",
      "Waiting for 20 seconds\n"
     ]
    },
    {
     "name": "stderr",
     "output_type": "stream",
     "text": [
      "100%|██████████████████████████████████████████████████████████████████████████████████| 20/20 [00:20<00:00,  1.01s/it]\n"
     ]
    },
    {
     "name": "stdout",
     "output_type": "stream",
     "text": [
      "Waiting for 20 seconds\n"
     ]
    },
    {
     "name": "stderr",
     "output_type": "stream",
     "text": [
      "100%|██████████████████████████████████████████████████████████████████████████████████| 20/20 [00:20<00:00,  1.01s/it]\n"
     ]
    },
    {
     "name": "stdout",
     "output_type": "stream",
     "text": [
      "Waiting for 20 seconds\n"
     ]
    },
    {
     "name": "stderr",
     "output_type": "stream",
     "text": [
      "100%|██████████████████████████████████████████████████████████████████████████████████| 20/20 [00:20<00:00,  1.01s/it]\n"
     ]
    },
    {
     "name": "stdout",
     "output_type": "stream",
     "text": [
      "Current date: 2021-10-01\n",
      "Get DataFrame of shape (5233, 8)\n",
      "Current date: 2022-03-09\n",
      "Get DataFrame of shape (5299, 8)\n",
      "Current date: 2022-04-05\n",
      "Get DataFrame of shape (917, 8)\n",
      "Current date: 2020-10-06\n",
      "Get DataFrame of shape (4023, 8)\n",
      "Current date: 2021-04-09\n",
      "Get DataFrame of shape (4062, 8)\n",
      "Waiting for 20 seconds\n"
     ]
    },
    {
     "name": "stderr",
     "output_type": "stream",
     "text": [
      "100%|██████████████████████████████████████████████████████████████████████████████████| 20/20 [00:20<00:00,  1.01s/it]\n"
     ]
    },
    {
     "name": "stdout",
     "output_type": "stream",
     "text": [
      "Waiting for 20 seconds\n"
     ]
    },
    {
     "name": "stderr",
     "output_type": "stream",
     "text": [
      "100%|█████████████████████████████████████████████████████████████████████████████| 20/20 [10:18:46<00:00, 1856.31s/it]\n"
     ]
    },
    {
     "name": "stdout",
     "output_type": "stream",
     "text": [
      "Current date: 2021-10-08\n",
      "Get DataFrame of shape (3938, 8)\n",
      "Current date: 2022-04-05\n",
      "Get DataFrame of shape (3852, 8)\n",
      "Current date: 2020-10-29\n",
      "Get DataFrame of shape (4358, 8)\n",
      "Current date: 2021-06-05\n",
      "Get DataFrame of shape (4666, 8)\n",
      "Current date: 2022-01-04\n",
      "Get DataFrame of shape (4701, 8)\n",
      "Waiting for 20 seconds\n"
     ]
    },
    {
     "name": "stderr",
     "output_type": "stream",
     "text": [
      "100%|██████████████████████████████████████████████████████████████████████████████████| 20/20 [00:20<00:00,  1.01s/it]\n"
     ]
    },
    {
     "name": "stdout",
     "output_type": "stream",
     "text": [
      "Waiting for 20 seconds\n"
     ]
    },
    {
     "name": "stderr",
     "output_type": "stream",
     "text": [
      "100%|██████████████████████████████████████████████████████████████████████████████████| 20/20 [00:20<00:00,  1.01s/it]\n"
     ]
    },
    {
     "name": "stdout",
     "output_type": "stream",
     "text": [
      "Current date: 2022-04-05\n",
      "Get DataFrame of shape (2010, 8)\n",
      "Current date: 2020-10-14\n",
      "Get DataFrame of shape (4268, 8)\n",
      "Current date: 2021-05-04\n",
      "Get DataFrame of shape (4244, 8)\n",
      "Current date: 2021-12-04\n",
      "Get DataFrame of shape (4265, 8)\n",
      "Current date: 2022-04-05\n",
      "Get DataFrame of shape (2328, 8)\n"
     ]
    }
   ],
   "source": [
    "dfs = []\n",
    "for token in TOKENS:\n",
    "    data = get_data(\n",
    "        token=token,\n",
    "        interval_len=TIME_INTERVAL,\n",
    "        interval=TIME_UNITS,\n",
    "        from_date=FROM_DATE, \n",
    "        to_date=TO_DATE\n",
    "    )\n",
    "\n",
    "    data[\"t\"] = data[\"t\"].apply(lambda row: pd.Timestamp(row, unit=\"ms\"))\n",
    "    data[\"ticker\"] = token\n",
    "    dfs.append(data)"
   ]
  },
  {
   "cell_type": "code",
   "execution_count": 12,
   "id": "536b8037",
   "metadata": {},
   "outputs": [
    {
     "name": "stdout",
     "output_type": "stream",
     "text": [
      "(445787, 7)\n"
     ]
    },
    {
     "data": {
      "text/html": [
       "<div>\n",
       "<style scoped>\n",
       "    .dataframe tbody tr th:only-of-type {\n",
       "        vertical-align: middle;\n",
       "    }\n",
       "\n",
       "    .dataframe tbody tr th {\n",
       "        vertical-align: top;\n",
       "    }\n",
       "\n",
       "    .dataframe thead th {\n",
       "        text-align: right;\n",
       "    }\n",
       "</style>\n",
       "<table border=\"1\" class=\"dataframe\">\n",
       "  <thead>\n",
       "    <tr style=\"text-align: right;\">\n",
       "      <th></th>\n",
       "      <th>volume</th>\n",
       "      <th>open</th>\n",
       "      <th>close</th>\n",
       "      <th>high</th>\n",
       "      <th>low</th>\n",
       "      <th>date</th>\n",
       "      <th>ticker</th>\n",
       "    </tr>\n",
       "  </thead>\n",
       "  <tbody>\n",
       "    <tr>\n",
       "      <th>66309</th>\n",
       "      <td>11548.0</td>\n",
       "      <td>257.7600</td>\n",
       "      <td>257.8100</td>\n",
       "      <td>258.0000</td>\n",
       "      <td>257.7600</td>\n",
       "      <td>2021-04-23 11:30:00</td>\n",
       "      <td>MSFT</td>\n",
       "    </tr>\n",
       "    <tr>\n",
       "      <th>431204</th>\n",
       "      <td>15967.0</td>\n",
       "      <td>20.8200</td>\n",
       "      <td>20.7550</td>\n",
       "      <td>20.8200</td>\n",
       "      <td>20.7550</td>\n",
       "      <td>2020-04-28 18:05:00</td>\n",
       "      <td>YELP</td>\n",
       "    </tr>\n",
       "    <tr>\n",
       "      <th>36119</th>\n",
       "      <td>20508.0</td>\n",
       "      <td>1535.3500</td>\n",
       "      <td>1532.7600</td>\n",
       "      <td>1535.8400</td>\n",
       "      <td>1532.0000</td>\n",
       "      <td>2020-09-16 17:15:00</td>\n",
       "      <td>GOOG</td>\n",
       "    </tr>\n",
       "    <tr>\n",
       "      <th>442225</th>\n",
       "      <td>13143.0</td>\n",
       "      <td>39.7500</td>\n",
       "      <td>39.7500</td>\n",
       "      <td>39.7500</td>\n",
       "      <td>39.7500</td>\n",
       "      <td>2021-10-01 20:00:00</td>\n",
       "      <td>YELP</td>\n",
       "    </tr>\n",
       "    <tr>\n",
       "      <th>250968</th>\n",
       "      <td>1306.0</td>\n",
       "      <td>210.0100</td>\n",
       "      <td>209.9500</td>\n",
       "      <td>210.0100</td>\n",
       "      <td>209.9500</td>\n",
       "      <td>2022-03-03 13:30:00</td>\n",
       "      <td>CRM</td>\n",
       "    </tr>\n",
       "    <tr>\n",
       "      <th>311728</th>\n",
       "      <td>4209779.0</td>\n",
       "      <td>112.0800</td>\n",
       "      <td>112.6532</td>\n",
       "      <td>112.7000</td>\n",
       "      <td>111.3400</td>\n",
       "      <td>2022-02-24 19:00:00</td>\n",
       "      <td>AMD</td>\n",
       "    </tr>\n",
       "    <tr>\n",
       "      <th>266994</th>\n",
       "      <td>474621.0</td>\n",
       "      <td>66.2085</td>\n",
       "      <td>66.3899</td>\n",
       "      <td>66.4700</td>\n",
       "      <td>66.1750</td>\n",
       "      <td>2021-04-07 18:30:00</td>\n",
       "      <td>INTC</td>\n",
       "    </tr>\n",
       "    <tr>\n",
       "      <th>416161</th>\n",
       "      <td>30683.0</td>\n",
       "      <td>58.6600</td>\n",
       "      <td>58.7000</td>\n",
       "      <td>58.9000</td>\n",
       "      <td>58.6000</td>\n",
       "      <td>2020-06-02 16:04:00</td>\n",
       "      <td>ZG</td>\n",
       "    </tr>\n",
       "    <tr>\n",
       "      <th>43456</th>\n",
       "      <td>17493.0</td>\n",
       "      <td>2629.8000</td>\n",
       "      <td>2626.2500</td>\n",
       "      <td>2630.5000</td>\n",
       "      <td>2625.5200</td>\n",
       "      <td>2021-07-13 14:30:00</td>\n",
       "      <td>GOOG</td>\n",
       "    </tr>\n",
       "    <tr>\n",
       "      <th>160264</th>\n",
       "      <td>94052.0</td>\n",
       "      <td>3499.6800</td>\n",
       "      <td>3500.4150</td>\n",
       "      <td>3507.2099</td>\n",
       "      <td>3499.0701</td>\n",
       "      <td>2021-09-02 14:45:00</td>\n",
       "      <td>AMZN</td>\n",
       "    </tr>\n",
       "  </tbody>\n",
       "</table>\n",
       "</div>"
      ],
      "text/plain": [
       "           volume       open      close       high        low  \\\n",
       "66309     11548.0   257.7600   257.8100   258.0000   257.7600   \n",
       "431204    15967.0    20.8200    20.7550    20.8200    20.7550   \n",
       "36119     20508.0  1535.3500  1532.7600  1535.8400  1532.0000   \n",
       "442225    13143.0    39.7500    39.7500    39.7500    39.7500   \n",
       "250968     1306.0   210.0100   209.9500   210.0100   209.9500   \n",
       "311728  4209779.0   112.0800   112.6532   112.7000   111.3400   \n",
       "266994   474621.0    66.2085    66.3899    66.4700    66.1750   \n",
       "416161    30683.0    58.6600    58.7000    58.9000    58.6000   \n",
       "43456     17493.0  2629.8000  2626.2500  2630.5000  2625.5200   \n",
       "160264    94052.0  3499.6800  3500.4150  3507.2099  3499.0701   \n",
       "\n",
       "                      date ticker  \n",
       "66309  2021-04-23 11:30:00   MSFT  \n",
       "431204 2020-04-28 18:05:00   YELP  \n",
       "36119  2020-09-16 17:15:00   GOOG  \n",
       "442225 2021-10-01 20:00:00   YELP  \n",
       "250968 2022-03-03 13:30:00    CRM  \n",
       "311728 2022-02-24 19:00:00    AMD  \n",
       "266994 2021-04-07 18:30:00   INTC  \n",
       "416161 2020-06-02 16:04:00     ZG  \n",
       "43456  2021-07-13 14:30:00   GOOG  \n",
       "160264 2021-09-02 14:45:00   AMZN  "
      ]
     },
     "execution_count": 12,
     "metadata": {},
     "output_type": "execute_result"
    }
   ],
   "source": [
    "RENAME_COLUMNS = {\n",
    "    \"v\": \"volume\",\n",
    "    \"o\": \"open\",\n",
    "    \"c\": \"close\",\n",
    "    \"h\": \"high\",\n",
    "    \"l\": \"low\",\n",
    "    \"t\": \"date\"\n",
    "}\n",
    "KEEP_COLUMNS = [\"volume\", \"open\", \"close\", \"high\", \"low\", \"date\", \"ticker\"]\n",
    "\n",
    "result_df = pd.concat(dfs).rename(RENAME_COLUMNS, axis=1)[KEEP_COLUMNS].reset_index(drop=True)\n",
    "print(result_df.shape)\n",
    "result_df.sample(10)"
   ]
  },
  {
   "cell_type": "code",
   "execution_count": 14,
   "id": "ff625d77",
   "metadata": {},
   "outputs": [],
   "source": [
    "TEST_RATIO = 0.2\n",
    "test_size = int(result_df.shape[0] * TEST_RATIO)\n",
    "data_train = result_df.iloc[:-test_size]\n",
    "data_test = result_df.iloc[-test_size:]\n",
    "\n",
    "result_df.to_csv(FULL_RESULT_PATH)\n",
    "data_train.to_csv(TRAIN_RESULT_PATH)\n",
    "data_test.to_csv(TEST_RESULT_PATH)"
   ]
  },
  {
   "cell_type": "code",
   "execution_count": null,
   "id": "7c000790",
   "metadata": {},
   "outputs": [],
   "source": []
  }
 ],
 "metadata": {
  "kernelspec": {
   "display_name": "Python 3 (ipykernel)",
   "language": "python",
   "name": "python3"
  },
  "language_info": {
   "codemirror_mode": {
    "name": "ipython",
    "version": 3
   },
   "file_extension": ".py",
   "mimetype": "text/x-python",
   "name": "python",
   "nbconvert_exporter": "python",
   "pygments_lexer": "ipython3",
   "version": "3.9.7"
  }
 },
 "nbformat": 4,
 "nbformat_minor": 5
}
