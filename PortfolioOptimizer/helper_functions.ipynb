{
 "cells": [
  {
   "cell_type": "code",
   "execution_count": 24,
   "id": "8322d8ec",
   "metadata": {},
   "outputs": [],
   "source": [
    "import pandas as pd\n",
    "import numpy as np\n",
    "import matplotlib.pyplot as plt\n",
    "import seaborn as sns\n",
    "import plotly.graph_objs as go\n",
    "import plotly.offline as pof\n",
    "import scipy.stats as sps\n",
    "sns.set()\n",
    "\n",
    "plt.rc('font', size=30)\n",
    "plt.rc('axes', titlesize=30)\n",
    "plt.rc('axes', labelsize=30)\n",
    "plt.rc('xtick', labelsize=30)\n",
    "plt.rc('ytick', labelsize=30)\n",
    "plt.rc('legend', fontsize=30)\n",
    "plt.rc('figure', titlesize=30)\n",
    "\n",
    "from sklearn.base import BaseEstimator\n",
    "from sklearn.linear_model import LinearRegression\n",
    "from sklearn.decomposition import PCA\n",
    "from sklearn.decomposition import KernelPCA\n",
    "from sklearn.covariance import MinCovDet\n",
    "from tqdm import tqdm\n",
    "import cvxpy as cvx"
   ]
  },
  {
   "cell_type": "code",
   "execution_count": 5,
   "id": "c8fa6446",
   "metadata": {},
   "outputs": [],
   "source": [
    "%run new_portfolio_optimizer.ipynb"
   ]
  },
  {
   "cell_type": "code",
   "execution_count": 2,
   "id": "20629d99",
   "metadata": {},
   "outputs": [],
   "source": [
    "def add_row_in_summary_table(names, optimizers, risk_free_return, df_train, df_test, compare_table):\n",
    "    for name, optimizer in tqdm(zip(names, optimizers)):\n",
    "        best_params = optimizer.best_params_\n",
    "        po = optimizer.best_estimator_\n",
    "        po.refit(df_train)\n",
    "        predictions = po.predict(df_test)\n",
    "        final_return = predictions[1][-1]\n",
    "        sharp_score = po.set_params(period_for_pred=120).score(df_test, how='sharp')\n",
    "        sortino_score = po.score(df_test, how='sortino')\n",
    "        var_score = po.set_params(period_for_pred=30).score(df_test, how='VAR')\n",
    "        ave_block_return = np.mean(predictions[0])\n",
    "\n",
    "\n",
    "        name_method = {'method': name}\n",
    "        statistics = {'sharp_score': sharp_score, 'sortino_score': sortino_score, 'VaR_score' : var_score,\n",
    "                      'final_return': final_return, 'ave_block_return': ave_block_return}\n",
    "        row = dict(name_method)\n",
    "        row.update(best_params)\n",
    "        row.update(statistics)\n",
    "\n",
    "\n",
    "        if compare_table is None:\n",
    "            compare_table = pd.DataFrame([row])\n",
    "        else:\n",
    "            if name_method in list(compare_table['method']):\n",
    "                compare_table = compare_table[compare_table['method'] != name_method]\n",
    "\n",
    "            compare_table = pd.concat([compare_table, pd.DataFrame([row])])\n",
    "            compare_table.index = np.arange(len(compare_table))\n",
    "    return compare_table"
   ]
  },
  {
   "cell_type": "code",
   "execution_count": 3,
   "id": "ba731d5c",
   "metadata": {},
   "outputs": [],
   "source": [
    "def plot_results(names, optimizers, df_train, df_test, title, sp=None):\n",
    "    fig = go.Figure()\n",
    "    \n",
    "    for name, optimizer in tqdm(zip(names, optimizers)):\n",
    "        po = optimizer.best_estimator_\n",
    "        po.refit(df_train)\n",
    "        cum_predict = po.predict(df_test)[1]\n",
    "        fig.add_trace(go.Scatter(x=cum_predict.index, y=cum_predict, name=name))\n",
    "        \n",
    "    if sp is not None:\n",
    "        fig.add_trace(go.Scatter(x=sp.index, y=sp, name='Индекс S&P 500'))\n",
    "            \n",
    "    fig.update_layout(title=title, xaxis_title='time', \n",
    "                  yaxis_title='return')\n",
    "    fig.show()\n",
    "    pof.plot(fig, filename=f'{title}.html', auto_open=False)"
   ]
  },
  {
   "cell_type": "code",
   "execution_count": null,
   "id": "d7e39f87",
   "metadata": {},
   "outputs": [],
   "source": []
  }
 ],
 "metadata": {
  "kernelspec": {
   "display_name": "Python 3 (ipykernel)",
   "language": "python",
   "name": "python3"
  },
  "language_info": {
   "codemirror_mode": {
    "name": "ipython",
    "version": 3
   },
   "file_extension": ".py",
   "mimetype": "text/x-python",
   "name": "python",
   "nbconvert_exporter": "python",
   "pygments_lexer": "ipython3",
   "version": "3.8.12"
  }
 },
 "nbformat": 4,
 "nbformat_minor": 5
}
