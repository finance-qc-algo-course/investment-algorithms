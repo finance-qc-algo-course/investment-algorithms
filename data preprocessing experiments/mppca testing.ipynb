{
 "cells": [
  {
   "cell_type": "code",
   "execution_count": 17,
   "id": "confident-abuse",
   "metadata": {},
   "outputs": [],
   "source": [
    "import pandas as pd\n",
    "import numpy as np\n",
    "import matplotlib.pyplot as plt\n",
    "import seaborn as sns\n",
    "import scipy.stats as sps\n",
    "sns.set()\n",
    "\n",
    "plt.rc('font', size=30)\n",
    "plt.rc('axes', titlesize=30)\n",
    "plt.rc('axes', labelsize=30)\n",
    "plt.rc('xtick', labelsize=30)\n",
    "plt.rc('ytick', labelsize=30)\n",
    "plt.rc('legend', fontsize=30)\n",
    "plt.rc('figure', titlesize=30)\n",
    "\n",
    "from sklearn.linear_model import LinearRegression\n",
    "from sklearn.decomposition import PCA\n",
    "from sklearn.decomposition import KernelPCA\n",
    "from sklearn.covariance import MinCovDet\n",
    "import cvxpy as cvx\n",
    "from tqdm import tqdm\n",
    "from sklearn.model_selection import RandomizedSearchCV\n",
    "from sklearn.model_selection import TimeSeriesSplit"
   ]
  },
  {
   "cell_type": "code",
   "execution_count": 21,
   "id": "explicit-nothing",
   "metadata": {},
   "outputs": [],
   "source": [
    "%load_ext autoreload\n",
    "%autoreload 2"
   ]
  },
  {
   "cell_type": "code",
   "execution_count": 40,
   "id": "urban-driver",
   "metadata": {},
   "outputs": [],
   "source": [
    "returns = pd.read_csv('work/data/returns.csv')\n",
    "returns = returns.fillna(0)\n",
    "returns['date'] = returns['date'].astype(np.datetime64)\n",
    "returns = returns.set_index('date')\n",
    "\n",
    "train_size = 1500\n",
    "\n",
    "returns_train = returns[:train_size]\n",
    "returns_test = returns[train_size:]"
   ]
  },
  {
   "cell_type": "code",
   "execution_count": 72,
   "id": "stable-exploration",
   "metadata": {},
   "outputs": [
    {
     "data": {
      "text/plain": [
       "{'divide': 'ignore', 'over': 'ignore', 'under': 'ignore', 'invalid': 'ignore'}"
      ]
     },
     "execution_count": 72,
     "metadata": {},
     "output_type": "execute_result"
    }
   ],
   "source": [
    "np.seterr(all='raise', under='ignore')"
   ]
  },
  {
   "cell_type": "code",
   "execution_count": 42,
   "id": "martial-adolescent",
   "metadata": {},
   "outputs": [
    {
     "data": {
      "text/plain": [
       "array([ 3, 12, 21])"
      ]
     },
     "execution_count": 42,
     "metadata": {},
     "output_type": "execute_result"
    }
   ],
   "source": [
    "A = np.arange(9).reshape(3, 3)\n",
    "A.sum(1)"
   ]
  },
  {
   "cell_type": "code",
   "execution_count": 62,
   "id": "verified-chest",
   "metadata": {},
   "outputs": [
    {
     "data": {
      "text/plain": [
       "1.0142320547350045e+304"
      ]
     },
     "execution_count": 62,
     "metadata": {},
     "output_type": "execute_result"
    }
   ],
   "source": [
    "np.exp(-100)\n",
    "np.exp(-700)\n",
    "np.exp(700)"
   ]
  },
  {
   "cell_type": "code",
   "execution_count": 80,
   "id": "laden-atlantic",
   "metadata": {},
   "outputs": [
    {
     "data": {
      "text/plain": [
       "1e-06"
      ]
     },
     "execution_count": 80,
     "metadata": {},
     "output_type": "execute_result"
    }
   ],
   "source": [
    "float(1e-6)"
   ]
  },
  {
   "cell_type": "code",
   "execution_count": 100,
   "id": "retired-trainer",
   "metadata": {},
   "outputs": [
    {
     "data": {
      "text/plain": [
       "0.0011017057647423607"
      ]
     },
     "execution_count": 100,
     "metadata": {},
     "output_type": "execute_result"
    }
   ],
   "source": [
    "from mppca import MPPCA\n",
    "\n",
    "mean = returns_train[returns_train.columns].mean()\n",
    "top_returns = returns_train[mean.sort_values(ascending=False)[:25].index]\n",
    "\n",
    "mppca = MPPCA(5, 4)\n",
    "mppca.fit(top_returns.to_numpy())\n",
    "mppca_top_returns = mppca.transform(top_returns.to_numpy())\n",
    "\n",
    "np.mean(mppca_top_returns - top_returns.to_numpy()**2)"
   ]
  },
  {
   "cell_type": "code",
   "execution_count": 109,
   "id": "effective-signature",
   "metadata": {},
   "outputs": [
    {
     "data": {
      "text/plain": [
       "{'divide': 'raise', 'over': 'raise', 'under': 'ignore', 'invalid': 'raise'}"
      ]
     },
     "execution_count": 109,
     "metadata": {},
     "output_type": "execute_result"
    }
   ],
   "source": [
    "np.seterr(all='ignore')"
   ]
  },
  {
   "cell_type": "code",
   "execution_count": 110,
   "id": "formal-amsterdam",
   "metadata": {},
   "outputs": [
    {
     "name": "stdout",
     "output_type": "stream",
     "text": [
      "0.0012021348000474902 10\n",
      "0.0014106482161611526 11\n",
      "0.0011359676659147685 12\n",
      "0.001112855778122669 13\n",
      "nan 14\n",
      "0.0009792660908028504 15\n",
      "0.0008763142139376427 16\n",
      "0.001139722886945492 17\n",
      "nan 18\n",
      "0.0011437314719804036 19\n",
      "nan 20\n",
      "nan 21\n",
      "nan 22\n",
      "-0.002684362078342737 23\n",
      "0.0009348850012725066 24\n",
      "0.0010872921287348244 25\n",
      "0.0009479351885853869 26\n",
      "nan 27\n",
      "0.0009371859280126123 28\n",
      "-0.00010271099916815382 29\n",
      "0.0009335976028454429 30\n",
      "0.0009299135483910277 31\n",
      "0.00010475846290136996 32\n",
      "nan 33\n",
      "nan 34\n",
      "-0.0011361791589047817 35\n",
      "0.001065966682278191 36\n",
      "nan 37\n",
      "nan 38\n",
      "nan 39\n",
      "-0.0019896238606693876 40\n",
      "0.00104988222133456 41\n",
      "0.0010560120312162937 42\n",
      "6.19541822590104e-05 43\n",
      "nan 44\n",
      "0.00035866586947588895 45\n",
      "nan 46\n",
      "-0.0019772168223938114 47\n",
      "0.00098464161161626 48\n",
      "-0.001482005521169956 49\n",
      "0.0009598066770326098 50\n",
      "0.000961381269539077 51\n",
      "0.00099396723536862 52\n",
      "0.0010279065912558024 53\n",
      "-0.0007021136702421048 54\n",
      "-0.001076261915586871 55\n",
      "0.0010305082966163889 56\n",
      "0.0010382522056501349 57\n",
      "0.0010937922313624723 58\n",
      "0.0011928678694603679 59\n",
      "nan 60\n",
      "nan 61\n",
      "0.001016548816476646 62\n",
      "nan 63\n",
      "nan 64\n",
      "nan 65\n",
      "0.0010181931892489806 66\n",
      "0.0010072899869729259 67\n",
      "0.000996543224888063 68\n",
      "nan 69\n",
      "0.0010022889050625343 70\n",
      "-0.001470059453108509 71\n",
      "0.0009820808168356104 72\n",
      "nan 73\n",
      "nan 74\n",
      "0.0009687293349934162 75\n",
      "0.0009780930763833066 76\n",
      "0.000976947030281702 77\n",
      "-0.00022247734493546222 78\n",
      "0.0009762544669279955 79\n"
     ]
    },
    {
     "ename": "KeyboardInterrupt",
     "evalue": "",
     "output_type": "error",
     "traceback": [
      "\u001b[0;31m---------------------------------------------------------------------------\u001b[0m",
      "\u001b[0;31mKeyboardInterrupt\u001b[0m                         Traceback (most recent call last)",
      "\u001b[0;32m<ipython-input-110-68b20ec71d61>\u001b[0m in \u001b[0;36m<module>\u001b[0;34m\u001b[0m\n\u001b[1;32m      4\u001b[0m \u001b[0;34m\u001b[0m\u001b[0m\n\u001b[1;32m      5\u001b[0m     \u001b[0mmppca\u001b[0m \u001b[0;34m=\u001b[0m \u001b[0mMPPCA\u001b[0m\u001b[0;34m(\u001b[0m\u001b[0;36m5\u001b[0m\u001b[0;34m,\u001b[0m \u001b[0;36m4\u001b[0m\u001b[0;34m)\u001b[0m\u001b[0;34m\u001b[0m\u001b[0;34m\u001b[0m\u001b[0m\n\u001b[0;32m----> 6\u001b[0;31m     \u001b[0mmppca\u001b[0m\u001b[0;34m.\u001b[0m\u001b[0mfit\u001b[0m\u001b[0;34m(\u001b[0m\u001b[0mtop_returns\u001b[0m\u001b[0;34m.\u001b[0m\u001b[0mto_numpy\u001b[0m\u001b[0;34m(\u001b[0m\u001b[0;34m)\u001b[0m\u001b[0;34m)\u001b[0m\u001b[0;34m\u001b[0m\u001b[0;34m\u001b[0m\u001b[0m\n\u001b[0m\u001b[1;32m      7\u001b[0m     \u001b[0mmppca_top_returns\u001b[0m \u001b[0;34m=\u001b[0m \u001b[0mmppca\u001b[0m\u001b[0;34m.\u001b[0m\u001b[0mtransform\u001b[0m\u001b[0;34m(\u001b[0m\u001b[0mtop_returns\u001b[0m\u001b[0;34m.\u001b[0m\u001b[0mto_numpy\u001b[0m\u001b[0;34m(\u001b[0m\u001b[0;34m)\u001b[0m\u001b[0;34m)\u001b[0m\u001b[0;34m\u001b[0m\u001b[0;34m\u001b[0m\u001b[0m\n\u001b[1;32m      8\u001b[0m \u001b[0;34m\u001b[0m\u001b[0m\n",
      "\u001b[0;32m~/Desktop/Домашки/Алгоритмы финансы/mppca.py\u001b[0m in \u001b[0;36mfit\u001b[0;34m(self, data, n_iter)\u001b[0m\n\u001b[1;32m     18\u001b[0m \u001b[0;34m\u001b[0m\u001b[0m\n\u001b[1;32m     19\u001b[0m         \u001b[0mself\u001b[0m\u001b[0;34m.\u001b[0m\u001b[0mpi\u001b[0m\u001b[0;34m,\u001b[0m \u001b[0mself\u001b[0m\u001b[0;34m.\u001b[0m\u001b[0mmu\u001b[0m\u001b[0;34m,\u001b[0m \u001b[0mself\u001b[0m\u001b[0;34m.\u001b[0m\u001b[0mW\u001b[0m\u001b[0;34m,\u001b[0m \u001b[0mself\u001b[0m\u001b[0;34m.\u001b[0m\u001b[0msigma2\u001b[0m\u001b[0;34m,\u001b[0m \u001b[0mR\u001b[0m\u001b[0;34m,\u001b[0m \u001b[0mL\u001b[0m\u001b[0;34m,\u001b[0m \u001b[0msigma2hist\u001b[0m \u001b[0;34m=\u001b[0m\u001b[0;31m \u001b[0m\u001b[0;31m\\\u001b[0m\u001b[0;34m\u001b[0m\u001b[0;34m\u001b[0m\u001b[0m\n\u001b[0;32m---> 20\u001b[0;31m             \u001b[0mself\u001b[0m\u001b[0;34m.\u001b[0m\u001b[0m_mppca_gem\u001b[0m\u001b[0;34m(\u001b[0m\u001b[0mdata\u001b[0m\u001b[0;34m,\u001b[0m \u001b[0mself\u001b[0m\u001b[0;34m.\u001b[0m\u001b[0mpi\u001b[0m\u001b[0;34m,\u001b[0m \u001b[0mself\u001b[0m\u001b[0;34m.\u001b[0m\u001b[0mmu\u001b[0m\u001b[0;34m,\u001b[0m \u001b[0mself\u001b[0m\u001b[0;34m.\u001b[0m\u001b[0mW\u001b[0m\u001b[0;34m,\u001b[0m \u001b[0mself\u001b[0m\u001b[0;34m.\u001b[0m\u001b[0msigma2\u001b[0m\u001b[0;34m,\u001b[0m \u001b[0mn_iter\u001b[0m\u001b[0;34m)\u001b[0m\u001b[0;34m\u001b[0m\u001b[0;34m\u001b[0m\u001b[0m\n\u001b[0m\u001b[1;32m     21\u001b[0m \u001b[0;34m\u001b[0m\u001b[0m\n\u001b[1;32m     22\u001b[0m     \u001b[0;32mdef\u001b[0m \u001b[0m_mppca_gem\u001b[0m\u001b[0;34m(\u001b[0m\u001b[0mself\u001b[0m\u001b[0;34m,\u001b[0m \u001b[0mX\u001b[0m\u001b[0;34m,\u001b[0m \u001b[0mpi\u001b[0m\u001b[0;34m,\u001b[0m \u001b[0mmu\u001b[0m\u001b[0;34m,\u001b[0m \u001b[0mW\u001b[0m\u001b[0;34m,\u001b[0m \u001b[0msigma2\u001b[0m\u001b[0;34m,\u001b[0m \u001b[0mniter\u001b[0m\u001b[0;34m)\u001b[0m\u001b[0;34m:\u001b[0m\u001b[0;34m\u001b[0m\u001b[0;34m\u001b[0m\u001b[0m\n",
      "\u001b[0;32m~/Desktop/Домашки/Алгоритмы финансы/mppca.py\u001b[0m in \u001b[0;36m_mppca_gem\u001b[0;34m(self, X, pi, mu, W, sigma2, niter)\u001b[0m\n\u001b[1;32m    100\u001b[0m \u001b[0;34m\u001b[0m\u001b[0m\n\u001b[1;32m    101\u001b[0m                 sigma2[c] = (1/d) * (\n\u001b[0;32m--> 102\u001b[0;31m                     \u001b[0;34m(\u001b[0m\u001b[0mR\u001b[0m\u001b[0;34m[\u001b[0m\u001b[0;34m:\u001b[0m\u001b[0;34m,\u001b[0m \u001b[0mc\u001b[0m\u001b[0;34m]\u001b[0m\u001b[0;34m.\u001b[0m\u001b[0mreshape\u001b[0m\u001b[0;34m(\u001b[0m\u001b[0mN\u001b[0m\u001b[0;34m,\u001b[0m \u001b[0;36m1\u001b[0m\u001b[0;34m)\u001b[0m \u001b[0;34m*\u001b[0m \u001b[0mnp\u001b[0m\u001b[0;34m.\u001b[0m\u001b[0mpower\u001b[0m\u001b[0;34m(\u001b[0m\u001b[0mdeviation_from_center\u001b[0m\u001b[0;34m,\u001b[0m \u001b[0;36m2\u001b[0m\u001b[0;34m)\u001b[0m\u001b[0;34m)\u001b[0m\u001b[0;34m.\u001b[0m\u001b[0msum\u001b[0m\u001b[0;34m(\u001b[0m\u001b[0;34m)\u001b[0m\u001b[0;34m\u001b[0m\u001b[0;34m\u001b[0m\u001b[0m\n\u001b[0m\u001b[1;32m    103\u001b[0m                     \u001b[0;34m/\u001b[0m\u001b[0;34m\u001b[0m\u001b[0;34m\u001b[0m\u001b[0m\n\u001b[1;32m    104\u001b[0m                     \u001b[0;34m(\u001b[0m\u001b[0mN\u001b[0m \u001b[0;34m*\u001b[0m \u001b[0mpi\u001b[0m\u001b[0;34m[\u001b[0m\u001b[0mc\u001b[0m\u001b[0;34m]\u001b[0m\u001b[0;34m)\u001b[0m\u001b[0;34m\u001b[0m\u001b[0;34m\u001b[0m\u001b[0m\n",
      "\u001b[0;31mKeyboardInterrupt\u001b[0m: "
     ]
    }
   ],
   "source": [
    "for i in range(10, 100):\n",
    "    mean = returns_train[returns_train.columns].mean()\n",
    "    top_returns = returns_train[mean.sort_values(ascending=False)[:i].index]\n",
    "\n",
    "    mppca = MPPCA(5, 4)\n",
    "    mppca.fit(top_returns.to_numpy())\n",
    "    mppca_top_returns = mppca.transform(top_returns.to_numpy())\n",
    "\n",
    "    print(np.mean(mppca_top_returns - top_returns.to_numpy()**2), i)"
   ]
  }
 ],
 "metadata": {
  "kernelspec": {
   "display_name": "Python 3",
   "language": "python",
   "name": "python3"
  },
  "language_info": {
   "codemirror_mode": {
    "name": "ipython",
    "version": 3
   },
   "file_extension": ".py",
   "mimetype": "text/x-python",
   "name": "python",
   "nbconvert_exporter": "python",
   "pygments_lexer": "ipython3",
   "version": "3.8.2"
  }
 },
 "nbformat": 4,
 "nbformat_minor": 5
}
