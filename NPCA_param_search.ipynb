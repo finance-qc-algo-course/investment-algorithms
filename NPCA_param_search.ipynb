{
 "cells": [
  {
   "cell_type": "code",
   "execution_count": 1,
   "id": "44c59777",
   "metadata": {},
   "outputs": [],
   "source": [
    "import pandas as pd\n",
    "import numpy as np\n",
    "import matplotlib.pyplot as plt\n",
    "import seaborn as sns\n",
    "import plotly.graph_objs as go\n",
    "import plotly.offline as pof\n",
    "import scipy.stats as sps\n",
    "sns.set()\n",
    "\n",
    "plt.rc('font', size=30)\n",
    "plt.rc('axes', titlesize=30)\n",
    "plt.rc('axes', labelsize=30)\n",
    "plt.rc('xtick', labelsize=30)\n",
    "plt.rc('ytick', labelsize=30)\n",
    "plt.rc('legend', fontsize=30)\n",
    "plt.rc('figure', titlesize=30)\n",
    "\n",
    "from sklearn.base import BaseEstimator\n",
    "from sklearn.linear_model import LinearRegression\n",
    "from sklearn.decomposition import PCA\n",
    "from sklearn.decomposition import KernelPCA\n",
    "from sklearn.covariance import MinCovDet\n",
    "import cvxpy as cvx\n",
    "import yfinance as yf\n",
    "from tqdm import tqdm\n",
    "\n",
    "from sklearn.model_selection import RandomizedSearchCV\n",
    "from sklearn.model_selection import GridSearchCV\n",
    "from sklearn.model_selection import TimeSeriesSplit\n",
    "from warnings import filterwarnings\n",
    "filterwarnings('ignore')"
   ]
  },
  {
   "cell_type": "code",
   "execution_count": 2,
   "id": "9eaf28fe",
   "metadata": {},
   "outputs": [],
   "source": [
    "from rpy2.robjects.packages import importr\n",
    "# import R's \"base\" package\n",
    "base = importr('base')\n",
    "\n",
    "# import R's \"utils\" package\n",
    "utils = importr('utils')\n",
    "\n",
    "# import rpy2's package module\n",
    "import rpy2.robjects.packages as rpackages\n",
    "\n",
    "# import R's utility package\n",
    "utils = rpackages.importr('utils')\n",
    "\n",
    "# select a mirror for R packages\n",
    "utils.chooseCRANmirror(ind=1) # select the first mirror in the list\n",
    "\n",
    "# R package names\n",
    "packnames = ('NMF', 'nsprcomp', 'BiocManager')\n",
    "\n",
    "# R vector of strings\n",
    "from rpy2.robjects.vectors import StrVector\n",
    "\n",
    "# Selectively install what needs to be install.\n",
    "# We are fancy, just because we can.\n",
    "names_to_install = [x for x in packnames if not rpackages.isinstalled(x)]\n",
    "if len(names_to_install) > 0:\n",
    "    utils.install_packages(StrVector(names_to_install))\n",
    "\n",
    "nsprcomp = importr('nsprcomp')\n",
    "\n",
    "# Allow conversion\n",
    "import rpy2.robjects as ro\n",
    "from rpy2.robjects import pandas2ri\n",
    "pandas2ri.activate()"
   ]
  },
  {
   "cell_type": "code",
   "execution_count": 3,
   "id": "45e0d484",
   "metadata": {},
   "outputs": [],
   "source": [
    "def decrease_risk(mu, Sigma, R=2e-3):\n",
    "    p = len(mu)\n",
    "    w = cvx.Variable(p)\n",
    "    obj = cvx.Minimize(1/2 * cvx.quad_form(w, Sigma))\n",
    "    \n",
    "    equal_constraints_1 = [mu.T @ w == R]\n",
    "    equal_constraints_2 = [np.ones(p) @ w == 1]\n",
    "    eyes = np.eye(p)\n",
    "    nonequal_constraints = [eye @ w >= 0 for eye in eyes]\n",
    "    constraints = equal_constraints_1 + equal_constraints_2 + nonequal_constraints\n",
    "    \n",
    "    problem = cvx.Problem(obj, constraints=constraints)\n",
    "    result = problem.solve(verbose=False, solver=\"SCS\")\n",
    "    \n",
    "    opt_weights = w.value\n",
    "    return opt_weights\n",
    "\n",
    "def count_portfolio_return(columns, weights, test):\n",
    "    portfolio_return = 0\n",
    "    for w, col in zip(weights, columns):\n",
    "        one_company_return = w * (test[col] + 1).cumprod()\n",
    "        portfolio_return += one_company_return\n",
    "    return portfolio_return\n",
    "\n",
    "def return_weights(df, R=2e-3):\n",
    "    mean = df[df.columns].mean()\n",
    "    df_sorted = df[mean.sort_values(ascending=False).index]\n",
    "    \n",
    "    mu = mean.sort_values(ascending=False).to_numpy()\n",
    "    Sigma = df_sorted[df_sorted.columns].cov()\n",
    "    \n",
    "    w = decrease_risk(mu, Sigma, R)\n",
    "    return w\n",
    "\n",
    "def get_mu(df):\n",
    "    num_of_companies = 15\n",
    "    mean = df[df.columns].mean()\n",
    "    top_returns = df[mean.sort_values(ascending=False).index]\n",
    "    top_returns = top_returns.drop(top_returns.index[0])\n",
    "    \n",
    "    mu = mean.sort_values(ascending=False).to_numpy()\n",
    "    return mu\n",
    "\n",
    "def get_Sigma(df):\n",
    "    Sigma = df[df.columns].cov()\n",
    "    return Sigma"
   ]
  },
  {
   "cell_type": "code",
   "execution_count": 58,
   "id": "1f3eafae",
   "metadata": {},
   "outputs": [],
   "source": [
    "def make_dim_red(df, n_comp = 2, window_size = 10):\n",
    "    time_size = len(df.index)\n",
    "    \n",
    "    new_prices = list()\n",
    "\n",
    "    for i in range(0, time_size, window_size):\n",
    "        var = nsprcomp.nsprcomp(df[i : i + window_size].T, ncomp=n_comp, center = False, scale = False, nneg = True)\n",
    "        new_prices.append(SVP(var[6].T))\n",
    "    \n",
    "    new_prices = np.vstack(new_prices)\n",
    "    df_new_prices = pd.DataFrame(data=new_prices, index=np.arange(0, len(new_prices)), columns=df.columns)\n",
    "    new_returns = df_new_prices.apply(lambda x: x.pct_change(1).fillna(0), axis=0)\n",
    "    new_returns = new_returns.drop(new_returns.index[0])\n",
    "    \n",
    "    return new_returns\n",
    "\n",
    "def SVP(components):\n",
    "    r = len(components)\n",
    "    s = np.zeros(r)\n",
    "    \n",
    "    for i in range(r):\n",
    "        s[i] = sum((components[i] - np.mean(components))**2) / (len(components[0]) - 1)\n",
    "    \n",
    "    c = np.zeros(r)\n",
    "    \n",
    "    for i in range(r):\n",
    "        c[i] = s[i] / sum(s)\n",
    "        \n",
    "    ans = components.T @ c\n",
    "    return ans"
   ]
  },
  {
   "cell_type": "code",
   "execution_count": 5,
   "id": "5e7c72df",
   "metadata": {},
   "outputs": [
    {
     "data": {
      "text/html": [
       "<div>\n",
       "<style scoped>\n",
       "    .dataframe tbody tr th:only-of-type {\n",
       "        vertical-align: middle;\n",
       "    }\n",
       "\n",
       "    .dataframe tbody tr th {\n",
       "        vertical-align: top;\n",
       "    }\n",
       "\n",
       "    .dataframe thead th {\n",
       "        text-align: right;\n",
       "    }\n",
       "</style>\n",
       "<table border=\"1\" class=\"dataframe\">\n",
       "  <thead>\n",
       "    <tr style=\"text-align: right;\">\n",
       "      <th></th>\n",
       "      <th>CDNS</th>\n",
       "      <th>SBAC</th>\n",
       "      <th>DRE</th>\n",
       "      <th>MGM</th>\n",
       "      <th>PKG</th>\n",
       "      <th>RMD</th>\n",
       "      <th>ANSS</th>\n",
       "      <th>RE</th>\n",
       "      <th>IT</th>\n",
       "      <th>DXC</th>\n",
       "      <th>...</th>\n",
       "      <th>VLO</th>\n",
       "      <th>VNO</th>\n",
       "      <th>WM</th>\n",
       "      <th>WAT</th>\n",
       "      <th>WY</th>\n",
       "      <th>WHR</th>\n",
       "      <th>XEL</th>\n",
       "      <th>XRX</th>\n",
       "      <th>XL</th>\n",
       "      <th>ZION</th>\n",
       "    </tr>\n",
       "    <tr>\n",
       "      <th>Date</th>\n",
       "      <th></th>\n",
       "      <th></th>\n",
       "      <th></th>\n",
       "      <th></th>\n",
       "      <th></th>\n",
       "      <th></th>\n",
       "      <th></th>\n",
       "      <th></th>\n",
       "      <th></th>\n",
       "      <th></th>\n",
       "      <th></th>\n",
       "      <th></th>\n",
       "      <th></th>\n",
       "      <th></th>\n",
       "      <th></th>\n",
       "      <th></th>\n",
       "      <th></th>\n",
       "      <th></th>\n",
       "      <th></th>\n",
       "      <th></th>\n",
       "      <th></th>\n",
       "    </tr>\n",
       "  </thead>\n",
       "  <tbody>\n",
       "    <tr>\n",
       "      <th>2003-01-02</th>\n",
       "      <td>11.660000</td>\n",
       "      <td>0.460000</td>\n",
       "      <td>11.131988</td>\n",
       "      <td>16.932493</td>\n",
       "      <td>11.184379</td>\n",
       "      <td>6.975630</td>\n",
       "      <td>5.062500</td>\n",
       "      <td>43.199841</td>\n",
       "      <td>9.400000</td>\n",
       "      <td>8.209270</td>\n",
       "      <td>...</td>\n",
       "      <td>6.570942</td>\n",
       "      <td>14.562235</td>\n",
       "      <td>15.129817</td>\n",
       "      <td>22.020000</td>\n",
       "      <td>11.924259</td>\n",
       "      <td>37.775433</td>\n",
       "      <td>6.074376</td>\n",
       "      <td>17.462282</td>\n",
       "      <td>53.263206</td>\n",
       "      <td>33.542156</td>\n",
       "    </tr>\n",
       "    <tr>\n",
       "      <th>2003-01-03</th>\n",
       "      <td>9.240000</td>\n",
       "      <td>0.420000</td>\n",
       "      <td>11.326909</td>\n",
       "      <td>16.676165</td>\n",
       "      <td>11.405125</td>\n",
       "      <td>6.946424</td>\n",
       "      <td>5.000000</td>\n",
       "      <td>43.192123</td>\n",
       "      <td>9.350000</td>\n",
       "      <td>8.068741</td>\n",
       "      <td>...</td>\n",
       "      <td>6.476137</td>\n",
       "      <td>14.796793</td>\n",
       "      <td>15.245060</td>\n",
       "      <td>21.680000</td>\n",
       "      <td>11.856510</td>\n",
       "      <td>37.092781</td>\n",
       "      <td>6.176063</td>\n",
       "      <td>17.719086</td>\n",
       "      <td>53.575237</td>\n",
       "      <td>33.236809</td>\n",
       "    </tr>\n",
       "    <tr>\n",
       "      <th>2003-01-06</th>\n",
       "      <td>9.800000</td>\n",
       "      <td>0.480000</td>\n",
       "      <td>11.521826</td>\n",
       "      <td>16.138859</td>\n",
       "      <td>11.460310</td>\n",
       "      <td>7.045274</td>\n",
       "      <td>5.042500</td>\n",
       "      <td>43.400410</td>\n",
       "      <td>9.380000</td>\n",
       "      <td>8.295929</td>\n",
       "      <td>...</td>\n",
       "      <td>6.467518</td>\n",
       "      <td>14.992258</td>\n",
       "      <td>15.213055</td>\n",
       "      <td>21.920000</td>\n",
       "      <td>12.171902</td>\n",
       "      <td>38.256065</td>\n",
       "      <td>6.556044</td>\n",
       "      <td>18.061478</td>\n",
       "      <td>55.082233</td>\n",
       "      <td>34.161186</td>\n",
       "    </tr>\n",
       "    <tr>\n",
       "      <th>2003-01-07</th>\n",
       "      <td>9.360000</td>\n",
       "      <td>0.570000</td>\n",
       "      <td>11.283589</td>\n",
       "      <td>16.079704</td>\n",
       "      <td>11.558415</td>\n",
       "      <td>7.045274</td>\n",
       "      <td>5.350000</td>\n",
       "      <td>43.338703</td>\n",
       "      <td>9.300000</td>\n",
       "      <td>8.431775</td>\n",
       "      <td>...</td>\n",
       "      <td>6.388227</td>\n",
       "      <td>14.659962</td>\n",
       "      <td>15.104204</td>\n",
       "      <td>21.290001</td>\n",
       "      <td>12.146206</td>\n",
       "      <td>37.629150</td>\n",
       "      <td>6.315211</td>\n",
       "      <td>17.783279</td>\n",
       "      <td>54.776875</td>\n",
       "      <td>34.326260</td>\n",
       "    </tr>\n",
       "    <tr>\n",
       "      <th>2003-01-08</th>\n",
       "      <td>9.650000</td>\n",
       "      <td>0.630000</td>\n",
       "      <td>11.157979</td>\n",
       "      <td>13.950205</td>\n",
       "      <td>11.435781</td>\n",
       "      <td>7.067739</td>\n",
       "      <td>5.415000</td>\n",
       "      <td>42.659836</td>\n",
       "      <td>9.200000</td>\n",
       "      <td>8.256112</td>\n",
       "      <td>...</td>\n",
       "      <td>6.122767</td>\n",
       "      <td>14.386308</td>\n",
       "      <td>15.155424</td>\n",
       "      <td>20.910000</td>\n",
       "      <td>11.896222</td>\n",
       "      <td>37.698792</td>\n",
       "      <td>6.743364</td>\n",
       "      <td>17.697674</td>\n",
       "      <td>54.086426</td>\n",
       "      <td>34.689415</td>\n",
       "    </tr>\n",
       "    <tr>\n",
       "      <th>...</th>\n",
       "      <td>...</td>\n",
       "      <td>...</td>\n",
       "      <td>...</td>\n",
       "      <td>...</td>\n",
       "      <td>...</td>\n",
       "      <td>...</td>\n",
       "      <td>...</td>\n",
       "      <td>...</td>\n",
       "      <td>...</td>\n",
       "      <td>...</td>\n",
       "      <td>...</td>\n",
       "      <td>...</td>\n",
       "      <td>...</td>\n",
       "      <td>...</td>\n",
       "      <td>...</td>\n",
       "      <td>...</td>\n",
       "      <td>...</td>\n",
       "      <td>...</td>\n",
       "      <td>...</td>\n",
       "      <td>...</td>\n",
       "      <td>...</td>\n",
       "    </tr>\n",
       "    <tr>\n",
       "      <th>2017-12-22</th>\n",
       "      <td>42.259998</td>\n",
       "      <td>160.220001</td>\n",
       "      <td>26.860001</td>\n",
       "      <td>33.340000</td>\n",
       "      <td>120.089996</td>\n",
       "      <td>85.110001</td>\n",
       "      <td>146.660004</td>\n",
       "      <td>218.949997</td>\n",
       "      <td>123.589996</td>\n",
       "      <td>95.889999</td>\n",
       "      <td>...</td>\n",
       "      <td>91.129997</td>\n",
       "      <td>76.526649</td>\n",
       "      <td>85.910004</td>\n",
       "      <td>193.789993</td>\n",
       "      <td>34.939999</td>\n",
       "      <td>171.679993</td>\n",
       "      <td>47.886841</td>\n",
       "      <td>29.329153</td>\n",
       "      <td>35.169998</td>\n",
       "      <td>51.330002</td>\n",
       "    </tr>\n",
       "    <tr>\n",
       "      <th>2017-12-26</th>\n",
       "      <td>41.970001</td>\n",
       "      <td>159.820007</td>\n",
       "      <td>26.920000</td>\n",
       "      <td>33.349998</td>\n",
       "      <td>120.099998</td>\n",
       "      <td>85.589996</td>\n",
       "      <td>146.389999</td>\n",
       "      <td>219.729996</td>\n",
       "      <td>123.089996</td>\n",
       "      <td>95.900002</td>\n",
       "      <td>...</td>\n",
       "      <td>91.860001</td>\n",
       "      <td>76.893425</td>\n",
       "      <td>85.879997</td>\n",
       "      <td>193.820007</td>\n",
       "      <td>35.060001</td>\n",
       "      <td>170.160004</td>\n",
       "      <td>47.470001</td>\n",
       "      <td>29.160593</td>\n",
       "      <td>35.240002</td>\n",
       "      <td>50.860001</td>\n",
       "    </tr>\n",
       "    <tr>\n",
       "      <th>2017-12-27</th>\n",
       "      <td>42.250000</td>\n",
       "      <td>161.259995</td>\n",
       "      <td>27.120001</td>\n",
       "      <td>33.709999</td>\n",
       "      <td>120.540001</td>\n",
       "      <td>85.760002</td>\n",
       "      <td>146.660004</td>\n",
       "      <td>219.979996</td>\n",
       "      <td>123.970001</td>\n",
       "      <td>94.730003</td>\n",
       "      <td>...</td>\n",
       "      <td>92.139999</td>\n",
       "      <td>77.081772</td>\n",
       "      <td>86.110001</td>\n",
       "      <td>193.449997</td>\n",
       "      <td>35.099998</td>\n",
       "      <td>170.080002</td>\n",
       "      <td>47.799999</td>\n",
       "      <td>29.230000</td>\n",
       "      <td>35.200001</td>\n",
       "      <td>50.709999</td>\n",
       "    </tr>\n",
       "    <tr>\n",
       "      <th>2017-12-28</th>\n",
       "      <td>42.290001</td>\n",
       "      <td>163.000000</td>\n",
       "      <td>27.299999</td>\n",
       "      <td>33.630001</td>\n",
       "      <td>120.919998</td>\n",
       "      <td>86.260002</td>\n",
       "      <td>147.649994</td>\n",
       "      <td>222.570007</td>\n",
       "      <td>123.889999</td>\n",
       "      <td>94.970001</td>\n",
       "      <td>...</td>\n",
       "      <td>92.300003</td>\n",
       "      <td>77.389061</td>\n",
       "      <td>86.290001</td>\n",
       "      <td>194.809998</td>\n",
       "      <td>35.259998</td>\n",
       "      <td>170.669998</td>\n",
       "      <td>48.080002</td>\n",
       "      <td>29.450001</td>\n",
       "      <td>35.369999</td>\n",
       "      <td>51.340000</td>\n",
       "    </tr>\n",
       "    <tr>\n",
       "      <th>12/29/2017</th>\n",
       "      <td>41.820000</td>\n",
       "      <td>163.360001</td>\n",
       "      <td>27.209999</td>\n",
       "      <td>33.389999</td>\n",
       "      <td>120.550003</td>\n",
       "      <td>84.690002</td>\n",
       "      <td>147.589996</td>\n",
       "      <td>221.259995</td>\n",
       "      <td>123.150002</td>\n",
       "      <td>94.900002</td>\n",
       "      <td>...</td>\n",
       "      <td>91.910004</td>\n",
       "      <td>77.498108</td>\n",
       "      <td>86.300003</td>\n",
       "      <td>193.190002</td>\n",
       "      <td>35.259998</td>\n",
       "      <td>168.639999</td>\n",
       "      <td>48.110001</td>\n",
       "      <td>29.150000</td>\n",
       "      <td>35.160000</td>\n",
       "      <td>50.830002</td>\n",
       "    </tr>\n",
       "  </tbody>\n",
       "</table>\n",
       "<p>3776 rows × 410 columns</p>\n",
       "</div>"
      ],
      "text/plain": [
       "                 CDNS        SBAC        DRE        MGM         PKG  \\\n",
       "Date                                                                  \n",
       "2003-01-02  11.660000    0.460000  11.131988  16.932493   11.184379   \n",
       "2003-01-03   9.240000    0.420000  11.326909  16.676165   11.405125   \n",
       "2003-01-06   9.800000    0.480000  11.521826  16.138859   11.460310   \n",
       "2003-01-07   9.360000    0.570000  11.283589  16.079704   11.558415   \n",
       "2003-01-08   9.650000    0.630000  11.157979  13.950205   11.435781   \n",
       "...               ...         ...        ...        ...         ...   \n",
       "2017-12-22  42.259998  160.220001  26.860001  33.340000  120.089996   \n",
       "2017-12-26  41.970001  159.820007  26.920000  33.349998  120.099998   \n",
       "2017-12-27  42.250000  161.259995  27.120001  33.709999  120.540001   \n",
       "2017-12-28  42.290001  163.000000  27.299999  33.630001  120.919998   \n",
       "12/29/2017  41.820000  163.360001  27.209999  33.389999  120.550003   \n",
       "\n",
       "                  RMD        ANSS          RE          IT        DXC  ...  \\\n",
       "Date                                                                  ...   \n",
       "2003-01-02   6.975630    5.062500   43.199841    9.400000   8.209270  ...   \n",
       "2003-01-03   6.946424    5.000000   43.192123    9.350000   8.068741  ...   \n",
       "2003-01-06   7.045274    5.042500   43.400410    9.380000   8.295929  ...   \n",
       "2003-01-07   7.045274    5.350000   43.338703    9.300000   8.431775  ...   \n",
       "2003-01-08   7.067739    5.415000   42.659836    9.200000   8.256112  ...   \n",
       "...               ...         ...         ...         ...        ...  ...   \n",
       "2017-12-22  85.110001  146.660004  218.949997  123.589996  95.889999  ...   \n",
       "2017-12-26  85.589996  146.389999  219.729996  123.089996  95.900002  ...   \n",
       "2017-12-27  85.760002  146.660004  219.979996  123.970001  94.730003  ...   \n",
       "2017-12-28  86.260002  147.649994  222.570007  123.889999  94.970001  ...   \n",
       "12/29/2017  84.690002  147.589996  221.259995  123.150002  94.900002  ...   \n",
       "\n",
       "                  VLO        VNO         WM         WAT         WY  \\\n",
       "Date                                                                 \n",
       "2003-01-02   6.570942  14.562235  15.129817   22.020000  11.924259   \n",
       "2003-01-03   6.476137  14.796793  15.245060   21.680000  11.856510   \n",
       "2003-01-06   6.467518  14.992258  15.213055   21.920000  12.171902   \n",
       "2003-01-07   6.388227  14.659962  15.104204   21.290001  12.146206   \n",
       "2003-01-08   6.122767  14.386308  15.155424   20.910000  11.896222   \n",
       "...               ...        ...        ...         ...        ...   \n",
       "2017-12-22  91.129997  76.526649  85.910004  193.789993  34.939999   \n",
       "2017-12-26  91.860001  76.893425  85.879997  193.820007  35.060001   \n",
       "2017-12-27  92.139999  77.081772  86.110001  193.449997  35.099998   \n",
       "2017-12-28  92.300003  77.389061  86.290001  194.809998  35.259998   \n",
       "12/29/2017  91.910004  77.498108  86.300003  193.190002  35.259998   \n",
       "\n",
       "                   WHR        XEL        XRX         XL       ZION  \n",
       "Date                                                                \n",
       "2003-01-02   37.775433   6.074376  17.462282  53.263206  33.542156  \n",
       "2003-01-03   37.092781   6.176063  17.719086  53.575237  33.236809  \n",
       "2003-01-06   38.256065   6.556044  18.061478  55.082233  34.161186  \n",
       "2003-01-07   37.629150   6.315211  17.783279  54.776875  34.326260  \n",
       "2003-01-08   37.698792   6.743364  17.697674  54.086426  34.689415  \n",
       "...                ...        ...        ...        ...        ...  \n",
       "2017-12-22  171.679993  47.886841  29.329153  35.169998  51.330002  \n",
       "2017-12-26  170.160004  47.470001  29.160593  35.240002  50.860001  \n",
       "2017-12-27  170.080002  47.799999  29.230000  35.200001  50.709999  \n",
       "2017-12-28  170.669998  48.080002  29.450001  35.369999  51.340000  \n",
       "12/29/2017  168.639999  48.110001  29.150000  35.160000  50.830002  \n",
       "\n",
       "[3776 rows x 410 columns]"
      ]
     },
     "execution_count": 5,
     "metadata": {},
     "output_type": "execute_result"
    }
   ],
   "source": [
    "data = pd.read_csv('sp500-0317.csv')\n",
    "prices = data.dropna(axis=1).set_index('Date')\n",
    "prices"
   ]
  },
  {
   "cell_type": "code",
   "execution_count": 6,
   "id": "97d6fcde",
   "metadata": {},
   "outputs": [],
   "source": [
    "returns = prices.apply(lambda x: x.pct_change(1).fillna(0), axis=0)"
   ]
  },
  {
   "cell_type": "code",
   "execution_count": 7,
   "id": "ec53c7c9",
   "metadata": {
    "scrolled": true
   },
   "outputs": [
    {
     "data": {
      "text/html": [
       "<div>\n",
       "<style scoped>\n",
       "    .dataframe tbody tr th:only-of-type {\n",
       "        vertical-align: middle;\n",
       "    }\n",
       "\n",
       "    .dataframe tbody tr th {\n",
       "        vertical-align: top;\n",
       "    }\n",
       "\n",
       "    .dataframe thead th {\n",
       "        text-align: right;\n",
       "    }\n",
       "</style>\n",
       "<table border=\"1\" class=\"dataframe\">\n",
       "  <thead>\n",
       "    <tr style=\"text-align: right;\">\n",
       "      <th></th>\n",
       "      <th>CDNS</th>\n",
       "      <th>SBAC</th>\n",
       "      <th>DRE</th>\n",
       "      <th>MGM</th>\n",
       "      <th>PKG</th>\n",
       "      <th>RMD</th>\n",
       "      <th>ANSS</th>\n",
       "      <th>RE</th>\n",
       "      <th>IT</th>\n",
       "      <th>DXC</th>\n",
       "      <th>...</th>\n",
       "      <th>VLO</th>\n",
       "      <th>VNO</th>\n",
       "      <th>WM</th>\n",
       "      <th>WAT</th>\n",
       "      <th>WY</th>\n",
       "      <th>WHR</th>\n",
       "      <th>XEL</th>\n",
       "      <th>XRX</th>\n",
       "      <th>XL</th>\n",
       "      <th>ZION</th>\n",
       "    </tr>\n",
       "    <tr>\n",
       "      <th>Date</th>\n",
       "      <th></th>\n",
       "      <th></th>\n",
       "      <th></th>\n",
       "      <th></th>\n",
       "      <th></th>\n",
       "      <th></th>\n",
       "      <th></th>\n",
       "      <th></th>\n",
       "      <th></th>\n",
       "      <th></th>\n",
       "      <th></th>\n",
       "      <th></th>\n",
       "      <th></th>\n",
       "      <th></th>\n",
       "      <th></th>\n",
       "      <th></th>\n",
       "      <th></th>\n",
       "      <th></th>\n",
       "      <th></th>\n",
       "      <th></th>\n",
       "      <th></th>\n",
       "    </tr>\n",
       "  </thead>\n",
       "  <tbody>\n",
       "    <tr>\n",
       "      <th>2003-01-02</th>\n",
       "      <td>0.000000</td>\n",
       "      <td>0.000000</td>\n",
       "      <td>0.000000</td>\n",
       "      <td>0.000000</td>\n",
       "      <td>0.000000</td>\n",
       "      <td>0.000000</td>\n",
       "      <td>0.000000</td>\n",
       "      <td>0.000000</td>\n",
       "      <td>0.000000</td>\n",
       "      <td>0.000000</td>\n",
       "      <td>...</td>\n",
       "      <td>0.000000</td>\n",
       "      <td>0.000000</td>\n",
       "      <td>0.000000</td>\n",
       "      <td>0.000000</td>\n",
       "      <td>0.000000</td>\n",
       "      <td>0.000000</td>\n",
       "      <td>0.000000</td>\n",
       "      <td>0.000000</td>\n",
       "      <td>0.000000</td>\n",
       "      <td>0.000000</td>\n",
       "    </tr>\n",
       "    <tr>\n",
       "      <th>2003-01-03</th>\n",
       "      <td>-0.207547</td>\n",
       "      <td>-0.086957</td>\n",
       "      <td>0.017510</td>\n",
       "      <td>-0.015138</td>\n",
       "      <td>0.019737</td>\n",
       "      <td>-0.004187</td>\n",
       "      <td>-0.012346</td>\n",
       "      <td>-0.000179</td>\n",
       "      <td>-0.005319</td>\n",
       "      <td>-0.017118</td>\n",
       "      <td>...</td>\n",
       "      <td>-0.014428</td>\n",
       "      <td>0.016107</td>\n",
       "      <td>0.007617</td>\n",
       "      <td>-0.015441</td>\n",
       "      <td>-0.005682</td>\n",
       "      <td>-0.018071</td>\n",
       "      <td>0.016740</td>\n",
       "      <td>0.014706</td>\n",
       "      <td>0.005858</td>\n",
       "      <td>-0.009103</td>\n",
       "    </tr>\n",
       "    <tr>\n",
       "      <th>2003-01-06</th>\n",
       "      <td>0.060606</td>\n",
       "      <td>0.142857</td>\n",
       "      <td>0.017208</td>\n",
       "      <td>-0.032220</td>\n",
       "      <td>0.004839</td>\n",
       "      <td>0.014230</td>\n",
       "      <td>0.008500</td>\n",
       "      <td>0.004822</td>\n",
       "      <td>0.003209</td>\n",
       "      <td>0.028157</td>\n",
       "      <td>...</td>\n",
       "      <td>-0.001331</td>\n",
       "      <td>0.013210</td>\n",
       "      <td>-0.002099</td>\n",
       "      <td>0.011070</td>\n",
       "      <td>0.026601</td>\n",
       "      <td>0.031361</td>\n",
       "      <td>0.061525</td>\n",
       "      <td>0.019323</td>\n",
       "      <td>0.028129</td>\n",
       "      <td>0.027812</td>\n",
       "    </tr>\n",
       "    <tr>\n",
       "      <th>2003-01-07</th>\n",
       "      <td>-0.044898</td>\n",
       "      <td>0.187500</td>\n",
       "      <td>-0.020677</td>\n",
       "      <td>-0.003665</td>\n",
       "      <td>0.008560</td>\n",
       "      <td>0.000000</td>\n",
       "      <td>0.060982</td>\n",
       "      <td>-0.001422</td>\n",
       "      <td>-0.008529</td>\n",
       "      <td>0.016375</td>\n",
       "      <td>...</td>\n",
       "      <td>-0.012260</td>\n",
       "      <td>-0.022165</td>\n",
       "      <td>-0.007155</td>\n",
       "      <td>-0.028741</td>\n",
       "      <td>-0.002111</td>\n",
       "      <td>-0.016387</td>\n",
       "      <td>-0.036735</td>\n",
       "      <td>-0.015403</td>\n",
       "      <td>-0.005544</td>\n",
       "      <td>0.004832</td>\n",
       "    </tr>\n",
       "    <tr>\n",
       "      <th>2003-01-08</th>\n",
       "      <td>0.030983</td>\n",
       "      <td>0.105263</td>\n",
       "      <td>-0.011132</td>\n",
       "      <td>-0.132434</td>\n",
       "      <td>-0.010610</td>\n",
       "      <td>0.003189</td>\n",
       "      <td>0.012150</td>\n",
       "      <td>-0.015664</td>\n",
       "      <td>-0.010753</td>\n",
       "      <td>-0.020833</td>\n",
       "      <td>...</td>\n",
       "      <td>-0.041555</td>\n",
       "      <td>-0.018667</td>\n",
       "      <td>0.003391</td>\n",
       "      <td>-0.017849</td>\n",
       "      <td>-0.020581</td>\n",
       "      <td>0.001851</td>\n",
       "      <td>0.067797</td>\n",
       "      <td>-0.004814</td>\n",
       "      <td>-0.012605</td>\n",
       "      <td>0.010580</td>\n",
       "    </tr>\n",
       "    <tr>\n",
       "      <th>...</th>\n",
       "      <td>...</td>\n",
       "      <td>...</td>\n",
       "      <td>...</td>\n",
       "      <td>...</td>\n",
       "      <td>...</td>\n",
       "      <td>...</td>\n",
       "      <td>...</td>\n",
       "      <td>...</td>\n",
       "      <td>...</td>\n",
       "      <td>...</td>\n",
       "      <td>...</td>\n",
       "      <td>...</td>\n",
       "      <td>...</td>\n",
       "      <td>...</td>\n",
       "      <td>...</td>\n",
       "      <td>...</td>\n",
       "      <td>...</td>\n",
       "      <td>...</td>\n",
       "      <td>...</td>\n",
       "      <td>...</td>\n",
       "      <td>...</td>\n",
       "    </tr>\n",
       "    <tr>\n",
       "      <th>2017-12-22</th>\n",
       "      <td>-0.005179</td>\n",
       "      <td>0.015079</td>\n",
       "      <td>0.002613</td>\n",
       "      <td>-0.011562</td>\n",
       "      <td>0.003510</td>\n",
       "      <td>0.001530</td>\n",
       "      <td>-0.003871</td>\n",
       "      <td>0.002335</td>\n",
       "      <td>0.004633</td>\n",
       "      <td>-0.004464</td>\n",
       "      <td>...</td>\n",
       "      <td>0.004519</td>\n",
       "      <td>0.000908</td>\n",
       "      <td>0.001399</td>\n",
       "      <td>-0.003753</td>\n",
       "      <td>-0.007668</td>\n",
       "      <td>0.012204</td>\n",
       "      <td>-0.002893</td>\n",
       "      <td>-0.004376</td>\n",
       "      <td>0.003137</td>\n",
       "      <td>-0.002526</td>\n",
       "    </tr>\n",
       "    <tr>\n",
       "      <th>2017-12-26</th>\n",
       "      <td>-0.006862</td>\n",
       "      <td>-0.002497</td>\n",
       "      <td>0.002234</td>\n",
       "      <td>0.000300</td>\n",
       "      <td>0.000083</td>\n",
       "      <td>0.005640</td>\n",
       "      <td>-0.001841</td>\n",
       "      <td>0.003562</td>\n",
       "      <td>-0.004046</td>\n",
       "      <td>0.000104</td>\n",
       "      <td>...</td>\n",
       "      <td>0.008011</td>\n",
       "      <td>0.004793</td>\n",
       "      <td>-0.000349</td>\n",
       "      <td>0.000155</td>\n",
       "      <td>0.003435</td>\n",
       "      <td>-0.008854</td>\n",
       "      <td>-0.008705</td>\n",
       "      <td>-0.005747</td>\n",
       "      <td>0.001990</td>\n",
       "      <td>-0.009156</td>\n",
       "    </tr>\n",
       "    <tr>\n",
       "      <th>2017-12-27</th>\n",
       "      <td>0.006671</td>\n",
       "      <td>0.009010</td>\n",
       "      <td>0.007429</td>\n",
       "      <td>0.010795</td>\n",
       "      <td>0.003664</td>\n",
       "      <td>0.001986</td>\n",
       "      <td>0.001844</td>\n",
       "      <td>0.001138</td>\n",
       "      <td>0.007149</td>\n",
       "      <td>-0.012200</td>\n",
       "      <td>...</td>\n",
       "      <td>0.003048</td>\n",
       "      <td>0.002449</td>\n",
       "      <td>0.002678</td>\n",
       "      <td>-0.001909</td>\n",
       "      <td>0.001141</td>\n",
       "      <td>-0.000470</td>\n",
       "      <td>0.006952</td>\n",
       "      <td>0.002380</td>\n",
       "      <td>-0.001135</td>\n",
       "      <td>-0.002949</td>\n",
       "    </tr>\n",
       "    <tr>\n",
       "      <th>2017-12-28</th>\n",
       "      <td>0.000947</td>\n",
       "      <td>0.010790</td>\n",
       "      <td>0.006637</td>\n",
       "      <td>-0.002373</td>\n",
       "      <td>0.003152</td>\n",
       "      <td>0.005830</td>\n",
       "      <td>0.006750</td>\n",
       "      <td>0.011774</td>\n",
       "      <td>-0.000645</td>\n",
       "      <td>0.002533</td>\n",
       "      <td>...</td>\n",
       "      <td>0.001737</td>\n",
       "      <td>0.003987</td>\n",
       "      <td>0.002090</td>\n",
       "      <td>0.007030</td>\n",
       "      <td>0.004558</td>\n",
       "      <td>0.003469</td>\n",
       "      <td>0.005858</td>\n",
       "      <td>0.007527</td>\n",
       "      <td>0.004829</td>\n",
       "      <td>0.012424</td>\n",
       "    </tr>\n",
       "    <tr>\n",
       "      <th>12/29/2017</th>\n",
       "      <td>-0.011114</td>\n",
       "      <td>0.002209</td>\n",
       "      <td>-0.003297</td>\n",
       "      <td>-0.007137</td>\n",
       "      <td>-0.003060</td>\n",
       "      <td>-0.018201</td>\n",
       "      <td>-0.000406</td>\n",
       "      <td>-0.005886</td>\n",
       "      <td>-0.005973</td>\n",
       "      <td>-0.000737</td>\n",
       "      <td>...</td>\n",
       "      <td>-0.004225</td>\n",
       "      <td>0.001409</td>\n",
       "      <td>0.000116</td>\n",
       "      <td>-0.008316</td>\n",
       "      <td>0.000000</td>\n",
       "      <td>-0.011894</td>\n",
       "      <td>0.000624</td>\n",
       "      <td>-0.010187</td>\n",
       "      <td>-0.005937</td>\n",
       "      <td>-0.009934</td>\n",
       "    </tr>\n",
       "  </tbody>\n",
       "</table>\n",
       "<p>3776 rows × 410 columns</p>\n",
       "</div>"
      ],
      "text/plain": [
       "                CDNS      SBAC       DRE       MGM       PKG       RMD  \\\n",
       "Date                                                                     \n",
       "2003-01-02  0.000000  0.000000  0.000000  0.000000  0.000000  0.000000   \n",
       "2003-01-03 -0.207547 -0.086957  0.017510 -0.015138  0.019737 -0.004187   \n",
       "2003-01-06  0.060606  0.142857  0.017208 -0.032220  0.004839  0.014230   \n",
       "2003-01-07 -0.044898  0.187500 -0.020677 -0.003665  0.008560  0.000000   \n",
       "2003-01-08  0.030983  0.105263 -0.011132 -0.132434 -0.010610  0.003189   \n",
       "...              ...       ...       ...       ...       ...       ...   \n",
       "2017-12-22 -0.005179  0.015079  0.002613 -0.011562  0.003510  0.001530   \n",
       "2017-12-26 -0.006862 -0.002497  0.002234  0.000300  0.000083  0.005640   \n",
       "2017-12-27  0.006671  0.009010  0.007429  0.010795  0.003664  0.001986   \n",
       "2017-12-28  0.000947  0.010790  0.006637 -0.002373  0.003152  0.005830   \n",
       "12/29/2017 -0.011114  0.002209 -0.003297 -0.007137 -0.003060 -0.018201   \n",
       "\n",
       "                ANSS        RE        IT       DXC  ...       VLO       VNO  \\\n",
       "Date                                                ...                       \n",
       "2003-01-02  0.000000  0.000000  0.000000  0.000000  ...  0.000000  0.000000   \n",
       "2003-01-03 -0.012346 -0.000179 -0.005319 -0.017118  ... -0.014428  0.016107   \n",
       "2003-01-06  0.008500  0.004822  0.003209  0.028157  ... -0.001331  0.013210   \n",
       "2003-01-07  0.060982 -0.001422 -0.008529  0.016375  ... -0.012260 -0.022165   \n",
       "2003-01-08  0.012150 -0.015664 -0.010753 -0.020833  ... -0.041555 -0.018667   \n",
       "...              ...       ...       ...       ...  ...       ...       ...   \n",
       "2017-12-22 -0.003871  0.002335  0.004633 -0.004464  ...  0.004519  0.000908   \n",
       "2017-12-26 -0.001841  0.003562 -0.004046  0.000104  ...  0.008011  0.004793   \n",
       "2017-12-27  0.001844  0.001138  0.007149 -0.012200  ...  0.003048  0.002449   \n",
       "2017-12-28  0.006750  0.011774 -0.000645  0.002533  ...  0.001737  0.003987   \n",
       "12/29/2017 -0.000406 -0.005886 -0.005973 -0.000737  ... -0.004225  0.001409   \n",
       "\n",
       "                  WM       WAT        WY       WHR       XEL       XRX  \\\n",
       "Date                                                                     \n",
       "2003-01-02  0.000000  0.000000  0.000000  0.000000  0.000000  0.000000   \n",
       "2003-01-03  0.007617 -0.015441 -0.005682 -0.018071  0.016740  0.014706   \n",
       "2003-01-06 -0.002099  0.011070  0.026601  0.031361  0.061525  0.019323   \n",
       "2003-01-07 -0.007155 -0.028741 -0.002111 -0.016387 -0.036735 -0.015403   \n",
       "2003-01-08  0.003391 -0.017849 -0.020581  0.001851  0.067797 -0.004814   \n",
       "...              ...       ...       ...       ...       ...       ...   \n",
       "2017-12-22  0.001399 -0.003753 -0.007668  0.012204 -0.002893 -0.004376   \n",
       "2017-12-26 -0.000349  0.000155  0.003435 -0.008854 -0.008705 -0.005747   \n",
       "2017-12-27  0.002678 -0.001909  0.001141 -0.000470  0.006952  0.002380   \n",
       "2017-12-28  0.002090  0.007030  0.004558  0.003469  0.005858  0.007527   \n",
       "12/29/2017  0.000116 -0.008316  0.000000 -0.011894  0.000624 -0.010187   \n",
       "\n",
       "                  XL      ZION  \n",
       "Date                            \n",
       "2003-01-02  0.000000  0.000000  \n",
       "2003-01-03  0.005858 -0.009103  \n",
       "2003-01-06  0.028129  0.027812  \n",
       "2003-01-07 -0.005544  0.004832  \n",
       "2003-01-08 -0.012605  0.010580  \n",
       "...              ...       ...  \n",
       "2017-12-22  0.003137 -0.002526  \n",
       "2017-12-26  0.001990 -0.009156  \n",
       "2017-12-27 -0.001135 -0.002949  \n",
       "2017-12-28  0.004829  0.012424  \n",
       "12/29/2017 -0.005937 -0.009934  \n",
       "\n",
       "[3776 rows x 410 columns]"
      ]
     },
     "execution_count": 7,
     "metadata": {},
     "output_type": "execute_result"
    }
   ],
   "source": [
    "returns"
   ]
  },
  {
   "cell_type": "code",
   "execution_count": 8,
   "id": "943b1f10",
   "metadata": {},
   "outputs": [],
   "source": [
    "train_size = 2500\n",
    "returns_train = returns[:train_size]\n",
    "returns_test = returns[train_size:]"
   ]
  },
  {
   "cell_type": "code",
   "execution_count": 9,
   "id": "85939468",
   "metadata": {},
   "outputs": [],
   "source": [
    "tscv = TimeSeriesSplit(n_splits=2, test_size=1000)"
   ]
  },
  {
   "cell_type": "code",
   "execution_count": 10,
   "id": "154ec9ba",
   "metadata": {},
   "outputs": [],
   "source": [
    "def calc_ratio(returns):\n",
    "    return np.mean(returns - 1) / np.std(returns - 1)\n",
    "\n",
    "def calc_VAR(returns):\n",
    "    VAR_quantile = 0.05\n",
    "    return np.quantile(returns, VAR_quantile)\n",
    "\n",
    "def sortino_ratio(returns, N=255,rf=0.01):\n",
    "    column = '1'\n",
    "    pd_r = pd.DataFrame(returns)\n",
    "    pd_r = pd_r.pct_change()\n",
    "    mean = pd_r.mean() * N -rf\n",
    "    std_neg = pd_r[pd_r<0].std()*np.sqrt(N)\n",
    "    return (mean/std_neg)['CDNS']\n",
    "\n",
    "def get_best_params(prices_df, test_df, comp_grid, window_grid):\n",
    "    best_ratio = -1\n",
    "    best_params = [0, 0]\n",
    "\n",
    "    for n_comp in comp_grid:\n",
    "        for window_size in window_grid:\n",
    "            if n_comp > window_size:\n",
    "                continue\n",
    "            try:\n",
    "                returns = make_dim_red(prices_df, n_comp, window_size)\n",
    "                npca_w = return_weights(returns)\n",
    "                \n",
    "                npca_portfolio_return = count_portfolio_return(test_df.columns, npca_w, test_df)\n",
    "                cur_ratio = sortino_ratio(npca_portfolio_return)\n",
    "                if cur_ratio > best_ratio:\n",
    "                    best_ratio = cur_ratio\n",
    "                    best_params[0] = n_comp\n",
    "                    best_params[1] = window_size\n",
    "            except Exception:\n",
    "                continue\n",
    "            print(n_comp, window_size, cur_ratio)\n",
    "            print('-----------------')\n",
    "    return best_params"
   ]
  },
  {
   "cell_type": "code",
   "execution_count": 11,
   "id": "50f1145d",
   "metadata": {},
   "outputs": [],
   "source": [
    "prices_test = prices[:train_size]\n",
    "prices_test = prices[train_size:]"
   ]
  },
  {
   "cell_type": "code",
   "execution_count": 12,
   "id": "ce208f4d",
   "metadata": {},
   "outputs": [],
   "source": [
    "# Функция для поиска оптимальных параметров\n",
    "def NPCA_param_search(prices_df, n_comp_list, window_size_list, cv, metric=sortino_ratio, num_iteration=2):\n",
    "    best_ratio = -1\n",
    "    best_params = [0, 0]\n",
    "    \n",
    "    for n_comp in tqdm(n_comp_list):\n",
    "        for window_size in tqdm(window_size_list):\n",
    "            if n_comp > window_size:\n",
    "                    continue\n",
    "                    \n",
    "            ratio_list = list()\n",
    "\n",
    "            for i in range(num_iteration):               \n",
    "                for train_index, test_index in tscv.split(prices_df):\n",
    "                    train = prices.loc[prices.index[train_index]]\n",
    "                    test = prices.loc[prices.index[test_index]]\n",
    "                    test_returns = test.apply(lambda x: x.pct_change(1).fillna(0), axis=0)\n",
    "\n",
    "                    try:\n",
    "                        returns = make_dim_red(train, n_comp, window_size)\n",
    "                        npca_w = return_weights(returns)\n",
    "\n",
    "                        npca_portfolio_return = count_portfolio_return(test_returns.columns.to_numpy(), npca_w, test_returns)\n",
    "                        ratio_list.append(metric(npca_portfolio_return))\n",
    "                        print(metric(npca_portfolio_return))\n",
    "                    except Exception as e:\n",
    "                        print(e)\n",
    "                        continue\n",
    "\n",
    "            cur_ratio = np.mean(ratio_list)\n",
    "            if cur_ratio > best_ratio:\n",
    "                best_ratio = cur_ratio\n",
    "                best_params[0] = n_comp\n",
    "                best_params[1] = window_size\n",
    "\n",
    "            print(n_comp, window_size, cur_ratio)\n",
    "            print('-----------------')  \n",
    "\n",
    "    return best_params"
   ]
  },
  {
   "cell_type": "code",
   "execution_count": 228,
   "id": "3bd2938b",
   "metadata": {},
   "outputs": [
    {
     "name": "stderr",
     "output_type": "stream",
     "text": [
      "  0%|                                                                                            | 0/4 [00:00<?, ?it/s]\n",
      "  0%|                                                                                            | 0/3 [00:00<?, ?it/s]\u001b[A"
     ]
    },
    {
     "name": "stdout",
     "output_type": "stream",
     "text": [
      "1.05277259200227\n",
      "1.0233272688473614\n",
      "1.0527725947189683\n"
     ]
    },
    {
     "name": "stderr",
     "output_type": "stream",
     "text": [
      "\n",
      " 33%|████████████████████████████                                                        | 1/3 [00:20<00:40, 20.35s/it]\u001b[A"
     ]
    },
    {
     "name": "stdout",
     "output_type": "stream",
     "text": [
      "1.0233272689722912\n",
      "1 3 1.0380499311352227\n",
      "-----------------\n",
      "1.0390569453104863\n",
      "1.036870725387001\n",
      "1.039056931735648\n"
     ]
    },
    {
     "name": "stderr",
     "output_type": "stream",
     "text": [
      "\n",
      " 67%|████████████████████████████████████████████████████████                            | 2/3 [00:41<00:20, 20.84s/it]\u001b[A"
     ]
    },
    {
     "name": "stdout",
     "output_type": "stream",
     "text": [
      "1.036870731163259\n",
      "1 4 1.0379638333990986\n",
      "-----------------\n",
      "1.0558988949679349\n",
      "1.029192303769719\n",
      "1.0558988954765485\n"
     ]
    },
    {
     "name": "stderr",
     "output_type": "stream",
     "text": [
      "\n",
      "100%|████████████████████████████████████████████████████████████████████████████████████| 3/3 [01:02<00:00, 20.95s/it]\u001b[A\n",
      " 25%|█████████████████████                                                               | 1/4 [01:02<03:08, 62.84s/it]\n",
      "  0%|                                                                                            | 0/3 [00:00<?, ?it/s]\u001b[A"
     ]
    },
    {
     "name": "stdout",
     "output_type": "stream",
     "text": [
      "1.029192303702057\n",
      "1 5 1.0425455994790649\n",
      "-----------------\n",
      "1.043447238364178\n",
      "1.048865109198909\n",
      "1.0329301701014992\n"
     ]
    },
    {
     "name": "stderr",
     "output_type": "stream",
     "text": [
      "\n",
      " 33%|████████████████████████████                                                        | 1/3 [00:25<00:50, 25.29s/it]\u001b[A"
     ]
    },
    {
     "name": "stdout",
     "output_type": "stream",
     "text": [
      "1.0203467313815422\n",
      "2 3 1.036397312261532\n",
      "-----------------\n",
      "1.0046105835330794\n",
      "1.0410508927909063\n",
      "1.0166237447248765\n"
     ]
    },
    {
     "name": "stderr",
     "output_type": "stream",
     "text": [
      "\n",
      " 67%|████████████████████████████████████████████████████████                            | 2/3 [00:53<00:26, 26.82s/it]\u001b[A"
     ]
    },
    {
     "name": "stdout",
     "output_type": "stream",
     "text": [
      "1.0321581323996212\n",
      "2 4 1.0236108383621207\n",
      "-----------------\n",
      "0.9936594911980327\n",
      "1.0340348140134605\n",
      "1.0042396517534797\n"
     ]
    },
    {
     "name": "stderr",
     "output_type": "stream",
     "text": [
      "\n",
      "100%|████████████████████████████████████████████████████████████████████████████████████| 3/3 [01:18<00:00, 26.28s/it]\u001b[A\n",
      " 50%|██████████████████████████████████████████                                          | 2/4 [02:21<02:24, 72.25s/it]\n",
      "  0%|                                                                                            | 0/3 [00:00<?, ?it/s]\u001b[A"
     ]
    },
    {
     "name": "stdout",
     "output_type": "stream",
     "text": [
      "1.0317177504845136\n",
      "2 5 1.0159129268623717\n",
      "-----------------\n",
      "1.0391842426749223\n",
      "1.0328502182190913\n",
      "1.060237905087631\n"
     ]
    },
    {
     "name": "stderr",
     "output_type": "stream",
     "text": [
      "\n",
      " 33%|████████████████████████████                                                        | 1/3 [00:28<00:56, 28.25s/it]\u001b[A"
     ]
    },
    {
     "name": "stdout",
     "output_type": "stream",
     "text": [
      "1.0173013124679176\n",
      "3 3 1.0373934196123904\n",
      "-----------------\n",
      "0.9910469865317729\n",
      "1.0519464869367916\n",
      "0.9746415537426368\n"
     ]
    },
    {
     "name": "stderr",
     "output_type": "stream",
     "text": [
      "\n",
      " 67%|████████████████████████████████████████████████████████                            | 2/3 [00:59<00:30, 30.15s/it]\u001b[A"
     ]
    },
    {
     "name": "stdout",
     "output_type": "stream",
     "text": [
      "1.0355175469370401\n",
      "3 4 1.0132881435370602\n",
      "-----------------\n",
      "1.0069707489616682\n",
      "1.0401162515595626\n",
      "1.013252972896533\n"
     ]
    },
    {
     "name": "stderr",
     "output_type": "stream",
     "text": [
      "\n",
      "100%|████████████████████████████████████████████████████████████████████████████████████| 3/3 [01:30<00:00, 30.02s/it]\u001b[A\n",
      " 75%|███████████████████████████████████████████████████████████████                     | 3/4 [03:51<01:20, 80.38s/it]\n",
      "  0%|                                                                                            | 0/3 [00:00<?, ?it/s]\u001b[A"
     ]
    },
    {
     "name": "stdout",
     "output_type": "stream",
     "text": [
      "1.0275550650504568\n",
      "3 5 1.021973759617055\n",
      "-----------------\n",
      "1.0029425119767597\n",
      "1.0194212924773896\n",
      "1.02383264279564\n"
     ]
    },
    {
     "name": "stderr",
     "output_type": "stream",
     "text": [
      "\n",
      " 67%|████████████████████████████████████████████████████████                            | 2/3 [00:33<00:16, 17.00s/it]\u001b[A"
     ]
    },
    {
     "name": "stdout",
     "output_type": "stream",
     "text": [
      "1.064548624539313\n",
      "4 4 1.0276862679472756\n",
      "-----------------\n",
      "1.0145503448275057\n",
      "1.0404912685378445\n",
      "1.0144779879201145\n"
     ]
    },
    {
     "name": "stderr",
     "output_type": "stream",
     "text": [
      "\n",
      "100%|████████████████████████████████████████████████████████████████████████████████████| 3/3 [01:08<00:00, 22.86s/it]\u001b[A\n",
      "100%|████████████████████████████████████████████████████████████████████████████████████| 4/4 [05:00<00:00, 75.09s/it]"
     ]
    },
    {
     "name": "stdout",
     "output_type": "stream",
     "text": [
      "1.0386971622833485\n",
      "4 5 1.0270541908922033\n",
      "-----------------\n"
     ]
    },
    {
     "name": "stderr",
     "output_type": "stream",
     "text": [
      "\n"
     ]
    }
   ],
   "source": [
    "n_comp_VAR, window_size_VAR = NPCA_param_search(prices, range(1, 5), range(3, 6), tscv, calc_VAR)"
   ]
  },
  {
   "cell_type": "code",
   "execution_count": 229,
   "id": "ce3f9449",
   "metadata": {},
   "outputs": [
    {
     "data": {
      "text/plain": [
       "(1, 5)"
      ]
     },
     "execution_count": 229,
     "metadata": {},
     "output_type": "execute_result"
    }
   ],
   "source": [
    "n_comp, window_size"
   ]
  },
  {
   "cell_type": "code",
   "execution_count": 357,
   "id": "23772f8c",
   "metadata": {},
   "outputs": [],
   "source": [
    "new_returns_VAR = make_dim_red(prices[:train_size], n_comp_VAR, window_size_VAR)"
   ]
  },
  {
   "cell_type": "code",
   "execution_count": 358,
   "id": "9468086e",
   "metadata": {},
   "outputs": [],
   "source": [
    "npca_w_VAR = return_weights(new_returns_VAR)"
   ]
  },
  {
   "cell_type": "code",
   "execution_count": 359,
   "id": "25f69f8b",
   "metadata": {},
   "outputs": [],
   "source": [
    "columns = returns_test.columns.to_numpy()\n",
    "npca_portfolio_return_VAR = count_portfolio_return(columns, npca_w_VAR, returns_test)"
   ]
  },
  {
   "cell_type": "code",
   "execution_count": 360,
   "id": "7f9f899c",
   "metadata": {},
   "outputs": [
    {
     "data": {
      "text/plain": [
       "1.1094458607687656"
      ]
     },
     "execution_count": 360,
     "metadata": {},
     "output_type": "execute_result"
    }
   ],
   "source": [
    "n_comp = 1\n",
    "pca = PCA(n_components=n_comp) \n",
    "pca.fit(returns_train.cov())\n",
    "pca_Sigma = pca.get_covariance()\n",
    "pca_Sigma\n",
    "mu = get_mu(returns_train)\n",
    "mu[:5], mu.shape\n",
    "pca_w = decrease_risk(mu, pca_Sigma)\n",
    "pca_w, np.sum(pca_w)\n",
    "columns = returns_train.columns.to_numpy()\n",
    "pca_portfolio_return = count_portfolio_return(columns, pca_w, returns_test)\n",
    "calc_VAR(pca_portfolio_return)"
   ]
  },
  {
   "cell_type": "code",
   "execution_count": 361,
   "id": "f5b13585",
   "metadata": {},
   "outputs": [
    {
     "data": {
      "image/png": "[encoded data removed]",
      "text/plain": [
       "<Figure size 2160x576 with 1 Axes>"
      ]
     },
     "metadata": {},
     "output_type": "display_data"
    }
   ],
   "source": [
    "plt.figure(figsize=(30, 8))\n",
    "\n",
    "plt.plot(returns_test.index, npca_portfolio_return_VAR, label='Портфель на датасете с NPCA с оптимизацией VAR')\n",
    "plt.plot(returns_test.index, pca_portfolio_return, label='Оптимизация матрицы ковариации с PCA')\n",
    "plt.legend()\n",
    "\n",
    "plt.show()"
   ]
  },
  {
   "cell_type": "code",
   "execution_count": 350,
   "id": "25897ae0",
   "metadata": {
    "scrolled": true
   },
   "outputs": [
    {
     "name": "stderr",
     "output_type": "stream",
     "text": [
      "  0%|                                                                                            | 0/4 [00:00<?, ?it/s]\n",
      "  0%|                                                                                            | 0/3 [00:00<?, ?it/s]\u001b[A"
     ]
    },
    {
     "name": "stdout",
     "output_type": "stream",
     "text": [
      "1.500621468432405\n",
      "1.6152744101856527\n",
      "1.50062149613815\n"
     ]
    },
    {
     "name": "stderr",
     "output_type": "stream",
     "text": [
      "\n",
      " 33%|████████████████████████████                                                        | 1/3 [00:27<00:55, 27.56s/it]\u001b[A"
     ]
    },
    {
     "name": "stdout",
     "output_type": "stream",
     "text": [
      "1.615274418369454\n",
      "1 3 1.5579479482814154\n",
      "-----------------\n",
      "1.4935148979718902\n",
      "1.000225498444726\n",
      "1.4935148800246727\n"
     ]
    },
    {
     "name": "stderr",
     "output_type": "stream",
     "text": [
      "\n",
      " 67%|████████████████████████████████████████████████████████                            | 2/3 [00:53<00:26, 26.87s/it]\u001b[A"
     ]
    },
    {
     "name": "stdout",
     "output_type": "stream",
     "text": [
      "1.0002255310116248\n",
      "1 4 1.2468702018632283\n",
      "-----------------\n",
      "1.3994417324119652\n",
      "1.5017319196752719\n",
      "1.3994417429334254\n"
     ]
    },
    {
     "name": "stderr",
     "output_type": "stream",
     "text": [
      "\n",
      "100%|████████████████████████████████████████████████████████████████████████████████████| 3/3 [01:19<00:00, 26.66s/it]\u001b[A\n",
      " 25%|█████████████████████                                                               | 1/4 [01:19<03:59, 79.99s/it]\n",
      "  0%|                                                                                            | 0/3 [00:00<?, ?it/s]\u001b[A"
     ]
    },
    {
     "name": "stdout",
     "output_type": "stream",
     "text": [
      "1.5017319121106683\n",
      "1 5 1.4505868267828326\n",
      "-----------------\n",
      "1.2986501091527154\n",
      "1.3282197552550234\n",
      "1.3581422204800997\n"
     ]
    },
    {
     "name": "stderr",
     "output_type": "stream",
     "text": [
      "\n",
      " 33%|████████████████████████████                                                        | 1/3 [00:30<01:01, 30.53s/it]\u001b[A"
     ]
    },
    {
     "name": "stdout",
     "output_type": "stream",
     "text": [
      "0.89610981774402\n",
      "2 3 1.2202804756579646\n",
      "-----------------\n",
      "0.9439359122405581\n",
      "1.2847818924925765\n",
      "1.0789803463401102\n"
     ]
    },
    {
     "name": "stderr",
     "output_type": "stream",
     "text": [
      "\n",
      " 67%|████████████████████████████████████████████████████████                            | 2/3 [01:04<00:32, 32.71s/it]\u001b[A"
     ]
    },
    {
     "name": "stdout",
     "output_type": "stream",
     "text": [
      "1.5531295808149952\n",
      "2 4 1.21520693297206\n",
      "-----------------\n",
      "1.3216284892481112\n",
      "1.2224166818319921\n",
      "1.4067941015914085\n"
     ]
    },
    {
     "name": "stderr",
     "output_type": "stream",
     "text": [
      "\n",
      "100%|████████████████████████████████████████████████████████████████████████████████████| 3/3 [01:36<00:00, 32.24s/it]\u001b[A\n",
      " 50%|██████████████████████████████████████████                                          | 2/4 [02:56<02:59, 89.83s/it]\n",
      "  0%|                                                                                            | 0/3 [00:00<?, ?it/s]\u001b[A"
     ]
    },
    {
     "name": "stdout",
     "output_type": "stream",
     "text": [
      "1.2366788323926985\n",
      "2 5 1.2968795262660526\n",
      "-----------------\n",
      "1.2117096239950584\n",
      "1.6197793573537205\n",
      "1.3417840323962769\n"
     ]
    },
    {
     "name": "stderr",
     "output_type": "stream",
     "text": [
      "\n",
      " 33%|████████████████████████████                                                        | 1/3 [00:35<01:11, 35.67s/it]\u001b[A"
     ]
    },
    {
     "name": "stdout",
     "output_type": "stream",
     "text": [
      "1.4175648364667937\n",
      "3 3 1.3977094625529625\n",
      "-----------------\n",
      "1.1753392083374272\n",
      "1.137396932758578\n",
      "1.144074189246286\n"
     ]
    },
    {
     "name": "stderr",
     "output_type": "stream",
     "text": [
      "\n",
      " 67%|████████████████████████████████████████████████████████                            | 2/3 [01:14<00:37, 37.62s/it]\u001b[A"
     ]
    },
    {
     "name": "stdout",
     "output_type": "stream",
     "text": [
      "1.3792128622342659\n",
      "3 4 1.2090057981441393\n",
      "-----------------\n",
      "1.2506869741101279\n",
      "1.2069722807053131\n",
      "1.2995945176623342\n"
     ]
    },
    {
     "name": "stderr",
     "output_type": "stream",
     "text": [
      "\n",
      "100%|████████████████████████████████████████████████████████████████████████████████████| 3/3 [01:55<00:00, 38.51s/it]\u001b[A\n",
      " 75%|██████████████████████████████████████████████████████████████▎                    | 3/4 [04:52<01:41, 101.57s/it]\n",
      "  0%|                                                                                            | 0/3 [00:00<?, ?it/s]\u001b[A"
     ]
    },
    {
     "name": "stdout",
     "output_type": "stream",
     "text": [
      "1.4503584954835267\n",
      "3 5 1.3019030669903255\n",
      "-----------------\n",
      "1.2204218708961931\n",
      "1.3836301593148335\n",
      "1.0984380461696104\n"
     ]
    },
    {
     "name": "stderr",
     "output_type": "stream",
     "text": [
      "\n",
      " 67%|████████████████████████████████████████████████████████                            | 2/3 [00:43<00:21, 21.58s/it]\u001b[A"
     ]
    },
    {
     "name": "stdout",
     "output_type": "stream",
     "text": [
      "1.5096116054095277\n",
      "4 4 1.303025420447541\n",
      "-----------------\n",
      "1.2516314599877405\n",
      "1.3234007958632237\n",
      "1.3031148007485918\n"
     ]
    },
    {
     "name": "stderr",
     "output_type": "stream",
     "text": [
      "\n",
      "100%|████████████████████████████████████████████████████████████████████████████████████| 3/3 [01:28<00:00, 29.37s/it]\u001b[A\n",
      "100%|████████████████████████████████████████████████████████████████████████████████████| 4/4 [06:20<00:00, 95.09s/it]"
     ]
    },
    {
     "name": "stdout",
     "output_type": "stream",
     "text": [
      "0.96968396669052\n",
      "4 5 1.211957755822519\n",
      "-----------------\n"
     ]
    },
    {
     "name": "stderr",
     "output_type": "stream",
     "text": [
      "\n"
     ]
    }
   ],
   "source": [
    "n_comp_sortine, window_size_sortine = NPCA_param_search(prices, range(1, 5), range(3, 6), tscv, sortino_ratio)"
   ]
  },
  {
   "cell_type": "code",
   "execution_count": 354,
   "id": "1c9e02af",
   "metadata": {},
   "outputs": [
    {
     "data": {
      "text/plain": [
       "(1, 3)"
      ]
     },
     "execution_count": 354,
     "metadata": {},
     "output_type": "execute_result"
    }
   ],
   "source": [
    "n_comp_sortine, window_size_sortine"
   ]
  },
  {
   "cell_type": "code",
   "execution_count": 362,
   "id": "907f0d93",
   "metadata": {},
   "outputs": [
    {
     "data": {
      "text/plain": [
       "Date\n",
       "2012-12-06    1.011243\n",
       "2012-12-07    1.013057\n",
       "2012-12-10    1.016004\n",
       "2012-12-11    1.022889\n",
       "2012-12-12    1.028516\n",
       "                ...   \n",
       "2017-12-22    3.464333\n",
       "2017-12-26    3.447762\n",
       "2017-12-27    3.444235\n",
       "2017-12-28    3.483505\n",
       "12/29/2017    3.465196\n",
       "Name: CDNS, Length: 1276, dtype: float64"
      ]
     },
     "execution_count": 362,
     "metadata": {},
     "output_type": "execute_result"
    }
   ],
   "source": [
    "new_returns_sortine = make_dim_red(prices[:train_size], n_comp_sortine, window_size_sortine)\n",
    "npca_w_sortine = return_weights(new_returns_sortine)\n",
    "columns = returns_test.columns.to_numpy()\n",
    "npca_portfolio_return_sortine = count_portfolio_return(columns, npca_w_sortine, returns_test)\n",
    "npca_portfolio_return_sortine"
   ]
  },
  {
   "cell_type": "code",
   "execution_count": 363,
   "id": "404e79cd",
   "metadata": {},
   "outputs": [
    {
     "data": {
      "image/png": "[encoded data removed]",
      "text/plain": [
       "<Figure size 2160x576 with 1 Axes>"
      ]
     },
     "metadata": {},
     "output_type": "display_data"
    }
   ],
   "source": [
    "plt.figure(figsize=(30, 8))\n",
    "\n",
    "plt.plot(returns_test.index, npca_portfolio_return_sortine, label='Портфель на датасете с NPCA с оптимизацией sortine')\n",
    "plt.plot(returns_test.index, pca_portfolio_return, label='Оптимизация матрицы ковариации с PCA')\n",
    "plt.legend()\n",
    "\n",
    "plt.show()"
   ]
  },
  {
   "cell_type": "code",
   "execution_count": 192,
   "id": "b0d6babf",
   "metadata": {},
   "outputs": [
    {
     "name": "stderr",
     "output_type": "stream",
     "text": [
      "  0%|                                                                                            | 0/4 [00:00<?, ?it/s]\n",
      "  0%|                                                                                            | 0/8 [00:00<?, ?it/s]\u001b[A"
     ]
    },
    {
     "name": "stdout",
     "output_type": "stream",
     "text": [
      "1.0527725935411303\n",
      "1.0233272679439094\n",
      "1.0527725935912757\n",
      "1.0233272677416523\n",
      "1.0527725930449083\n"
     ]
    },
    {
     "name": "stderr",
     "output_type": "stream",
     "text": [
      "\n",
      " 12%|██████████▌                                                                         | 1/8 [00:31<03:40, 31.54s/it]\u001b[A"
     ]
    },
    {
     "name": "stdout",
     "output_type": "stream",
     "text": [
      "1.0233272679574252\n",
      "1 3 1.0380499306367168\n",
      "-----------------\n",
      "1.0390569318041487\n",
      "1.0368707261039916\n",
      "1.0390569408997978\n",
      "1.036870727769484\n",
      "1.039056940862573\n"
     ]
    },
    {
     "name": "stderr",
     "output_type": "stream",
     "text": [
      "\n",
      " 25%|█████████████████████                                                               | 2/8 [01:04<03:14, 32.33s/it]\u001b[A"
     ]
    },
    {
     "name": "stdout",
     "output_type": "stream",
     "text": [
      "1.0368707235255437\n",
      "1 4 1.0379638318275899\n",
      "-----------------\n",
      "1.0558988966425347\n",
      "1.0291923035429869\n",
      "1.0558988943176204\n",
      "1.0291923035898374\n",
      "1.0558988971085348\n"
     ]
    },
    {
     "name": "stderr",
     "output_type": "stream",
     "text": [
      "\n",
      " 38%|███████████████████████████████▌                                                    | 3/8 [01:37<02:43, 32.70s/it]\u001b[A"
     ]
    },
    {
     "name": "stdout",
     "output_type": "stream",
     "text": [
      "1.0291923034698438\n",
      "1 5 1.0425455997785598\n",
      "-----------------\n",
      "1.0126267073900923\n",
      "1.0473188703919265\n",
      "1.0126267056245175\n",
      "1.0473188682157732\n",
      "1.0126267038586643\n"
     ]
    },
    {
     "name": "stderr",
     "output_type": "stream",
     "text": [
      "\n",
      " 50%|██████████████████████████████████████████                                          | 4/8 [02:07<02:06, 31.72s/it]\u001b[A"
     ]
    },
    {
     "name": "stdout",
     "output_type": "stream",
     "text": [
      "1.0473188699468576\n",
      "1 6 1.0299727875713052\n",
      "-----------------\n",
      "1.0614666238208381\n",
      "ARPACK error -1: No convergence (4101 iterations, 0/1 eigenvectors converged)\n",
      "1.0614666248746365\n",
      "ARPACK error -1: No convergence (4101 iterations, 0/1 eigenvectors converged)\n",
      "1.061466625024026\n"
     ]
    },
    {
     "name": "stderr",
     "output_type": "stream",
     "text": [
      "\n",
      " 62%|████████████████████████████████████████████████████▌                               | 5/8 [02:49<01:45, 35.30s/it]\u001b[A"
     ]
    },
    {
     "name": "stdout",
     "output_type": "stream",
     "text": [
      "ARPACK error -1: No convergence (4101 iterations, 0/1 eigenvectors converged)\n",
      "1 7 1.0614666245731668\n",
      "-----------------\n",
      "1.0178089463511568\n",
      "1.0525197858826647\n",
      "1.0178089447085217\n",
      "1.052519604697161\n",
      "1.0178089412665678\n"
     ]
    },
    {
     "name": "stderr",
     "output_type": "stream",
     "text": [
      "\n",
      " 75%|███████████████████████████████████████████████████████████████                     | 6/8 [03:17<01:05, 32.86s/it]\u001b[A"
     ]
    },
    {
     "name": "stdout",
     "output_type": "stream",
     "text": [
      "1.0525197759694678\n",
      "1 8 1.035164333145923\n",
      "-----------------\n",
      "1.0136871286346847\n",
      "1.053673834781551\n",
      "1.0136870685728865\n",
      "1.053673838914894\n",
      "1.0136870535677753\n"
     ]
    },
    {
     "name": "stderr",
     "output_type": "stream",
     "text": [
      "\n",
      " 88%|█████████████████████████████████████████████████████████████████████████▌          | 7/8 [03:44<00:31, 31.04s/it]\u001b[A"
     ]
    },
    {
     "name": "stdout",
     "output_type": "stream",
     "text": [
      "1.0536738415033036\n",
      "1 9 1.0336804609958492\n",
      "-----------------\n",
      "1.006323958722177\n",
      "1.0407899417313382\n",
      "1.0063240080513762\n",
      "1.040789924440558\n",
      "1.006324249090503\n"
     ]
    },
    {
     "name": "stderr",
     "output_type": "stream",
     "text": [
      "\n",
      "100%|████████████████████████████████████████████████████████████████████████████████████| 8/8 [04:10<00:00, 31.27s/it]\u001b[A\n",
      " 25%|████████████████████▊                                                              | 1/4 [04:10<12:30, 250.20s/it]\n",
      "  0%|                                                                                            | 0/8 [00:00<?, ?it/s]\u001b[A"
     ]
    },
    {
     "name": "stdout",
     "output_type": "stream",
     "text": [
      "1.040789937216092\n",
      "1 10 1.0235570032086743\n",
      "-----------------\n",
      "1.01015322906245\n",
      "1.029749718832344\n",
      "1.097670738799864\n",
      "1.0230239070061626\n",
      "1.008861189145893\n"
     ]
    },
    {
     "name": "stderr",
     "output_type": "stream",
     "text": [
      "\n",
      " 12%|██████████▌                                                                         | 1/8 [00:38<04:28, 38.33s/it]\u001b[A"
     ]
    },
    {
     "name": "stdout",
     "output_type": "stream",
     "text": [
      "1.0236463028321052\n",
      "2 3 1.03218418094647\n",
      "-----------------\n",
      "1.026142819507471\n",
      "1.0351239248799824\n",
      "1.0341743730586683\n",
      "1.0444454815878002\n",
      "0.9984489397867804\n"
     ]
    },
    {
     "name": "stderr",
     "output_type": "stream",
     "text": [
      "\n",
      " 25%|█████████████████████                                                               | 2/8 [01:19<04:01, 40.22s/it]\u001b[A"
     ]
    },
    {
     "name": "stdout",
     "output_type": "stream",
     "text": [
      "1.045259897226484\n",
      "2 4 1.0305992393411978\n",
      "-----------------\n",
      "0.99570409308122\n",
      "1.0472037032525272\n",
      "1.0143885194295008\n",
      "1.0304081889744958\n",
      "0.9757095242496793\n"
     ]
    },
    {
     "name": "stderr",
     "output_type": "stream",
     "text": [
      "\n",
      " 38%|███████████████████████████████▌                                                    | 3/8 [01:59<03:19, 39.93s/it]\u001b[A"
     ]
    },
    {
     "name": "stdout",
     "output_type": "stream",
     "text": [
      "1.0297117339953477\n",
      "2 5 1.0155209604971285\n",
      "-----------------\n",
      "1.081698293813556\n",
      "1.074697697125715\n",
      "1.0326230809578567\n",
      "1.07336657764283\n",
      "1.076274367781807\n"
     ]
    },
    {
     "name": "stderr",
     "output_type": "stream",
     "text": [
      "\n",
      " 50%|██████████████████████████████████████████                                          | 4/8 [02:35<02:33, 38.30s/it]\u001b[A"
     ]
    },
    {
     "name": "stdout",
     "output_type": "stream",
     "text": [
      "1.0757433669964147\n",
      "2 6 1.0690672307196964\n",
      "-----------------\n",
      "1.0247681314504304\n",
      "ARPACK error -1: No convergence (4101 iterations, 0/1 eigenvectors converged)\n",
      "1.0354948637961718\n",
      "ARPACK error -1: No convergence (4101 iterations, 0/1 eigenvectors converged)\n",
      "1.0269637317611784\n"
     ]
    },
    {
     "name": "stderr",
     "output_type": "stream",
     "text": [
      "\n",
      " 62%|████████████████████████████████████████████████████▌                               | 5/8 [03:21<02:03, 41.14s/it]\u001b[A"
     ]
    },
    {
     "name": "stdout",
     "output_type": "stream",
     "text": [
      "ARPACK error -1: No convergence (4101 iterations, 0/1 eigenvectors converged)\n",
      "2 7 1.0290755756692602\n",
      "-----------------\n",
      "1.0376856954584612\n",
      "1.022011408873159\n",
      "1.0544386119501792\n",
      "1.0194482962681437\n",
      "1.0552872832267794\n"
     ]
    },
    {
     "name": "stderr",
     "output_type": "stream",
     "text": [
      "\n",
      " 75%|███████████████████████████████████████████████████████████████                     | 6/8 [03:53<01:16, 38.12s/it]\u001b[A"
     ]
    },
    {
     "name": "stdout",
     "output_type": "stream",
     "text": [
      "1.0172569235312914\n",
      "2 8 1.0343547032180023\n",
      "-----------------\n",
      "1.0291177821800344\n",
      "1.0596695349798086\n",
      "0.9962775182951285\n",
      "1.0512093425842552\n",
      "0.9674139911635793\n"
     ]
    },
    {
     "name": "stderr",
     "output_type": "stream",
     "text": [
      "\n",
      " 88%|█████████████████████████████████████████████████████████████████████████▌          | 7/8 [04:24<00:35, 35.81s/it]\u001b[A"
     ]
    },
    {
     "name": "stdout",
     "output_type": "stream",
     "text": [
      "1.0418471468635018\n",
      "2 9 1.0242558860110513\n",
      "-----------------\n",
      "1.0340024728609112\n",
      "1.027812692086095\n",
      "1.0448637852195093\n",
      "0.9982966334062282\n",
      "1.0604987251745848\n"
     ]
    },
    {
     "name": "stderr",
     "output_type": "stream",
     "text": [
      "\n",
      "100%|████████████████████████████████████████████████████████████████████████████████████| 8/8 [04:54<00:00, 36.76s/it]\u001b[A\n",
      " 50%|█████████████████████████████████████████▌                                         | 2/4 [09:04<09:12, 276.01s/it]\n",
      "  0%|                                                                                            | 0/8 [00:00<?, ?it/s]\u001b[A"
     ]
    },
    {
     "name": "stdout",
     "output_type": "stream",
     "text": [
      "1.0383564523626563\n",
      "2 10 1.0339717935183306\n",
      "-----------------\n",
      "1.0342777815431488\n",
      "1.0326505424381902\n",
      "1.0769327031914528\n",
      "1.026018025837236\n",
      "1.0026806281880736\n"
     ]
    },
    {
     "name": "stderr",
     "output_type": "stream",
     "text": [
      "\n",
      " 12%|██████████▌                                                                         | 1/8 [00:43<05:04, 43.53s/it]\u001b[A"
     ]
    },
    {
     "name": "stdout",
     "output_type": "stream",
     "text": [
      "1.0407843349358707\n",
      "3 3 1.0355573360223287\n",
      "-----------------\n",
      "1.0137707763182329\n",
      "1.0465198185675322\n",
      "1.004753555216286\n",
      "1.041344191437476\n",
      "0.9702729493518234\n"
     ]
    },
    {
     "name": "stderr",
     "output_type": "stream",
     "text": [
      "\n",
      " 25%|█████████████████████                                                               | 2/8 [01:31<04:38, 46.39s/it]\u001b[A"
     ]
    },
    {
     "name": "stdout",
     "output_type": "stream",
     "text": [
      "1.046297747063937\n",
      "3 4 1.020493172992548\n",
      "-----------------\n",
      "1.0148571403398887\n",
      "1.0575493090134611\n",
      "1.0224988169350346\n",
      "1.053771679345671\n",
      "1.0050554479203475\n"
     ]
    },
    {
     "name": "stderr",
     "output_type": "stream",
     "text": [
      "\n",
      " 38%|███████████████████████████████▌                                                    | 3/8 [02:18<03:51, 46.38s/it]\u001b[A"
     ]
    },
    {
     "name": "stdout",
     "output_type": "stream",
     "text": [
      "1.0268938214922736\n",
      "3 5 1.0301043691744463\n",
      "-----------------\n",
      "0.9883763883524455\n",
      "1.0581083446951245\n",
      "1.0187229993868137\n",
      "1.0574791428393084\n",
      "1.0465598202473148\n"
     ]
    },
    {
     "name": "stderr",
     "output_type": "stream",
     "text": [
      "\n",
      " 50%|██████████████████████████████████████████                                          | 4/8 [02:59<02:57, 44.47s/it]\u001b[A"
     ]
    },
    {
     "name": "stdout",
     "output_type": "stream",
     "text": [
      "1.0722824534433908\n",
      "3 6 1.040254858160733\n",
      "-----------------\n",
      "0.9965500963767859\n",
      "ARPACK error -1: No convergence (4101 iterations, 0/1 eigenvectors converged)\n",
      "0.9950157253084263\n",
      "ARPACK error -1: No convergence (4101 iterations, 0/1 eigenvectors converged)\n",
      "0.9954558856008583\n"
     ]
    },
    {
     "name": "stderr",
     "output_type": "stream",
     "text": [
      "\n",
      " 62%|████████████████████████████████████████████████████▌                               | 5/8 [03:51<02:21, 47.09s/it]\u001b[A"
     ]
    },
    {
     "name": "stdout",
     "output_type": "stream",
     "text": [
      "ARPACK error -1: No convergence (4101 iterations, 0/1 eigenvectors converged)\n",
      "3 7 0.9956739024286901\n",
      "-----------------\n",
      "1.039281778504818\n",
      "1.0569523880770397\n",
      "1.015240313274444\n",
      "1.0482536156844413\n",
      "1.035975490723017\n"
     ]
    },
    {
     "name": "stderr",
     "output_type": "stream",
     "text": [
      "\n",
      " 75%|███████████████████████████████████████████████████████████████                     | 6/8 [04:28<01:27, 43.78s/it]\u001b[A"
     ]
    },
    {
     "name": "stdout",
     "output_type": "stream",
     "text": [
      "1.0548622048680134\n",
      "3 8 1.0417609651886288\n",
      "-----------------\n",
      "1.037474427324799\n",
      "1.0779014682014252\n",
      "1.0445920965056175\n",
      "1.0666278750577707\n",
      "1.0590058648959042\n"
     ]
    },
    {
     "name": "stderr",
     "output_type": "stream",
     "text": [
      "\n",
      " 88%|█████████████████████████████████████████████████████████████████████████▌          | 7/8 [05:04<00:41, 41.16s/it]\u001b[A"
     ]
    },
    {
     "name": "stdout",
     "output_type": "stream",
     "text": [
      "1.0640332753281336\n",
      "3 9 1.0582725012189418\n",
      "-----------------\n",
      "1.0361634836239095\n",
      "1.0401339819174942\n",
      "1.0358155608087471\n",
      "1.00678298015305\n",
      "1.0140661523808912\n"
     ]
    },
    {
     "name": "stderr",
     "output_type": "stream",
     "text": [
      "\n",
      "100%|████████████████████████████████████████████████████████████████████████████████████| 8/8 [05:38<00:00, 42.35s/it]\u001b[A\n",
      " 75%|██████████████████████████████████████████████████████████████▎                    | 3/4 [14:43<05:04, 304.68s/it]\n",
      "  0%|                                                                                            | 0/8 [00:00<?, ?it/s]\u001b[A"
     ]
    },
    {
     "name": "stdout",
     "output_type": "stream",
     "text": [
      "1.031852366958655\n",
      "3 10 1.027469087640458\n",
      "-----------------\n",
      "1.0035750007746014\n",
      "1.0358358510479269\n",
      "1.0082829898540133\n",
      "1.0593711940055905\n",
      "0.9946184030767174\n"
     ]
    },
    {
     "name": "stderr",
     "output_type": "stream",
     "text": [
      "\n",
      " 25%|█████████████████████                                                               | 2/8 [00:51<02:35, 25.85s/it]\u001b[A"
     ]
    },
    {
     "name": "stdout",
     "output_type": "stream",
     "text": [
      "1.0131979200724717\n",
      "4 4 1.0191468931385537\n",
      "-----------------\n",
      "1.0443772966080944\n",
      "1.0525278518649575\n",
      "0.9836895769601455\n",
      "1.0549829400386808\n",
      "0.9920648195079552\n"
     ]
    },
    {
     "name": "stderr",
     "output_type": "stream",
     "text": [
      "\n",
      " 38%|███████████████████████████████▌                                                    | 3/8 [01:44<03:05, 37.06s/it]\u001b[A"
     ]
    },
    {
     "name": "stdout",
     "output_type": "stream",
     "text": [
      "1.0434352273010348\n",
      "4 5 1.0285129520468113\n",
      "-----------------\n",
      "1.0364792073114442\n",
      "1.063427063599395\n",
      "1.0292583819804517\n",
      "1.0583403589289482\n",
      "1.027675034493189\n"
     ]
    },
    {
     "name": "stderr",
     "output_type": "stream",
     "text": [
      "\n",
      " 50%|██████████████████████████████████████████                                          | 4/8 [02:32<02:45, 41.30s/it]\u001b[A"
     ]
    },
    {
     "name": "stdout",
     "output_type": "stream",
     "text": [
      "1.0506779557472068\n",
      "4 6 1.0443096670101057\n",
      "-----------------\n",
      "1.0044847984566703\n",
      "ARPACK error -1: No convergence (4101 iterations, 0/1 eigenvectors converged)\n",
      "1.016816818798229\n",
      "ARPACK error -1: No convergence (4101 iterations, 0/1 eigenvectors converged)\n",
      "0.9969457230011413\n"
     ]
    },
    {
     "name": "stderr",
     "output_type": "stream",
     "text": [
      "\n",
      " 62%|████████████████████████████████████████████████████▌                               | 5/8 [03:31<02:21, 47.16s/it]\u001b[A"
     ]
    },
    {
     "name": "stdout",
     "output_type": "stream",
     "text": [
      "ARPACK error -1: No convergence (4101 iterations, 0/1 eigenvectors converged)\n",
      "4 7 1.0060824467520135\n",
      "-----------------\n",
      "1.018663990960429\n",
      "1.0477041875767612\n",
      "1.0223003322691249\n",
      "1.0318802357068408\n",
      "1.009026186662771\n"
     ]
    },
    {
     "name": "stderr",
     "output_type": "stream",
     "text": [
      "\n",
      " 75%|███████████████████████████████████████████████████████████████                     | 6/8 [04:13<01:31, 45.68s/it]\u001b[A"
     ]
    },
    {
     "name": "stdout",
     "output_type": "stream",
     "text": [
      "1.0459152222942876\n",
      "4 8 1.0292483592450357\n",
      "-----------------\n"
     ]
    },
    {
     "name": "stderr",
     "output_type": "stream",
     "text": [
      "R[write to console]: Error in if (abs(obj - obj_old)/obj < em_tol) { : \n",
      "  missing value where TRUE/FALSE needed\n",
      "\n",
      "R[write to console]: In addition: \n",
      "R[write to console]: Warning message:\n",
      "\n",
      "R[write to console]: In sqrt(t(w) %*% w - t(wo) %*% wo) :\n",
      "R[write to console]:  NaNs produced\n",
      "\n"
     ]
    },
    {
     "name": "stdout",
     "output_type": "stream",
     "text": [
      "Error in if (abs(obj - obj_old)/obj < em_tol) { : \n",
      "  missing value where TRUE/FALSE needed\n",
      "\n",
      "1.0651927278644995\n"
     ]
    },
    {
     "name": "stderr",
     "output_type": "stream",
     "text": [
      "R[write to console]: Error in if (abs(obj - obj_old)/obj < em_tol) { : \n",
      "  missing value where TRUE/FALSE needed\n",
      "\n"
     ]
    },
    {
     "name": "stdout",
     "output_type": "stream",
     "text": [
      "Error in if (abs(obj - obj_old)/obj < em_tol) { : \n",
      "  missing value where TRUE/FALSE needed\n",
      "\n",
      "1.0663352839012563\n"
     ]
    },
    {
     "name": "stderr",
     "output_type": "stream",
     "text": [
      "R[write to console]: Error in if (abs(obj - obj_old)/obj < em_tol) { : \n",
      "  missing value where TRUE/FALSE needed\n",
      "\n",
      "R[write to console]: In addition: \n",
      "R[write to console]: Warning message:\n",
      "\n",
      "R[write to console]: In sqrt(t(w) %*% w - t(wo) %*% wo) :\n",
      "R[write to console]:  NaNs produced\n",
      "\n"
     ]
    },
    {
     "name": "stdout",
     "output_type": "stream",
     "text": [
      "Error in if (abs(obj - obj_old)/obj < em_tol) { : \n",
      "  missing value where TRUE/FALSE needed\n",
      "\n"
     ]
    },
    {
     "name": "stderr",
     "output_type": "stream",
     "text": [
      "\n",
      " 88%|█████████████████████████████████████████████████████████████████████████▌          | 7/8 [04:50<00:42, 42.85s/it]\u001b[A"
     ]
    },
    {
     "name": "stdout",
     "output_type": "stream",
     "text": [
      "1.0702360933232675\n",
      "4 9 1.0672547016963412\n",
      "-----------------\n",
      "1.027122349517084\n",
      "1.0189242444901112\n",
      "1.021700611387927\n",
      "1.0233317744126127\n",
      "1.0137618040719796\n"
     ]
    },
    {
     "name": "stderr",
     "output_type": "stream",
     "text": [
      "\n",
      "100%|████████████████████████████████████████████████████████████████████████████████████| 8/8 [05:28<00:00, 41.10s/it]\u001b[A\n",
      "100%|███████████████████████████████████████████████████████████████████████████████████| 4/4 [20:11<00:00, 302.97s/it]"
     ]
    },
    {
     "name": "stdout",
     "output_type": "stream",
     "text": [
      "1.008394064503523\n",
      "4 10 1.0188724747305395\n",
      "-----------------\n"
     ]
    },
    {
     "name": "stderr",
     "output_type": "stream",
     "text": [
      "\n"
     ]
    }
   ],
   "source": [
    "n_comp, window_size = NPCA_param_search(prices, range(1, 5), range(3, 11), tscv, calc_VAR, num_iteration=3)"
   ]
  },
  {
   "cell_type": "code",
   "execution_count": 193,
   "id": "7ecea374",
   "metadata": {},
   "outputs": [
    {
     "data": {
      "text/plain": [
       "(2, 6)"
      ]
     },
     "execution_count": 193,
     "metadata": {},
     "output_type": "execute_result"
    }
   ],
   "source": [
    "n_comp, window_size"
   ]
  },
  {
   "cell_type": "code",
   "execution_count": 13,
   "id": "842ae3a4",
   "metadata": {},
   "outputs": [],
   "source": [
    "new_returns = make_dim_red(prices[:train_size], 2, 6)"
   ]
  },
  {
   "cell_type": "code",
   "execution_count": 14,
   "id": "fe6bdf3c",
   "metadata": {},
   "outputs": [
    {
     "ename": "ArpackNoConvergence",
     "evalue": "ARPACK error -1: No convergence (4101 iterations, 0/1 eigenvectors converged)",
     "output_type": "error",
     "traceback": [
      "\u001b[1;31m---------------------------------------------------------------------------\u001b[0m",
      "\u001b[1;31mArpackNoConvergence\u001b[0m                       Traceback (most recent call last)",
      "\u001b[1;32mC:\\Users\\Public\\Anaconda3\\lib\\site-packages\\cvxpy\\utilities\\eigvals.py\u001b[0m in \u001b[0;36mis_psd_within_tol\u001b[1;34m(A, tol)\u001b[0m\n\u001b[0;32m     51\u001b[0m     \u001b[1;32mtry\u001b[0m\u001b[1;33m:\u001b[0m\u001b[1;33m\u001b[0m\u001b[1;33m\u001b[0m\u001b[0m\n\u001b[1;32m---> 52\u001b[1;33m         \u001b[0mev\u001b[0m \u001b[1;33m=\u001b[0m \u001b[0mSA_eigsh\u001b[0m\u001b[1;33m(\u001b[0m\u001b[1;33m-\u001b[0m\u001b[0mtol\u001b[0m\u001b[1;33m)\u001b[0m  \u001b[1;31m# might return np.NaN, or raise exception\u001b[0m\u001b[1;33m\u001b[0m\u001b[1;33m\u001b[0m\u001b[0m\n\u001b[0m\u001b[0;32m     53\u001b[0m     \u001b[1;32mfinally\u001b[0m\u001b[1;33m:\u001b[0m\u001b[1;33m\u001b[0m\u001b[1;33m\u001b[0m\u001b[0m\n",
      "\u001b[1;32mC:\\Users\\Public\\Anaconda3\\lib\\site-packages\\cvxpy\\utilities\\eigvals.py\u001b[0m in \u001b[0;36mSA_eigsh\u001b[1;34m(sigma)\u001b[0m\n\u001b[0;32m     35\u001b[0m     \u001b[1;32mdef\u001b[0m \u001b[0mSA_eigsh\u001b[0m\u001b[1;33m(\u001b[0m\u001b[0msigma\u001b[0m\u001b[1;33m)\u001b[0m\u001b[1;33m:\u001b[0m\u001b[1;33m\u001b[0m\u001b[1;33m\u001b[0m\u001b[0m\n\u001b[1;32m---> 36\u001b[1;33m         \u001b[1;32mreturn\u001b[0m \u001b[0msparla\u001b[0m\u001b[1;33m.\u001b[0m\u001b[0meigsh\u001b[0m\u001b[1;33m(\u001b[0m\u001b[0mA\u001b[0m\u001b[1;33m,\u001b[0m \u001b[0mk\u001b[0m\u001b[1;33m=\u001b[0m\u001b[1;36m1\u001b[0m\u001b[1;33m,\u001b[0m \u001b[0msigma\u001b[0m\u001b[1;33m=\u001b[0m\u001b[0msigma\u001b[0m\u001b[1;33m,\u001b[0m \u001b[0mwhich\u001b[0m\u001b[1;33m=\u001b[0m\u001b[1;34m'SA'\u001b[0m\u001b[1;33m,\u001b[0m \u001b[0mreturn_eigenvectors\u001b[0m\u001b[1;33m=\u001b[0m\u001b[1;32mFalse\u001b[0m\u001b[1;33m)\u001b[0m\u001b[1;33m\u001b[0m\u001b[1;33m\u001b[0m\u001b[0m\n\u001b[0m\u001b[0;32m     37\u001b[0m         \u001b[1;31m# Returns the eigenvalue w[i] of A where 1/(w[i] - sigma) is minimized.\u001b[0m\u001b[1;33m\u001b[0m\u001b[1;33m\u001b[0m\u001b[1;33m\u001b[0m\u001b[0m\n",
      "\u001b[1;32mC:\\Users\\Public\\Anaconda3\\lib\\site-packages\\scipy\\sparse\\linalg\\eigen\\arpack\\arpack.py\u001b[0m in \u001b[0;36meigsh\u001b[1;34m(A, k, M, sigma, which, v0, ncv, maxiter, tol, return_eigenvectors, Minv, OPinv, mode)\u001b[0m\n\u001b[0;32m   1689\u001b[0m         \u001b[1;32mwhile\u001b[0m \u001b[1;32mnot\u001b[0m \u001b[0mparams\u001b[0m\u001b[1;33m.\u001b[0m\u001b[0mconverged\u001b[0m\u001b[1;33m:\u001b[0m\u001b[1;33m\u001b[0m\u001b[1;33m\u001b[0m\u001b[0m\n\u001b[1;32m-> 1690\u001b[1;33m             \u001b[0mparams\u001b[0m\u001b[1;33m.\u001b[0m\u001b[0miterate\u001b[0m\u001b[1;33m(\u001b[0m\u001b[1;33m)\u001b[0m\u001b[1;33m\u001b[0m\u001b[1;33m\u001b[0m\u001b[0m\n\u001b[0m\u001b[0;32m   1691\u001b[0m \u001b[1;33m\u001b[0m\u001b[0m\n",
      "\u001b[1;32mC:\\Users\\Public\\Anaconda3\\lib\\site-packages\\scipy\\sparse\\linalg\\eigen\\arpack\\arpack.py\u001b[0m in \u001b[0;36miterate\u001b[1;34m(self)\u001b[0m\n\u001b[0;32m    569\u001b[0m             \u001b[1;32melif\u001b[0m \u001b[0mself\u001b[0m\u001b[1;33m.\u001b[0m\u001b[0minfo\u001b[0m \u001b[1;33m==\u001b[0m \u001b[1;36m1\u001b[0m\u001b[1;33m:\u001b[0m\u001b[1;33m\u001b[0m\u001b[1;33m\u001b[0m\u001b[0m\n\u001b[1;32m--> 570\u001b[1;33m                 \u001b[0mself\u001b[0m\u001b[1;33m.\u001b[0m\u001b[0m_raise_no_convergence\u001b[0m\u001b[1;33m(\u001b[0m\u001b[1;33m)\u001b[0m\u001b[1;33m\u001b[0m\u001b[1;33m\u001b[0m\u001b[0m\n\u001b[0m\u001b[0;32m    571\u001b[0m             \u001b[1;32melse\u001b[0m\u001b[1;33m:\u001b[0m\u001b[1;33m\u001b[0m\u001b[1;33m\u001b[0m\u001b[0m\n",
      "\u001b[1;32mC:\\Users\\Public\\Anaconda3\\lib\\site-packages\\scipy\\sparse\\linalg\\eigen\\arpack\\arpack.py\u001b[0m in \u001b[0;36m_raise_no_convergence\u001b[1;34m(self)\u001b[0m\n\u001b[0;32m    375\u001b[0m             \u001b[0mk_ok\u001b[0m \u001b[1;33m=\u001b[0m \u001b[1;36m0\u001b[0m\u001b[1;33m\u001b[0m\u001b[1;33m\u001b[0m\u001b[0m\n\u001b[1;32m--> 376\u001b[1;33m         \u001b[1;32mraise\u001b[0m \u001b[0mArpackNoConvergence\u001b[0m\u001b[1;33m(\u001b[0m\u001b[0mmsg\u001b[0m \u001b[1;33m%\u001b[0m \u001b[1;33m(\u001b[0m\u001b[0mnum_iter\u001b[0m\u001b[1;33m,\u001b[0m \u001b[0mk_ok\u001b[0m\u001b[1;33m,\u001b[0m \u001b[0mself\u001b[0m\u001b[1;33m.\u001b[0m\u001b[0mk\u001b[0m\u001b[1;33m)\u001b[0m\u001b[1;33m,\u001b[0m \u001b[0mev\u001b[0m\u001b[1;33m,\u001b[0m \u001b[0mvec\u001b[0m\u001b[1;33m)\u001b[0m\u001b[1;33m\u001b[0m\u001b[1;33m\u001b[0m\u001b[0m\n\u001b[0m\u001b[0;32m    377\u001b[0m \u001b[1;33m\u001b[0m\u001b[0m\n",
      "\u001b[1;31mArpackNoConvergence\u001b[0m: ARPACK error -1: No convergence (4101 iterations, 0/1 eigenvectors converged)",
      "\nDuring handling of the above exception, another exception occurred:\n",
      "\u001b[1;31mArpackNoConvergence\u001b[0m                       Traceback (most recent call last)",
      "\u001b[1;32m<ipython-input-14-640e62d23bd8>\u001b[0m in \u001b[0;36m<module>\u001b[1;34m\u001b[0m\n\u001b[1;32m----> 1\u001b[1;33m \u001b[0mnpca_w\u001b[0m \u001b[1;33m=\u001b[0m \u001b[0mreturn_weights\u001b[0m\u001b[1;33m(\u001b[0m\u001b[0mnew_returns\u001b[0m\u001b[1;33m)\u001b[0m\u001b[1;33m\u001b[0m\u001b[1;33m\u001b[0m\u001b[0m\n\u001b[0m",
      "\u001b[1;32m<ipython-input-3-307ea867180f>\u001b[0m in \u001b[0;36mreturn_weights\u001b[1;34m(df, R)\u001b[0m\n\u001b[0;32m     30\u001b[0m     \u001b[0mSigma\u001b[0m \u001b[1;33m=\u001b[0m \u001b[0mdf_sorted\u001b[0m\u001b[1;33m[\u001b[0m\u001b[0mdf_sorted\u001b[0m\u001b[1;33m.\u001b[0m\u001b[0mcolumns\u001b[0m\u001b[1;33m]\u001b[0m\u001b[1;33m.\u001b[0m\u001b[0mcov\u001b[0m\u001b[1;33m(\u001b[0m\u001b[1;33m)\u001b[0m\u001b[1;33m\u001b[0m\u001b[1;33m\u001b[0m\u001b[0m\n\u001b[0;32m     31\u001b[0m \u001b[1;33m\u001b[0m\u001b[0m\n\u001b[1;32m---> 32\u001b[1;33m     \u001b[0mw\u001b[0m \u001b[1;33m=\u001b[0m \u001b[0mdecrease_risk\u001b[0m\u001b[1;33m(\u001b[0m\u001b[0mmu\u001b[0m\u001b[1;33m,\u001b[0m \u001b[0mSigma\u001b[0m\u001b[1;33m,\u001b[0m \u001b[0mR\u001b[0m\u001b[1;33m)\u001b[0m\u001b[1;33m\u001b[0m\u001b[1;33m\u001b[0m\u001b[0m\n\u001b[0m\u001b[0;32m     33\u001b[0m     \u001b[1;32mreturn\u001b[0m \u001b[0mw\u001b[0m\u001b[1;33m\u001b[0m\u001b[1;33m\u001b[0m\u001b[0m\n\u001b[0;32m     34\u001b[0m \u001b[1;33m\u001b[0m\u001b[0m\n",
      "\u001b[1;32m<ipython-input-3-307ea867180f>\u001b[0m in \u001b[0;36mdecrease_risk\u001b[1;34m(mu, Sigma, R)\u001b[0m\n\u001b[0;32m     11\u001b[0m \u001b[1;33m\u001b[0m\u001b[0m\n\u001b[0;32m     12\u001b[0m     \u001b[0mproblem\u001b[0m \u001b[1;33m=\u001b[0m \u001b[0mcvx\u001b[0m\u001b[1;33m.\u001b[0m\u001b[0mProblem\u001b[0m\u001b[1;33m(\u001b[0m\u001b[0mobj\u001b[0m\u001b[1;33m,\u001b[0m \u001b[0mconstraints\u001b[0m\u001b[1;33m=\u001b[0m\u001b[0mconstraints\u001b[0m\u001b[1;33m)\u001b[0m\u001b[1;33m\u001b[0m\u001b[1;33m\u001b[0m\u001b[0m\n\u001b[1;32m---> 13\u001b[1;33m     \u001b[0mresult\u001b[0m \u001b[1;33m=\u001b[0m \u001b[0mproblem\u001b[0m\u001b[1;33m.\u001b[0m\u001b[0msolve\u001b[0m\u001b[1;33m(\u001b[0m\u001b[0mverbose\u001b[0m\u001b[1;33m=\u001b[0m\u001b[1;32mFalse\u001b[0m\u001b[1;33m,\u001b[0m \u001b[0msolver\u001b[0m\u001b[1;33m=\u001b[0m\u001b[1;34m\"SCS\"\u001b[0m\u001b[1;33m)\u001b[0m\u001b[1;33m\u001b[0m\u001b[1;33m\u001b[0m\u001b[0m\n\u001b[0m\u001b[0;32m     14\u001b[0m \u001b[1;33m\u001b[0m\u001b[0m\n\u001b[0;32m     15\u001b[0m     \u001b[0mopt_weights\u001b[0m \u001b[1;33m=\u001b[0m \u001b[0mw\u001b[0m\u001b[1;33m.\u001b[0m\u001b[0mvalue\u001b[0m\u001b[1;33m\u001b[0m\u001b[1;33m\u001b[0m\u001b[0m\n",
      "\u001b[1;32mC:\\Users\\Public\\Anaconda3\\lib\\site-packages\\cvxpy\\problems\\problem.py\u001b[0m in \u001b[0;36msolve\u001b[1;34m(self, *args, **kwargs)\u001b[0m\n\u001b[0;32m    471\u001b[0m         \u001b[1;32melse\u001b[0m\u001b[1;33m:\u001b[0m\u001b[1;33m\u001b[0m\u001b[1;33m\u001b[0m\u001b[0m\n\u001b[0;32m    472\u001b[0m             \u001b[0msolve_func\u001b[0m \u001b[1;33m=\u001b[0m \u001b[0mProblem\u001b[0m\u001b[1;33m.\u001b[0m\u001b[0m_solve\u001b[0m\u001b[1;33m\u001b[0m\u001b[1;33m\u001b[0m\u001b[0m\n\u001b[1;32m--> 473\u001b[1;33m         \u001b[1;32mreturn\u001b[0m \u001b[0msolve_func\u001b[0m\u001b[1;33m(\u001b[0m\u001b[0mself\u001b[0m\u001b[1;33m,\u001b[0m \u001b[1;33m*\u001b[0m\u001b[0margs\u001b[0m\u001b[1;33m,\u001b[0m \u001b[1;33m**\u001b[0m\u001b[0mkwargs\u001b[0m\u001b[1;33m)\u001b[0m\u001b[1;33m\u001b[0m\u001b[1;33m\u001b[0m\u001b[0m\n\u001b[0m\u001b[0;32m    474\u001b[0m \u001b[1;33m\u001b[0m\u001b[0m\n\u001b[0;32m    475\u001b[0m     \u001b[1;33m@\u001b[0m\u001b[0mclassmethod\u001b[0m\u001b[1;33m\u001b[0m\u001b[1;33m\u001b[0m\u001b[0m\n",
      "\u001b[1;32mC:\\Users\\Public\\Anaconda3\\lib\\site-packages\\cvxpy\\problems\\problem.py\u001b[0m in \u001b[0;36m_solve\u001b[1;34m(self, solver, warm_start, verbose, gp, qcp, requires_grad, enforce_dpp, **kwargs)\u001b[0m\n\u001b[0;32m    964\u001b[0m                 \u001b[1;32mreturn\u001b[0m \u001b[0mself\u001b[0m\u001b[1;33m.\u001b[0m\u001b[0mvalue\u001b[0m\u001b[1;33m\u001b[0m\u001b[1;33m\u001b[0m\u001b[0m\n\u001b[0;32m    965\u001b[0m \u001b[1;33m\u001b[0m\u001b[0m\n\u001b[1;32m--> 966\u001b[1;33m         data, solving_chain, inverse_data = self.get_problem_data(\n\u001b[0m\u001b[0;32m    967\u001b[0m             solver, gp, enforce_dpp, verbose)\n\u001b[0;32m    968\u001b[0m \u001b[1;33m\u001b[0m\u001b[0m\n",
      "\u001b[1;32mC:\\Users\\Public\\Anaconda3\\lib\\site-packages\\cvxpy\\problems\\problem.py\u001b[0m in \u001b[0;36mget_problem_data\u001b[1;34m(self, solver, gp, enforce_dpp, verbose)\u001b[0m\n\u001b[0;32m    579\u001b[0m         \u001b[1;32mif\u001b[0m \u001b[0mkey\u001b[0m \u001b[1;33m!=\u001b[0m \u001b[0mself\u001b[0m\u001b[1;33m.\u001b[0m\u001b[0m_cache\u001b[0m\u001b[1;33m.\u001b[0m\u001b[0mkey\u001b[0m\u001b[1;33m:\u001b[0m\u001b[1;33m\u001b[0m\u001b[1;33m\u001b[0m\u001b[0m\n\u001b[0;32m    580\u001b[0m             \u001b[0mself\u001b[0m\u001b[1;33m.\u001b[0m\u001b[0m_cache\u001b[0m\u001b[1;33m.\u001b[0m\u001b[0minvalidate\u001b[0m\u001b[1;33m(\u001b[0m\u001b[1;33m)\u001b[0m\u001b[1;33m\u001b[0m\u001b[1;33m\u001b[0m\u001b[0m\n\u001b[1;32m--> 581\u001b[1;33m             solving_chain = self._construct_chain(\n\u001b[0m\u001b[0;32m    582\u001b[0m                 solver=solver, gp=gp, enforce_dpp=enforce_dpp)\n\u001b[0;32m    583\u001b[0m             \u001b[0mself\u001b[0m\u001b[1;33m.\u001b[0m\u001b[0m_cache\u001b[0m\u001b[1;33m.\u001b[0m\u001b[0mkey\u001b[0m \u001b[1;33m=\u001b[0m \u001b[0mkey\u001b[0m\u001b[1;33m\u001b[0m\u001b[1;33m\u001b[0m\u001b[0m\n",
      "\u001b[1;32mC:\\Users\\Public\\Anaconda3\\lib\\site-packages\\cvxpy\\problems\\problem.py\u001b[0m in \u001b[0;36m_construct_chain\u001b[1;34m(self, solver, gp, enforce_dpp)\u001b[0m\n\u001b[0;32m    807\u001b[0m         \u001b[0mcandidate_solvers\u001b[0m \u001b[1;33m=\u001b[0m \u001b[0mself\u001b[0m\u001b[1;33m.\u001b[0m\u001b[0m_find_candidate_solvers\u001b[0m\u001b[1;33m(\u001b[0m\u001b[0msolver\u001b[0m\u001b[1;33m=\u001b[0m\u001b[0msolver\u001b[0m\u001b[1;33m,\u001b[0m \u001b[0mgp\u001b[0m\u001b[1;33m=\u001b[0m\u001b[0mgp\u001b[0m\u001b[1;33m)\u001b[0m\u001b[1;33m\u001b[0m\u001b[1;33m\u001b[0m\u001b[0m\n\u001b[0;32m    808\u001b[0m         \u001b[0mself\u001b[0m\u001b[1;33m.\u001b[0m\u001b[0m_sort_candidate_solvers\u001b[0m\u001b[1;33m(\u001b[0m\u001b[0mcandidate_solvers\u001b[0m\u001b[1;33m)\u001b[0m\u001b[1;33m\u001b[0m\u001b[1;33m\u001b[0m\u001b[0m\n\u001b[1;32m--> 809\u001b[1;33m         return construct_solving_chain(self, candidate_solvers, gp=gp,\n\u001b[0m\u001b[0;32m    810\u001b[0m                                        enforce_dpp=enforce_dpp)\n\u001b[0;32m    811\u001b[0m \u001b[1;33m\u001b[0m\u001b[0m\n",
      "\u001b[1;32mC:\\Users\\Public\\Anaconda3\\lib\\site-packages\\cvxpy\\reductions\\solvers\\solving_chain.py\u001b[0m in \u001b[0;36mconstruct_solving_chain\u001b[1;34m(problem, candidates, gp, enforce_dpp)\u001b[0m\n\u001b[0;32m    153\u001b[0m     \u001b[1;32mif\u001b[0m \u001b[0mlen\u001b[0m\u001b[1;33m(\u001b[0m\u001b[0mproblem\u001b[0m\u001b[1;33m.\u001b[0m\u001b[0mvariables\u001b[0m\u001b[1;33m(\u001b[0m\u001b[1;33m)\u001b[0m\u001b[1;33m)\u001b[0m \u001b[1;33m==\u001b[0m \u001b[1;36m0\u001b[0m\u001b[1;33m:\u001b[0m\u001b[1;33m\u001b[0m\u001b[1;33m\u001b[0m\u001b[0m\n\u001b[0;32m    154\u001b[0m         \u001b[1;32mreturn\u001b[0m \u001b[0mSolvingChain\u001b[0m\u001b[1;33m(\u001b[0m\u001b[0mreductions\u001b[0m\u001b[1;33m=\u001b[0m\u001b[1;33m[\u001b[0m\u001b[0mConstantSolver\u001b[0m\u001b[1;33m(\u001b[0m\u001b[1;33m)\u001b[0m\u001b[1;33m]\u001b[0m\u001b[1;33m)\u001b[0m\u001b[1;33m\u001b[0m\u001b[1;33m\u001b[0m\u001b[0m\n\u001b[1;32m--> 155\u001b[1;33m     \u001b[0mreductions\u001b[0m \u001b[1;33m=\u001b[0m \u001b[0m_reductions_for_problem_class\u001b[0m\u001b[1;33m(\u001b[0m\u001b[0mproblem\u001b[0m\u001b[1;33m,\u001b[0m \u001b[0mcandidates\u001b[0m\u001b[1;33m,\u001b[0m \u001b[0mgp\u001b[0m\u001b[1;33m)\u001b[0m\u001b[1;33m\u001b[0m\u001b[1;33m\u001b[0m\u001b[0m\n\u001b[0m\u001b[0;32m    156\u001b[0m \u001b[1;33m\u001b[0m\u001b[0m\n\u001b[0;32m    157\u001b[0m     \u001b[0mdpp_context\u001b[0m \u001b[1;33m=\u001b[0m \u001b[1;34m'dcp'\u001b[0m \u001b[1;32mif\u001b[0m \u001b[1;32mnot\u001b[0m \u001b[0mgp\u001b[0m \u001b[1;32melse\u001b[0m \u001b[1;34m'dgp'\u001b[0m\u001b[1;33m\u001b[0m\u001b[1;33m\u001b[0m\u001b[0m\n",
      "\u001b[1;32mC:\\Users\\Public\\Anaconda3\\lib\\site-packages\\cvxpy\\reductions\\solvers\\solving_chain.py\u001b[0m in \u001b[0;36m_reductions_for_problem_class\u001b[1;34m(problem, candidates, gp)\u001b[0m\n\u001b[0;32m     81\u001b[0m         \u001b[0mreductions\u001b[0m \u001b[1;33m+=\u001b[0m \u001b[1;33m[\u001b[0m\u001b[0mDgp2Dcp\u001b[0m\u001b[1;33m(\u001b[0m\u001b[1;33m)\u001b[0m\u001b[1;33m]\u001b[0m\u001b[1;33m\u001b[0m\u001b[1;33m\u001b[0m\u001b[0m\n\u001b[0;32m     82\u001b[0m \u001b[1;33m\u001b[0m\u001b[0m\n\u001b[1;32m---> 83\u001b[1;33m     \u001b[1;32mif\u001b[0m \u001b[1;32mnot\u001b[0m \u001b[0mgp\u001b[0m \u001b[1;32mand\u001b[0m \u001b[1;32mnot\u001b[0m \u001b[0mproblem\u001b[0m\u001b[1;33m.\u001b[0m\u001b[0mis_dcp\u001b[0m\u001b[1;33m(\u001b[0m\u001b[1;33m)\u001b[0m\u001b[1;33m:\u001b[0m\u001b[1;33m\u001b[0m\u001b[1;33m\u001b[0m\u001b[0m\n\u001b[0m\u001b[0;32m     84\u001b[0m         \u001b[0mappend\u001b[0m \u001b[1;33m=\u001b[0m \u001b[0mbuild_non_disciplined_error_msg\u001b[0m\u001b[1;33m(\u001b[0m\u001b[0mproblem\u001b[0m\u001b[1;33m,\u001b[0m \u001b[1;34m'DCP'\u001b[0m\u001b[1;33m)\u001b[0m\u001b[1;33m\u001b[0m\u001b[1;33m\u001b[0m\u001b[0m\n\u001b[0;32m     85\u001b[0m         \u001b[1;32mif\u001b[0m \u001b[0mproblem\u001b[0m\u001b[1;33m.\u001b[0m\u001b[0mis_dgp\u001b[0m\u001b[1;33m(\u001b[0m\u001b[1;33m)\u001b[0m\u001b[1;33m:\u001b[0m\u001b[1;33m\u001b[0m\u001b[1;33m\u001b[0m\u001b[0m\n",
      "\u001b[1;32mC:\\Users\\Public\\Anaconda3\\lib\\site-packages\\cvxpy\\utilities\\performance_utils.py\u001b[0m in \u001b[0;36m_compute_once\u001b[1;34m(self, *args, **kwargs)\u001b[0m\n\u001b[0;32m     71\u001b[0m         \u001b[1;32mif\u001b[0m \u001b[0mkey\u001b[0m \u001b[1;32min\u001b[0m \u001b[0mcache\u001b[0m\u001b[1;33m:\u001b[0m\u001b[1;33m\u001b[0m\u001b[1;33m\u001b[0m\u001b[0m\n\u001b[0;32m     72\u001b[0m             \u001b[1;32mreturn\u001b[0m \u001b[0mcache\u001b[0m\u001b[1;33m[\u001b[0m\u001b[0mkey\u001b[0m\u001b[1;33m]\u001b[0m\u001b[1;33m\u001b[0m\u001b[1;33m\u001b[0m\u001b[0m\n\u001b[1;32m---> 73\u001b[1;33m         \u001b[0mresult\u001b[0m \u001b[1;33m=\u001b[0m \u001b[0mfunc\u001b[0m\u001b[1;33m(\u001b[0m\u001b[0mself\u001b[0m\u001b[1;33m,\u001b[0m \u001b[1;33m*\u001b[0m\u001b[0margs\u001b[0m\u001b[1;33m,\u001b[0m \u001b[1;33m**\u001b[0m\u001b[0mkwargs\u001b[0m\u001b[1;33m)\u001b[0m\u001b[1;33m\u001b[0m\u001b[1;33m\u001b[0m\u001b[0m\n\u001b[0m\u001b[0;32m     74\u001b[0m         \u001b[0mcache\u001b[0m\u001b[1;33m[\u001b[0m\u001b[0mkey\u001b[0m\u001b[1;33m]\u001b[0m \u001b[1;33m=\u001b[0m \u001b[0mresult\u001b[0m\u001b[1;33m\u001b[0m\u001b[1;33m\u001b[0m\u001b[0m\n\u001b[0;32m     75\u001b[0m         \u001b[1;32mreturn\u001b[0m \u001b[0mresult\u001b[0m\u001b[1;33m\u001b[0m\u001b[1;33m\u001b[0m\u001b[0m\n",
      "\u001b[1;32mC:\\Users\\Public\\Anaconda3\\lib\\site-packages\\cvxpy\\problems\\problem.py\u001b[0m in \u001b[0;36mis_dcp\u001b[1;34m(self, dpp)\u001b[0m\n\u001b[0;32m    239\u001b[0m             \u001b[1;32mTrue\u001b[0m \u001b[1;32mif\u001b[0m \u001b[0mthe\u001b[0m \u001b[0mExpression\u001b[0m \u001b[1;32mis\u001b[0m \u001b[0mDCP\u001b[0m\u001b[1;33m,\u001b[0m \u001b[1;32mFalse\u001b[0m \u001b[0motherwise\u001b[0m\u001b[1;33m.\u001b[0m\u001b[1;33m\u001b[0m\u001b[1;33m\u001b[0m\u001b[0m\n\u001b[0;32m    240\u001b[0m         \"\"\"\n\u001b[1;32m--> 241\u001b[1;33m         return all(\n\u001b[0m\u001b[0;32m    242\u001b[0m           expr.is_dcp(dpp) for expr in self.constraints + [self.objective])\n\u001b[0;32m    243\u001b[0m \u001b[1;33m\u001b[0m\u001b[0m\n",
      "\u001b[1;32mC:\\Users\\Public\\Anaconda3\\lib\\site-packages\\cvxpy\\problems\\problem.py\u001b[0m in \u001b[0;36m<genexpr>\u001b[1;34m(.0)\u001b[0m\n\u001b[0;32m    240\u001b[0m         \"\"\"\n\u001b[0;32m    241\u001b[0m         return all(\n\u001b[1;32m--> 242\u001b[1;33m           expr.is_dcp(dpp) for expr in self.constraints + [self.objective])\n\u001b[0m\u001b[0;32m    243\u001b[0m \u001b[1;33m\u001b[0m\u001b[0m\n\u001b[0;32m    244\u001b[0m     \u001b[1;33m@\u001b[0m\u001b[0mperf\u001b[0m\u001b[1;33m.\u001b[0m\u001b[0mcompute_once\u001b[0m\u001b[1;33m\u001b[0m\u001b[1;33m\u001b[0m\u001b[0m\n",
      "\u001b[1;32mC:\\Users\\Public\\Anaconda3\\lib\\site-packages\\cvxpy\\problems\\objective.py\u001b[0m in \u001b[0;36mis_dcp\u001b[1;34m(self, dpp)\u001b[0m\n\u001b[0;32m    151\u001b[0m             \u001b[1;32mwith\u001b[0m \u001b[0mscopes\u001b[0m\u001b[1;33m.\u001b[0m\u001b[0mdpp_scope\u001b[0m\u001b[1;33m(\u001b[0m\u001b[1;33m)\u001b[0m\u001b[1;33m:\u001b[0m\u001b[1;33m\u001b[0m\u001b[1;33m\u001b[0m\u001b[0m\n\u001b[0;32m    152\u001b[0m                 \u001b[1;32mreturn\u001b[0m \u001b[0mself\u001b[0m\u001b[1;33m.\u001b[0m\u001b[0margs\u001b[0m\u001b[1;33m[\u001b[0m\u001b[1;36m0\u001b[0m\u001b[1;33m]\u001b[0m\u001b[1;33m.\u001b[0m\u001b[0mis_convex\u001b[0m\u001b[1;33m(\u001b[0m\u001b[1;33m)\u001b[0m\u001b[1;33m\u001b[0m\u001b[1;33m\u001b[0m\u001b[0m\n\u001b[1;32m--> 153\u001b[1;33m         \u001b[1;32mreturn\u001b[0m \u001b[0mself\u001b[0m\u001b[1;33m.\u001b[0m\u001b[0margs\u001b[0m\u001b[1;33m[\u001b[0m\u001b[1;36m0\u001b[0m\u001b[1;33m]\u001b[0m\u001b[1;33m.\u001b[0m\u001b[0mis_convex\u001b[0m\u001b[1;33m(\u001b[0m\u001b[1;33m)\u001b[0m\u001b[1;33m\u001b[0m\u001b[1;33m\u001b[0m\u001b[0m\n\u001b[0m\u001b[0;32m    154\u001b[0m \u001b[1;33m\u001b[0m\u001b[0m\n\u001b[0;32m    155\u001b[0m     \u001b[1;32mdef\u001b[0m \u001b[0mis_dgp\u001b[0m\u001b[1;33m(\u001b[0m\u001b[0mself\u001b[0m\u001b[1;33m,\u001b[0m \u001b[0mdpp\u001b[0m\u001b[1;33m:\u001b[0m \u001b[0mbool\u001b[0m \u001b[1;33m=\u001b[0m \u001b[1;32mFalse\u001b[0m\u001b[1;33m)\u001b[0m \u001b[1;33m->\u001b[0m \u001b[0mbool\u001b[0m\u001b[1;33m:\u001b[0m\u001b[1;33m\u001b[0m\u001b[1;33m\u001b[0m\u001b[0m\n",
      "\u001b[1;32mC:\\Users\\Public\\Anaconda3\\lib\\site-packages\\cvxpy\\utilities\\performance_utils.py\u001b[0m in \u001b[0;36m_compute_once\u001b[1;34m(self, *args, **kwargs)\u001b[0m\n\u001b[0;32m     71\u001b[0m         \u001b[1;32mif\u001b[0m \u001b[0mkey\u001b[0m \u001b[1;32min\u001b[0m \u001b[0mcache\u001b[0m\u001b[1;33m:\u001b[0m\u001b[1;33m\u001b[0m\u001b[1;33m\u001b[0m\u001b[0m\n\u001b[0;32m     72\u001b[0m             \u001b[1;32mreturn\u001b[0m \u001b[0mcache\u001b[0m\u001b[1;33m[\u001b[0m\u001b[0mkey\u001b[0m\u001b[1;33m]\u001b[0m\u001b[1;33m\u001b[0m\u001b[1;33m\u001b[0m\u001b[0m\n\u001b[1;32m---> 73\u001b[1;33m         \u001b[0mresult\u001b[0m \u001b[1;33m=\u001b[0m \u001b[0mfunc\u001b[0m\u001b[1;33m(\u001b[0m\u001b[0mself\u001b[0m\u001b[1;33m,\u001b[0m \u001b[1;33m*\u001b[0m\u001b[0margs\u001b[0m\u001b[1;33m,\u001b[0m \u001b[1;33m**\u001b[0m\u001b[0mkwargs\u001b[0m\u001b[1;33m)\u001b[0m\u001b[1;33m\u001b[0m\u001b[1;33m\u001b[0m\u001b[0m\n\u001b[0m\u001b[0;32m     74\u001b[0m         \u001b[0mcache\u001b[0m\u001b[1;33m[\u001b[0m\u001b[0mkey\u001b[0m\u001b[1;33m]\u001b[0m \u001b[1;33m=\u001b[0m \u001b[0mresult\u001b[0m\u001b[1;33m\u001b[0m\u001b[1;33m\u001b[0m\u001b[0m\n\u001b[0;32m     75\u001b[0m         \u001b[1;32mreturn\u001b[0m \u001b[0mresult\u001b[0m\u001b[1;33m\u001b[0m\u001b[1;33m\u001b[0m\u001b[0m\n",
      "\u001b[1;32mC:\\Users\\Public\\Anaconda3\\lib\\site-packages\\cvxpy\\atoms\\atom.py\u001b[0m in \u001b[0;36mis_convex\u001b[1;34m(self)\u001b[0m\n\u001b[0;32m    176\u001b[0m         \u001b[1;32melif\u001b[0m \u001b[0mself\u001b[0m\u001b[1;33m.\u001b[0m\u001b[0mis_atom_convex\u001b[0m\u001b[1;33m(\u001b[0m\u001b[1;33m)\u001b[0m\u001b[1;33m:\u001b[0m\u001b[1;33m\u001b[0m\u001b[1;33m\u001b[0m\u001b[0m\n\u001b[0;32m    177\u001b[0m             \u001b[1;32mfor\u001b[0m \u001b[0midx\u001b[0m\u001b[1;33m,\u001b[0m \u001b[0marg\u001b[0m \u001b[1;32min\u001b[0m \u001b[0menumerate\u001b[0m\u001b[1;33m(\u001b[0m\u001b[0mself\u001b[0m\u001b[1;33m.\u001b[0m\u001b[0margs\u001b[0m\u001b[1;33m)\u001b[0m\u001b[1;33m:\u001b[0m\u001b[1;33m\u001b[0m\u001b[1;33m\u001b[0m\u001b[0m\n\u001b[1;32m--> 178\u001b[1;33m                 if not (arg.is_affine() or\n\u001b[0m\u001b[0;32m    179\u001b[0m                         \u001b[1;33m(\u001b[0m\u001b[0marg\u001b[0m\u001b[1;33m.\u001b[0m\u001b[0mis_convex\u001b[0m\u001b[1;33m(\u001b[0m\u001b[1;33m)\u001b[0m \u001b[1;32mand\u001b[0m \u001b[0mself\u001b[0m\u001b[1;33m.\u001b[0m\u001b[0mis_incr\u001b[0m\u001b[1;33m(\u001b[0m\u001b[0midx\u001b[0m\u001b[1;33m)\u001b[0m\u001b[1;33m)\u001b[0m \u001b[1;32mor\u001b[0m\u001b[1;33m\u001b[0m\u001b[1;33m\u001b[0m\u001b[0m\n\u001b[0;32m    180\u001b[0m                         (arg.is_concave() and self.is_decr(idx))):\n",
      "\u001b[1;32mC:\\Users\\Public\\Anaconda3\\lib\\site-packages\\cvxpy\\utilities\\performance_utils.py\u001b[0m in \u001b[0;36m_compute_once\u001b[1;34m(self, *args, **kwargs)\u001b[0m\n\u001b[0;32m     71\u001b[0m         \u001b[1;32mif\u001b[0m \u001b[0mkey\u001b[0m \u001b[1;32min\u001b[0m \u001b[0mcache\u001b[0m\u001b[1;33m:\u001b[0m\u001b[1;33m\u001b[0m\u001b[1;33m\u001b[0m\u001b[0m\n\u001b[0;32m     72\u001b[0m             \u001b[1;32mreturn\u001b[0m \u001b[0mcache\u001b[0m\u001b[1;33m[\u001b[0m\u001b[0mkey\u001b[0m\u001b[1;33m]\u001b[0m\u001b[1;33m\u001b[0m\u001b[1;33m\u001b[0m\u001b[0m\n\u001b[1;32m---> 73\u001b[1;33m         \u001b[0mresult\u001b[0m \u001b[1;33m=\u001b[0m \u001b[0mfunc\u001b[0m\u001b[1;33m(\u001b[0m\u001b[0mself\u001b[0m\u001b[1;33m,\u001b[0m \u001b[1;33m*\u001b[0m\u001b[0margs\u001b[0m\u001b[1;33m,\u001b[0m \u001b[1;33m**\u001b[0m\u001b[0mkwargs\u001b[0m\u001b[1;33m)\u001b[0m\u001b[1;33m\u001b[0m\u001b[1;33m\u001b[0m\u001b[0m\n\u001b[0m\u001b[0;32m     74\u001b[0m         \u001b[0mcache\u001b[0m\u001b[1;33m[\u001b[0m\u001b[0mkey\u001b[0m\u001b[1;33m]\u001b[0m \u001b[1;33m=\u001b[0m \u001b[0mresult\u001b[0m\u001b[1;33m\u001b[0m\u001b[1;33m\u001b[0m\u001b[0m\n\u001b[0;32m     75\u001b[0m         \u001b[1;32mreturn\u001b[0m \u001b[0mresult\u001b[0m\u001b[1;33m\u001b[0m\u001b[1;33m\u001b[0m\u001b[0m\n",
      "\u001b[1;32mC:\\Users\\Public\\Anaconda3\\lib\\site-packages\\cvxpy\\expressions\\expression.py\u001b[0m in \u001b[0;36mis_affine\u001b[1;34m(self)\u001b[0m\n\u001b[0;32m    186\u001b[0m         \"\"\"Is the expression affine?\n\u001b[0;32m    187\u001b[0m         \"\"\"\n\u001b[1;32m--> 188\u001b[1;33m         \u001b[1;32mreturn\u001b[0m \u001b[0mself\u001b[0m\u001b[1;33m.\u001b[0m\u001b[0mis_constant\u001b[0m\u001b[1;33m(\u001b[0m\u001b[1;33m)\u001b[0m \u001b[1;32mor\u001b[0m \u001b[1;33m(\u001b[0m\u001b[0mself\u001b[0m\u001b[1;33m.\u001b[0m\u001b[0mis_convex\u001b[0m\u001b[1;33m(\u001b[0m\u001b[1;33m)\u001b[0m \u001b[1;32mand\u001b[0m \u001b[0mself\u001b[0m\u001b[1;33m.\u001b[0m\u001b[0mis_concave\u001b[0m\u001b[1;33m(\u001b[0m\u001b[1;33m)\u001b[0m\u001b[1;33m)\u001b[0m\u001b[1;33m\u001b[0m\u001b[1;33m\u001b[0m\u001b[0m\n\u001b[0m\u001b[0;32m    189\u001b[0m \u001b[1;33m\u001b[0m\u001b[0m\n\u001b[0;32m    190\u001b[0m     \u001b[1;33m@\u001b[0m\u001b[0mabc\u001b[0m\u001b[1;33m.\u001b[0m\u001b[0mabstractmethod\u001b[0m\u001b[1;33m\u001b[0m\u001b[1;33m\u001b[0m\u001b[0m\n",
      "\u001b[1;32mC:\\Users\\Public\\Anaconda3\\lib\\site-packages\\cvxpy\\utilities\\performance_utils.py\u001b[0m in \u001b[0;36m_compute_once\u001b[1;34m(self, *args, **kwargs)\u001b[0m\n\u001b[0;32m     71\u001b[0m         \u001b[1;32mif\u001b[0m \u001b[0mkey\u001b[0m \u001b[1;32min\u001b[0m \u001b[0mcache\u001b[0m\u001b[1;33m:\u001b[0m\u001b[1;33m\u001b[0m\u001b[1;33m\u001b[0m\u001b[0m\n\u001b[0;32m     72\u001b[0m             \u001b[1;32mreturn\u001b[0m \u001b[0mcache\u001b[0m\u001b[1;33m[\u001b[0m\u001b[0mkey\u001b[0m\u001b[1;33m]\u001b[0m\u001b[1;33m\u001b[0m\u001b[1;33m\u001b[0m\u001b[0m\n\u001b[1;32m---> 73\u001b[1;33m         \u001b[0mresult\u001b[0m \u001b[1;33m=\u001b[0m \u001b[0mfunc\u001b[0m\u001b[1;33m(\u001b[0m\u001b[0mself\u001b[0m\u001b[1;33m,\u001b[0m \u001b[1;33m*\u001b[0m\u001b[0margs\u001b[0m\u001b[1;33m,\u001b[0m \u001b[1;33m**\u001b[0m\u001b[0mkwargs\u001b[0m\u001b[1;33m)\u001b[0m\u001b[1;33m\u001b[0m\u001b[1;33m\u001b[0m\u001b[0m\n\u001b[0m\u001b[0;32m     74\u001b[0m         \u001b[0mcache\u001b[0m\u001b[1;33m[\u001b[0m\u001b[0mkey\u001b[0m\u001b[1;33m]\u001b[0m \u001b[1;33m=\u001b[0m \u001b[0mresult\u001b[0m\u001b[1;33m\u001b[0m\u001b[1;33m\u001b[0m\u001b[0m\n\u001b[0;32m     75\u001b[0m         \u001b[1;32mreturn\u001b[0m \u001b[0mresult\u001b[0m\u001b[1;33m\u001b[0m\u001b[1;33m\u001b[0m\u001b[0m\n",
      "\u001b[1;32mC:\\Users\\Public\\Anaconda3\\lib\\site-packages\\cvxpy\\atoms\\atom.py\u001b[0m in \u001b[0;36mis_convex\u001b[1;34m(self)\u001b[0m\n\u001b[0;32m    174\u001b[0m         \u001b[1;32mif\u001b[0m \u001b[0mself\u001b[0m\u001b[1;33m.\u001b[0m\u001b[0mis_constant\u001b[0m\u001b[1;33m(\u001b[0m\u001b[1;33m)\u001b[0m\u001b[1;33m:\u001b[0m\u001b[1;33m\u001b[0m\u001b[1;33m\u001b[0m\u001b[0m\n\u001b[0;32m    175\u001b[0m             \u001b[1;32mreturn\u001b[0m \u001b[1;32mTrue\u001b[0m\u001b[1;33m\u001b[0m\u001b[1;33m\u001b[0m\u001b[0m\n\u001b[1;32m--> 176\u001b[1;33m         \u001b[1;32melif\u001b[0m \u001b[0mself\u001b[0m\u001b[1;33m.\u001b[0m\u001b[0mis_atom_convex\u001b[0m\u001b[1;33m(\u001b[0m\u001b[1;33m)\u001b[0m\u001b[1;33m:\u001b[0m\u001b[1;33m\u001b[0m\u001b[1;33m\u001b[0m\u001b[0m\n\u001b[0m\u001b[0;32m    177\u001b[0m             \u001b[1;32mfor\u001b[0m \u001b[0midx\u001b[0m\u001b[1;33m,\u001b[0m \u001b[0marg\u001b[0m \u001b[1;32min\u001b[0m \u001b[0menumerate\u001b[0m\u001b[1;33m(\u001b[0m\u001b[0mself\u001b[0m\u001b[1;33m.\u001b[0m\u001b[0margs\u001b[0m\u001b[1;33m)\u001b[0m\u001b[1;33m:\u001b[0m\u001b[1;33m\u001b[0m\u001b[1;33m\u001b[0m\u001b[0m\n\u001b[0;32m    178\u001b[0m                 if not (arg.is_affine() or\n",
      "\u001b[1;32mC:\\Users\\Public\\Anaconda3\\lib\\site-packages\\cvxpy\\atoms\\quad_form.py\u001b[0m in \u001b[0;36mis_atom_convex\u001b[1;34m(self)\u001b[0m\n\u001b[0;32m     64\u001b[0m         \"\"\"\n\u001b[0;32m     65\u001b[0m         \u001b[0mP\u001b[0m \u001b[1;33m=\u001b[0m \u001b[0mself\u001b[0m\u001b[1;33m.\u001b[0m\u001b[0margs\u001b[0m\u001b[1;33m[\u001b[0m\u001b[1;36m1\u001b[0m\u001b[1;33m]\u001b[0m\u001b[1;33m\u001b[0m\u001b[1;33m\u001b[0m\u001b[0m\n\u001b[1;32m---> 66\u001b[1;33m         \u001b[1;32mreturn\u001b[0m \u001b[0mP\u001b[0m\u001b[1;33m.\u001b[0m\u001b[0mis_constant\u001b[0m\u001b[1;33m(\u001b[0m\u001b[1;33m)\u001b[0m \u001b[1;32mand\u001b[0m \u001b[0mP\u001b[0m\u001b[1;33m.\u001b[0m\u001b[0mis_psd\u001b[0m\u001b[1;33m(\u001b[0m\u001b[1;33m)\u001b[0m\u001b[1;33m\u001b[0m\u001b[1;33m\u001b[0m\u001b[0m\n\u001b[0m\u001b[0;32m     67\u001b[0m \u001b[1;33m\u001b[0m\u001b[0m\n\u001b[0;32m     68\u001b[0m     \u001b[1;32mdef\u001b[0m \u001b[0mis_atom_concave\u001b[0m\u001b[1;33m(\u001b[0m\u001b[0mself\u001b[0m\u001b[1;33m)\u001b[0m \u001b[1;33m->\u001b[0m \u001b[0mbool\u001b[0m\u001b[1;33m:\u001b[0m\u001b[1;33m\u001b[0m\u001b[1;33m\u001b[0m\u001b[0m\n",
      "\u001b[1;32mC:\\Users\\Public\\Anaconda3\\lib\\site-packages\\cvxpy\\utilities\\performance_utils.py\u001b[0m in \u001b[0;36m_compute_once\u001b[1;34m(self, *args, **kwargs)\u001b[0m\n\u001b[0;32m     71\u001b[0m         \u001b[1;32mif\u001b[0m \u001b[0mkey\u001b[0m \u001b[1;32min\u001b[0m \u001b[0mcache\u001b[0m\u001b[1;33m:\u001b[0m\u001b[1;33m\u001b[0m\u001b[1;33m\u001b[0m\u001b[0m\n\u001b[0;32m     72\u001b[0m             \u001b[1;32mreturn\u001b[0m \u001b[0mcache\u001b[0m\u001b[1;33m[\u001b[0m\u001b[0mkey\u001b[0m\u001b[1;33m]\u001b[0m\u001b[1;33m\u001b[0m\u001b[1;33m\u001b[0m\u001b[0m\n\u001b[1;32m---> 73\u001b[1;33m         \u001b[0mresult\u001b[0m \u001b[1;33m=\u001b[0m \u001b[0mfunc\u001b[0m\u001b[1;33m(\u001b[0m\u001b[0mself\u001b[0m\u001b[1;33m,\u001b[0m \u001b[1;33m*\u001b[0m\u001b[0margs\u001b[0m\u001b[1;33m,\u001b[0m \u001b[1;33m**\u001b[0m\u001b[0mkwargs\u001b[0m\u001b[1;33m)\u001b[0m\u001b[1;33m\u001b[0m\u001b[1;33m\u001b[0m\u001b[0m\n\u001b[0m\u001b[0;32m     74\u001b[0m         \u001b[0mcache\u001b[0m\u001b[1;33m[\u001b[0m\u001b[0mkey\u001b[0m\u001b[1;33m]\u001b[0m \u001b[1;33m=\u001b[0m \u001b[0mresult\u001b[0m\u001b[1;33m\u001b[0m\u001b[1;33m\u001b[0m\u001b[0m\n\u001b[0;32m     75\u001b[0m         \u001b[1;32mreturn\u001b[0m \u001b[0mresult\u001b[0m\u001b[1;33m\u001b[0m\u001b[1;33m\u001b[0m\u001b[0m\n",
      "\u001b[1;32mC:\\Users\\Public\\Anaconda3\\lib\\site-packages\\cvxpy\\expressions\\constants\\constant.py\u001b[0m in \u001b[0;36mis_psd\u001b[1;34m(self)\u001b[0m\n\u001b[0;32m    214\u001b[0m         \u001b[1;31m# Compute sign of bottom eigenvalue if absent.\u001b[0m\u001b[1;33m\u001b[0m\u001b[1;33m\u001b[0m\u001b[1;33m\u001b[0m\u001b[0m\n\u001b[0;32m    215\u001b[0m         \u001b[1;32mif\u001b[0m \u001b[0mself\u001b[0m\u001b[1;33m.\u001b[0m\u001b[0m_psd_test\u001b[0m \u001b[1;32mis\u001b[0m \u001b[1;32mNone\u001b[0m\u001b[1;33m:\u001b[0m\u001b[1;33m\u001b[0m\u001b[1;33m\u001b[0m\u001b[0m\n\u001b[1;32m--> 216\u001b[1;33m             \u001b[0mself\u001b[0m\u001b[1;33m.\u001b[0m\u001b[0m_psd_test\u001b[0m \u001b[1;33m=\u001b[0m \u001b[0meig_util\u001b[0m\u001b[1;33m.\u001b[0m\u001b[0mis_psd_within_tol\u001b[0m\u001b[1;33m(\u001b[0m\u001b[0mself\u001b[0m\u001b[1;33m.\u001b[0m\u001b[0mvalue\u001b[0m\u001b[1;33m,\u001b[0m \u001b[0mEIGVAL_TOL\u001b[0m\u001b[1;33m)\u001b[0m\u001b[1;33m\u001b[0m\u001b[1;33m\u001b[0m\u001b[0m\n\u001b[0m\u001b[0;32m    217\u001b[0m \u001b[1;33m\u001b[0m\u001b[0m\n\u001b[0;32m    218\u001b[0m         \u001b[1;32mreturn\u001b[0m \u001b[0mself\u001b[0m\u001b[1;33m.\u001b[0m\u001b[0m_psd_test\u001b[0m\u001b[1;33m\u001b[0m\u001b[1;33m\u001b[0m\u001b[0m\n",
      "\u001b[1;32mC:\\Users\\Public\\Anaconda3\\lib\\site-packages\\cvxpy\\utilities\\eigvals.py\u001b[0m in \u001b[0;36mis_psd_within_tol\u001b[1;34m(A, tol)\u001b[0m\n\u001b[0;32m     56\u001b[0m             \u001b[1;31m# (We might also hit this code block for other reasons.)\u001b[0m\u001b[1;33m\u001b[0m\u001b[1;33m\u001b[0m\u001b[1;33m\u001b[0m\u001b[0m\n\u001b[0;32m     57\u001b[0m             \u001b[0mtemp\u001b[0m \u001b[1;33m=\u001b[0m \u001b[0mtol\u001b[0m \u001b[1;33m-\u001b[0m \u001b[0mnp\u001b[0m\u001b[1;33m.\u001b[0m\u001b[0mfinfo\u001b[0m\u001b[1;33m(\u001b[0m\u001b[0mA\u001b[0m\u001b[1;33m.\u001b[0m\u001b[0mdtype\u001b[0m\u001b[1;33m)\u001b[0m\u001b[1;33m.\u001b[0m\u001b[0meps\u001b[0m\u001b[1;33m\u001b[0m\u001b[1;33m\u001b[0m\u001b[0m\n\u001b[1;32m---> 58\u001b[1;33m             \u001b[0mev\u001b[0m \u001b[1;33m=\u001b[0m \u001b[0mSA_eigsh\u001b[0m\u001b[1;33m(\u001b[0m\u001b[1;33m-\u001b[0m\u001b[0mtemp\u001b[0m\u001b[1;33m)\u001b[0m\u001b[1;33m\u001b[0m\u001b[1;33m\u001b[0m\u001b[0m\n\u001b[0m\u001b[0;32m     59\u001b[0m \u001b[1;33m\u001b[0m\u001b[0m\n\u001b[0;32m     60\u001b[0m     \u001b[1;32mreturn\u001b[0m \u001b[0mnp\u001b[0m\u001b[1;33m.\u001b[0m\u001b[0mall\u001b[0m\u001b[1;33m(\u001b[0m\u001b[0mev\u001b[0m \u001b[1;33m>=\u001b[0m \u001b[1;33m-\u001b[0m\u001b[0mtol\u001b[0m\u001b[1;33m)\u001b[0m\u001b[1;33m\u001b[0m\u001b[1;33m\u001b[0m\u001b[0m\n",
      "\u001b[1;32mC:\\Users\\Public\\Anaconda3\\lib\\site-packages\\cvxpy\\utilities\\eigvals.py\u001b[0m in \u001b[0;36mSA_eigsh\u001b[1;34m(sigma)\u001b[0m\n\u001b[0;32m     34\u001b[0m \u001b[1;33m\u001b[0m\u001b[0m\n\u001b[0;32m     35\u001b[0m     \u001b[1;32mdef\u001b[0m \u001b[0mSA_eigsh\u001b[0m\u001b[1;33m(\u001b[0m\u001b[0msigma\u001b[0m\u001b[1;33m)\u001b[0m\u001b[1;33m:\u001b[0m\u001b[1;33m\u001b[0m\u001b[1;33m\u001b[0m\u001b[0m\n\u001b[1;32m---> 36\u001b[1;33m         \u001b[1;32mreturn\u001b[0m \u001b[0msparla\u001b[0m\u001b[1;33m.\u001b[0m\u001b[0meigsh\u001b[0m\u001b[1;33m(\u001b[0m\u001b[0mA\u001b[0m\u001b[1;33m,\u001b[0m \u001b[0mk\u001b[0m\u001b[1;33m=\u001b[0m\u001b[1;36m1\u001b[0m\u001b[1;33m,\u001b[0m \u001b[0msigma\u001b[0m\u001b[1;33m=\u001b[0m\u001b[0msigma\u001b[0m\u001b[1;33m,\u001b[0m \u001b[0mwhich\u001b[0m\u001b[1;33m=\u001b[0m\u001b[1;34m'SA'\u001b[0m\u001b[1;33m,\u001b[0m \u001b[0mreturn_eigenvectors\u001b[0m\u001b[1;33m=\u001b[0m\u001b[1;32mFalse\u001b[0m\u001b[1;33m)\u001b[0m\u001b[1;33m\u001b[0m\u001b[1;33m\u001b[0m\u001b[0m\n\u001b[0m\u001b[0;32m     37\u001b[0m         \u001b[1;31m# Returns the eigenvalue w[i] of A where 1/(w[i] - sigma) is minimized.\u001b[0m\u001b[1;33m\u001b[0m\u001b[1;33m\u001b[0m\u001b[1;33m\u001b[0m\u001b[0m\n\u001b[0;32m     38\u001b[0m         \u001b[1;31m#\u001b[0m\u001b[1;33m\u001b[0m\u001b[1;33m\u001b[0m\u001b[1;33m\u001b[0m\u001b[0m\n",
      "\u001b[1;32mC:\\Users\\Public\\Anaconda3\\lib\\site-packages\\scipy\\sparse\\linalg\\eigen\\arpack\\arpack.py\u001b[0m in \u001b[0;36meigsh\u001b[1;34m(A, k, M, sigma, which, v0, ncv, maxiter, tol, return_eigenvectors, Minv, OPinv, mode)\u001b[0m\n\u001b[0;32m   1688\u001b[0m     \u001b[1;32mwith\u001b[0m \u001b[0m_ARPACK_LOCK\u001b[0m\u001b[1;33m:\u001b[0m\u001b[1;33m\u001b[0m\u001b[1;33m\u001b[0m\u001b[0m\n\u001b[0;32m   1689\u001b[0m         \u001b[1;32mwhile\u001b[0m \u001b[1;32mnot\u001b[0m \u001b[0mparams\u001b[0m\u001b[1;33m.\u001b[0m\u001b[0mconverged\u001b[0m\u001b[1;33m:\u001b[0m\u001b[1;33m\u001b[0m\u001b[1;33m\u001b[0m\u001b[0m\n\u001b[1;32m-> 1690\u001b[1;33m             \u001b[0mparams\u001b[0m\u001b[1;33m.\u001b[0m\u001b[0miterate\u001b[0m\u001b[1;33m(\u001b[0m\u001b[1;33m)\u001b[0m\u001b[1;33m\u001b[0m\u001b[1;33m\u001b[0m\u001b[0m\n\u001b[0m\u001b[0;32m   1691\u001b[0m \u001b[1;33m\u001b[0m\u001b[0m\n\u001b[0;32m   1692\u001b[0m         \u001b[1;32mreturn\u001b[0m \u001b[0mparams\u001b[0m\u001b[1;33m.\u001b[0m\u001b[0mextract\u001b[0m\u001b[1;33m(\u001b[0m\u001b[0mreturn_eigenvectors\u001b[0m\u001b[1;33m)\u001b[0m\u001b[1;33m\u001b[0m\u001b[1;33m\u001b[0m\u001b[0m\n",
      "\u001b[1;32mC:\\Users\\Public\\Anaconda3\\lib\\site-packages\\scipy\\sparse\\linalg\\eigen\\arpack\\arpack.py\u001b[0m in \u001b[0;36miterate\u001b[1;34m(self)\u001b[0m\n\u001b[0;32m    568\u001b[0m                 \u001b[1;32mpass\u001b[0m\u001b[1;33m\u001b[0m\u001b[1;33m\u001b[0m\u001b[0m\n\u001b[0;32m    569\u001b[0m             \u001b[1;32melif\u001b[0m \u001b[0mself\u001b[0m\u001b[1;33m.\u001b[0m\u001b[0minfo\u001b[0m \u001b[1;33m==\u001b[0m \u001b[1;36m1\u001b[0m\u001b[1;33m:\u001b[0m\u001b[1;33m\u001b[0m\u001b[1;33m\u001b[0m\u001b[0m\n\u001b[1;32m--> 570\u001b[1;33m                 \u001b[0mself\u001b[0m\u001b[1;33m.\u001b[0m\u001b[0m_raise_no_convergence\u001b[0m\u001b[1;33m(\u001b[0m\u001b[1;33m)\u001b[0m\u001b[1;33m\u001b[0m\u001b[1;33m\u001b[0m\u001b[0m\n\u001b[0m\u001b[0;32m    571\u001b[0m             \u001b[1;32melse\u001b[0m\u001b[1;33m:\u001b[0m\u001b[1;33m\u001b[0m\u001b[1;33m\u001b[0m\u001b[0m\n\u001b[0;32m    572\u001b[0m                 \u001b[1;32mraise\u001b[0m \u001b[0mArpackError\u001b[0m\u001b[1;33m(\u001b[0m\u001b[0mself\u001b[0m\u001b[1;33m.\u001b[0m\u001b[0minfo\u001b[0m\u001b[1;33m,\u001b[0m \u001b[0minfodict\u001b[0m\u001b[1;33m=\u001b[0m\u001b[0mself\u001b[0m\u001b[1;33m.\u001b[0m\u001b[0miterate_infodict\u001b[0m\u001b[1;33m)\u001b[0m\u001b[1;33m\u001b[0m\u001b[1;33m\u001b[0m\u001b[0m\n",
      "\u001b[1;32mC:\\Users\\Public\\Anaconda3\\lib\\site-packages\\scipy\\sparse\\linalg\\eigen\\arpack\\arpack.py\u001b[0m in \u001b[0;36m_raise_no_convergence\u001b[1;34m(self)\u001b[0m\n\u001b[0;32m    374\u001b[0m             \u001b[0mvec\u001b[0m \u001b[1;33m=\u001b[0m \u001b[0mnp\u001b[0m\u001b[1;33m.\u001b[0m\u001b[0mzeros\u001b[0m\u001b[1;33m(\u001b[0m\u001b[1;33m(\u001b[0m\u001b[0mself\u001b[0m\u001b[1;33m.\u001b[0m\u001b[0mn\u001b[0m\u001b[1;33m,\u001b[0m \u001b[1;36m0\u001b[0m\u001b[1;33m)\u001b[0m\u001b[1;33m)\u001b[0m\u001b[1;33m\u001b[0m\u001b[1;33m\u001b[0m\u001b[0m\n\u001b[0;32m    375\u001b[0m             \u001b[0mk_ok\u001b[0m \u001b[1;33m=\u001b[0m \u001b[1;36m0\u001b[0m\u001b[1;33m\u001b[0m\u001b[1;33m\u001b[0m\u001b[0m\n\u001b[1;32m--> 376\u001b[1;33m         \u001b[1;32mraise\u001b[0m \u001b[0mArpackNoConvergence\u001b[0m\u001b[1;33m(\u001b[0m\u001b[0mmsg\u001b[0m \u001b[1;33m%\u001b[0m \u001b[1;33m(\u001b[0m\u001b[0mnum_iter\u001b[0m\u001b[1;33m,\u001b[0m \u001b[0mk_ok\u001b[0m\u001b[1;33m,\u001b[0m \u001b[0mself\u001b[0m\u001b[1;33m.\u001b[0m\u001b[0mk\u001b[0m\u001b[1;33m)\u001b[0m\u001b[1;33m,\u001b[0m \u001b[0mev\u001b[0m\u001b[1;33m,\u001b[0m \u001b[0mvec\u001b[0m\u001b[1;33m)\u001b[0m\u001b[1;33m\u001b[0m\u001b[1;33m\u001b[0m\u001b[0m\n\u001b[0m\u001b[0;32m    377\u001b[0m \u001b[1;33m\u001b[0m\u001b[0m\n\u001b[0;32m    378\u001b[0m \u001b[1;33m\u001b[0m\u001b[0m\n",
      "\u001b[1;31mArpackNoConvergence\u001b[0m: ARPACK error -1: No convergence (4101 iterations, 0/1 eigenvectors converged)"
     ]
    }
   ],
   "source": [
    "npca_w = return_weights(new_returns)"
   ]
  },
  {
   "cell_type": "code",
   "execution_count": 15,
   "id": "3460a50d",
   "metadata": {},
   "outputs": [],
   "source": [
    "import traceback\n",
    "try:\n",
    "    npca_w = return_weights(new_returns)\n",
    "except Exception as e:\n",
    "    with open('log.txt', 'a') as f:\n",
    "        f.write(str(e))\n",
    "        f.write(traceback.format_exc())"
   ]
  },
  {
   "cell_type": "code",
   "execution_count": 224,
   "id": "40d0210e",
   "metadata": {},
   "outputs": [
    {
     "data": {
      "text/plain": [
       "Date\n",
       "2012-12-06    1.003685\n",
       "2012-12-07    1.008057\n",
       "2012-12-10    1.007809\n",
       "2012-12-11    1.011939\n",
       "2012-12-12    1.010486\n",
       "                ...   \n",
       "2017-12-22    2.088554\n",
       "2017-12-26    2.086776\n",
       "2017-12-27    2.086762\n",
       "2017-12-28    2.094802\n",
       "12/29/2017    2.080153\n",
       "Name: CDNS, Length: 1276, dtype: float64"
      ]
     },
     "execution_count": 224,
     "metadata": {},
     "output_type": "execute_result"
    }
   ],
   "source": [
    "columns = returns_test.columns.to_numpy()\n",
    "npca_portfolio_return = count_portfolio_return(columns, npca_w, returns_test)\n",
    "npca_portfolio_return"
   ]
  },
  {
   "cell_type": "code",
   "execution_count": 29,
   "id": "4496d15f",
   "metadata": {},
   "outputs": [],
   "source": [
    "new_returns_1 = make_dim_red(prices[:train_size], 3, 3)\n",
    "new_returns_2 = make_dim_red(prices[:train_size], 3, 3)"
   ]
  },
  {
   "cell_type": "code",
   "execution_count": 30,
   "id": "712f628f",
   "metadata": {},
   "outputs": [
    {
     "name": "stdout",
     "output_type": "stream",
     "text": [
      "     CDNS  SBAC   DRE   MGM   PKG   RMD  ANSS    RE    IT   DXC  ...   VLO  \\\n",
      "1    True  True  True  True  True  True  True  True  True  True  ...  True   \n",
      "2    True  True  True  True  True  True  True  True  True  True  ...  True   \n",
      "3    True  True  True  True  True  True  True  True  True  True  ...  True   \n",
      "4    True  True  True  True  True  True  True  True  True  True  ...  True   \n",
      "5    True  True  True  True  True  True  True  True  True  True  ...  True   \n",
      "..    ...   ...   ...   ...   ...   ...   ...   ...   ...   ...  ...   ...   \n",
      "829  True  True  True  True  True  True  True  True  True  True  ...  True   \n",
      "830  True  True  True  True  True  True  True  True  True  True  ...  True   \n",
      "831  True  True  True  True  True  True  True  True  True  True  ...  True   \n",
      "832  True  True  True  True  True  True  True  True  True  True  ...  True   \n",
      "833  True  True  True  True  True  True  True  True  True  True  ...  True   \n",
      "\n",
      "      VNO    WM   WAT    WY   WHR   XEL   XRX    XL  ZION  \n",
      "1    True  True  True  True  True  True  True  True  True  \n",
      "2    True  True  True  True  True  True  True  True  True  \n",
      "3    True  True  True  True  True  True  True  True  True  \n",
      "4    True  True  True  True  True  True  True  True  True  \n",
      "5    True  True  True  True  True  True  True  True  True  \n",
      "..    ...   ...   ...   ...   ...   ...   ...   ...   ...  \n",
      "829  True  True  True  True  True  True  True  True  True  \n",
      "830  True  True  True  True  True  True  True  True  True  \n",
      "831  True  True  True  True  True  True  True  True  True  \n",
      "832  True  True  True  True  True  True  True  True  True  \n",
      "833  True  True  True  True  True  True  True  True  True  \n",
      "\n",
      "[833 rows x 410 columns]\n"
     ]
    }
   ],
   "source": [
    "print((new_returns_1 - new_returns_2) < 0.1)"
   ]
  },
  {
   "cell_type": "code",
   "execution_count": 51,
   "id": "51f50c0c",
   "metadata": {},
   "outputs": [],
   "source": [
    "def compare_datasets(n_comp, window_size, num_iteration=1):\n",
    "    for i in range(num_iteration):\n",
    "        ds_1 = make_dim_red(prices[:train_size], n_comp, window_size)\n",
    "        ds_2 = make_dim_red(prices[:train_size], n_comp, window_size)\n",
    "        \n",
    "        for col in ds_1.columns:\n",
    "            for ind in ds_1.index:\n",
    "                if abs(ds_1[col][ind] - ds_2[col][ind]) >= 0.001:\n",
    "                    print(col, ind, ds_1[col][ind], ds_2[col][ind])\n",
    "                    return False\n",
    "        \n",
    "    return True"
   ]
  },
  {
   "cell_type": "code",
   "execution_count": 73,
   "id": "402671ec",
   "metadata": {},
   "outputs": [
    {
     "name": "stdout",
     "output_type": "stream",
     "text": [
      "CDNS 4 -0.02862112904341474 -0.03161084173986639\n"
     ]
    },
    {
     "data": {
      "text/plain": [
       "False"
      ]
     },
     "execution_count": 73,
     "metadata": {},
     "output_type": "execute_result"
    }
   ],
   "source": [
    "compare_datasets(3, 5, num_iteration=3)"
   ]
  },
  {
   "cell_type": "code",
   "execution_count": 115,
   "id": "3cfb77b6",
   "metadata": {},
   "outputs": [],
   "source": [
    "a = nsprcomp.nsprcomp(prices[ : 5].T, ncomp=3, center = False, scale = False, nneg = True)\n",
    "b = nsprcomp.nsprcomp(prices[ : 5].T, ncomp=3, center = False, scale = False, nneg = True)"
   ]
  },
  {
   "cell_type": "code",
   "execution_count": 116,
   "id": "4ec9f7d2",
   "metadata": {},
   "outputs": [],
   "source": [
    "a_s = SVP(a[6].T)"
   ]
  },
  {
   "cell_type": "code",
   "execution_count": 117,
   "id": "f9e41a1c",
   "metadata": {},
   "outputs": [],
   "source": [
    "b_s = SVP(b[6].T)"
   ]
  },
  {
   "cell_type": "code",
   "execution_count": 118,
   "id": "35af1cf4",
   "metadata": {},
   "outputs": [
    {
     "data": {
      "text/plain": [
       "False"
      ]
     },
     "execution_count": 118,
     "metadata": {},
     "output_type": "execute_result"
    }
   ],
   "source": [
    "sum(a_s - b_s < 0.01) == len(a_s)"
   ]
  },
  {
   "cell_type": "code",
   "execution_count": 119,
   "id": "b3a0bb59",
   "metadata": {},
   "outputs": [
    {
     "name": "stdout",
     "output_type": "stream",
     "text": [
      "True\n",
      "True\n",
      "False\n",
      "False\n",
      "False\n",
      "True\n",
      "False\n",
      "False\n",
      "False\n",
      "True\n",
      "True\n",
      "False\n",
      "True\n",
      "True\n",
      "False\n",
      "False\n",
      "False\n",
      "True\n",
      "False\n",
      "False\n"
     ]
    }
   ],
   "source": [
    "for i in range(20):\n",
    "    a = nsprcomp.nsprcomp(prices[ : 5].T, ncomp=3, center = False, scale = False, nneg = True)\n",
    "    b = nsprcomp.nsprcomp(prices[ : 5].T, ncomp=3, center = False, scale = False, nneg = True)\n",
    "    \n",
    "    a_s = SVP(a[6].T)\n",
    "    b_s = SVP(b[6].T)\n",
    "    \n",
    "    print(sum(a_s - b_s < 0.01) == len(a_s))"
   ]
  },
  {
   "cell_type": "code",
   "execution_count": null,
   "id": "f7e2c65a",
   "metadata": {},
   "outputs": [],
   "source": []
  }
 ],
 "metadata": {
  "kernelspec": {
   "display_name": "Python 3",
   "language": "python",
   "name": "python3"
  },
  "language_info": {
   "codemirror_mode": {
    "name": "ipython",
    "version": 3
   },
   "file_extension": ".py",
   "mimetype": "text/x-python",
   "name": "python",
   "nbconvert_exporter": "python",
   "pygments_lexer": "ipython3",
   "version": "3.8.8"
  }
 },
 "nbformat": 4,
 "nbformat_minor": 5
}
