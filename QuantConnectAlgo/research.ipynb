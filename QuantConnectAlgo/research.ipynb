{
  "nbformat": 4,
  "nbformat_minor": 0,
  "metadata": {
    "colab": {
      "name": "research.ipynb",
      "provenance": []
    },
    "kernelspec": {
      "name": "python3",
      "display_name": "Python 3"
    },
    "language_info": {
      "name": "python"
    }
  },
  "cells": [
    {
      "cell_type": "code",
      "execution_count": null,
      "metadata": {
        "id": "kblm_S4zQnJ5"
      },
      "outputs": [],
      "source": [
        "# QuantBook Analysis Tool \n",
        "# For more information see [https://www.quantconnect.com/docs/research/overview]\n",
        "qb = QuantBook()\n",
        "spy = qb.AddEquity(\"SPY\")\n",
        "history = qb.History(qb.Securities.Keys, 360, Resolution.Daily)\n",
        "\n",
        "from catboost import CatBoostClassifier\n",
        "import numpy as np\n",
        "import pandas as pd\n",
        "import json"
      ]
    },
    {
      "cell_type": "code",
      "source": [
        "model_str = qb.Download('https://drive.google.com/uc?export=download&id=1OrJQCUg62aoEwB8fEkIjLIgDnzppfWKg').encode('utf-8', 'ignore')\n",
        "type(model_str)\n",
        "with open('/tmp/model.json', 'wb') as f:\n",
        "    f.write(model_str)\n",
        "model = CatBoostClassifier()\n",
        "model.load_model('/tmp/model.json', format='json')"
      ],
      "metadata": {
        "id": "90PBwGriQr_I"
      },
      "execution_count": null,
      "outputs": []
    },
    {
      "cell_type": "code",
      "source": [
        "data_str = qb.Download('...')\n",
        "data = pd.DataFrame()\n",
        "with open('/tmp/data.csv', 'w') as f:\n",
        "    f.write(data_str)\n",
        "data = pd.read_csv('/tmp/data.csv')"
      ],
      "metadata": {
        "id": "tGnooMAfQtt5"
      },
      "execution_count": null,
      "outputs": []
    }
  ]
}